{
 "cells": [
  {
   "cell_type": "markdown",
   "id": "accepting-feeling",
   "metadata": {},
   "source": [
    "# Trying Variation 5.0"
   ]
  },
  {
   "cell_type": "markdown",
   "id": "covered-botswana",
   "metadata": {},
   "source": [
    "## Adding Residual Connections"
   ]
  },
  {
   "cell_type": "code",
   "execution_count": 1,
   "id": "floppy-treasurer",
   "metadata": {},
   "outputs": [
    {
     "data": {
      "text/plain": [
       "True"
      ]
     },
     "execution_count": 1,
     "metadata": {},
     "output_type": "execute_result"
    }
   ],
   "source": [
    "import torch\n",
    "torch.cuda.is_available()"
   ]
  },
  {
   "cell_type": "code",
   "execution_count": 2,
   "id": "blond-system",
   "metadata": {},
   "outputs": [
    {
     "name": "stdout",
     "output_type": "stream",
     "text": [
      "3.8.5 (default, Sep  3 2020, 21:29:08) [MSC v.1916 64 bit (AMD64)]\n"
     ]
    }
   ],
   "source": [
    "import sys\n",
    "print(sys.version)"
   ]
  },
  {
   "cell_type": "code",
   "execution_count": 3,
   "id": "inner-credit",
   "metadata": {},
   "outputs": [],
   "source": [
    "import numpy as np\n",
    "import pandas as pd\n",
    "import torch.nn.functional as F\n",
    "import torch.nn as nn\n",
    "import torch.optim as optim\n",
    "import torchvision.transforms as transforms\n",
    "import matplotlib.pyplot as plt\n",
    "import datetime\n",
    "import os\n",
    "import torchvision\n",
    "import time\n",
    "import copy\n",
    "from torch.utils.tensorboard import SummaryWriter\n",
    "from torchsummary import summary"
   ]
  },
  {
   "cell_type": "code",
   "execution_count": 4,
   "id": "welsh-sound",
   "metadata": {},
   "outputs": [
    {
     "data": {
      "text/plain": [
       "'1.7.1+cu110'"
      ]
     },
     "execution_count": 4,
     "metadata": {},
     "output_type": "execute_result"
    }
   ],
   "source": [
    "torch.__version__"
   ]
  },
  {
   "cell_type": "code",
   "execution_count": 5,
   "id": "arabic-baseball",
   "metadata": {},
   "outputs": [],
   "source": [
    "from torchvision.datasets import CIFAR100\n",
    "from torch.utils.data import DataLoader"
   ]
  },
  {
   "cell_type": "markdown",
   "id": "verified-primary",
   "metadata": {},
   "source": [
    "##### Creating a function for getting training data CIFAR100"
   ]
  },
  {
   "cell_type": "code",
   "execution_count": 6,
   "id": "returning-simon",
   "metadata": {},
   "outputs": [],
   "source": [
    "def give_me_train_data(bs=128, num_workers=2, shuffle=True):\n",
    "    ''' would return a train dataloader for CIFAR100'''\n",
    "    mean = (0.5070751592371323, 0.48654887331495095, 0.4409178433670343)\n",
    "    std = (0.2673342858792401, 0.2564384629170883, 0.27615047132568404)\n",
    "    # defining the transformations on the train data\n",
    "    \n",
    "    transformations = [transforms.RandomCrop(32, padding=4),\n",
    "                       transforms.RandomHorizontalFlip(),\n",
    "                       transforms.RandomRotation(15),\n",
    "                       transforms.ToTensor(),\n",
    "                       transforms.Normalize(mean, std)]\n",
    "    transform_train = transforms.Compose(transformations)\n",
    "    \n",
    "    train_set = CIFAR100('./data/cifar100', train=True, \n",
    "                         download=True, transform=transform_train)\n",
    "    \n",
    "    train_loader = torch.utils.data.DataLoader(train_set, batch_size = bs,\n",
    "                                               shuffle=True, num_workers=num_workers)\n",
    "    return train_loader\n",
    "\n",
    "def give_me_test_data(bs=128, num_workers=2, shuffle=True):\n",
    "    ''' would return a test dataloader for CIFAR100'''\n",
    "    mean = (0.5070751592371323, 0.48654887331495095, 0.4409178433670343)\n",
    "    std = (0.2673342858792401, 0.2564384629170883, 0.27615047132568404)\n",
    "    \n",
    "    # defining transformations on the test data\n",
    "    \n",
    "    transformations = [transforms.ToTensor(), transforms.Normalize(mean, std)]\n",
    "    transform_test = transforms.Compose(transformations)\n",
    "    \n",
    "    valid_set = CIFAR100('./data/cifar100', train=False,\n",
    "                  download=True, transform=transform_test)\n",
    "    val_loader = torch.utils.data.DataLoader(valid_set, batch_size=bs, shuffle=False, \n",
    "                                             num_workers=num_workers)\n",
    "    return val_loader"
   ]
  },
  {
   "cell_type": "code",
   "execution_count": 7,
   "id": "obvious-tuner",
   "metadata": {},
   "outputs": [],
   "source": [
    "class Block(nn.Module):\n",
    "    def __init__(self, in_channels, out_channels, kz, pad, stride=1):\n",
    "        super(Block, self).__init__()\n",
    "\n",
    "        self.skip = nn.Sequential()\n",
    "\n",
    "        if stride != 1 or in_channels != out_channels:\n",
    "            self.skip = nn.Sequential(\n",
    "                nn.Conv2d(in_channels=in_channels, out_channels=out_channels, kernel_size=1, stride=stride, bias=False),\n",
    "                nn.BatchNorm2d(out_channels))\n",
    "        else:\n",
    "            self.skip = None\n",
    "\n",
    "        self.block = nn.Sequential(\n",
    "            nn.Conv2d(in_channels=in_channels, out_channels=out_channels, kernel_size=kz, padding=pad, stride=1, bias=False),\n",
    "            nn.BatchNorm2d(out_channels),\n",
    "            nn.ReLU(),\n",
    "            nn.Conv2d(in_channels=out_channels, out_channels=out_channels, kernel_size=kz, padding=pad, stride=1, bias=False),\n",
    "            nn.BatchNorm2d(out_channels))\n",
    "        \n",
    "    def forward(self, x):\n",
    "        identity = x\n",
    "        out = self.block(x)\n",
    "\n",
    "        if self.skip is not None:\n",
    "            identity = self.skip(x)\n",
    "\n",
    "        out += identity\n",
    "        out = F.relu(out)\n",
    "\n",
    "        return out    "
   ]
  },
  {
   "cell_type": "code",
   "execution_count": 8,
   "id": "knowing-amsterdam",
   "metadata": {},
   "outputs": [],
   "source": [
    "def _conv_block(in_f, out_f, activation = True, *args, **kwargs):\n",
    "    if activation:\n",
    "        return nn.Sequential(\n",
    "            nn.Conv2d(in_f, out_f, *args, **kwargs), \n",
    "            nn.BatchNorm2d(out_f), \n",
    "            nn.ReLU())\n",
    "    else: \n",
    "        return nn.Sequential(\n",
    "            nn.Conv2d(in_f, out_f, *args, **kwargs), \n",
    "            nn.BatchNorm2d(out_f))\n",
    "\n",
    "class SimpleResnet(nn.Module):\n",
    "    def __init__(self, in_c, n_classes):\n",
    "        super(SimpleResnet, self).__init__()\n",
    "        kz = 5\n",
    "        st = 1\n",
    "        padd = 2\n",
    "\n",
    "        self.conv_basic = _conv_block(in_c, 32, kernel_size = 1, stride = 1, padding = 0)\n",
    "        self.block1 = Block(32, 64, kz, padd, stride = st)\n",
    "        self.block2 = Block(64, 128, kz, padd, stride = st)\n",
    "        self.block3 = Block(128, 256, kz, padd, stride = st)\n",
    "        self.adaptive_pool = nn.AdaptiveAvgPool2d((2,2))        \n",
    "        \n",
    "        self.dense_decoder = nn.Sequential(\n",
    "            nn.Linear(1024, 1024), \n",
    "            nn.ReLU(),\n",
    "            nn.Linear(1024, 1024), \n",
    "            nn.ReLU(),\n",
    "            nn.Linear(1024, n_classes))\n",
    "        \n",
    "    def forward(self, x):\n",
    "        x = self.conv_basic(x)\n",
    "        x = self.block1(x)\n",
    "        x = self.block2(x)\n",
    "        x = self.block3(x)\n",
    "        \n",
    "        x = self.adaptive_pool(x)\n",
    "\n",
    "        x = x.view(x.size(0), -1)\n",
    "#         print(x.size())\n",
    "        x = self.dense_decoder(x)\n",
    "\n",
    "        return x"
   ]
  },
  {
   "cell_type": "markdown",
   "id": "public-composite",
   "metadata": {},
   "source": [
    "### Creating the model architecture"
   ]
  },
  {
   "cell_type": "markdown",
   "id": "unlimited-filling",
   "metadata": {},
   "source": [
    "#### Adding residual connections to the architecture created in Variation 4.0\n"
   ]
  },
  {
   "cell_type": "markdown",
   "id": "rotary-middle",
   "metadata": {},
   "source": [
    "##### Sending the model to gpu and printing the summary of the model architecture"
   ]
  },
  {
   "cell_type": "code",
   "execution_count": 9,
   "id": "rocky-sustainability",
   "metadata": {
    "scrolled": true
   },
   "outputs": [
    {
     "name": "stdout",
     "output_type": "stream",
     "text": [
      "----------------------------------------------------------------\n",
      "        Layer (type)               Output Shape         Param #\n",
      "================================================================\n",
      "            Conv2d-1           [-1, 32, 32, 32]             128\n",
      "       BatchNorm2d-2           [-1, 32, 32, 32]              64\n",
      "              ReLU-3           [-1, 32, 32, 32]               0\n",
      "            Conv2d-4           [-1, 64, 32, 32]          51,200\n",
      "       BatchNorm2d-5           [-1, 64, 32, 32]             128\n",
      "              ReLU-6           [-1, 64, 32, 32]               0\n",
      "            Conv2d-7           [-1, 64, 32, 32]         102,400\n",
      "       BatchNorm2d-8           [-1, 64, 32, 32]             128\n",
      "            Conv2d-9           [-1, 64, 32, 32]           2,048\n",
      "      BatchNorm2d-10           [-1, 64, 32, 32]             128\n",
      "            Block-11           [-1, 64, 32, 32]               0\n",
      "           Conv2d-12          [-1, 128, 32, 32]         204,800\n",
      "      BatchNorm2d-13          [-1, 128, 32, 32]             256\n",
      "             ReLU-14          [-1, 128, 32, 32]               0\n",
      "           Conv2d-15          [-1, 128, 32, 32]         409,600\n",
      "      BatchNorm2d-16          [-1, 128, 32, 32]             256\n",
      "           Conv2d-17          [-1, 128, 32, 32]           8,192\n",
      "      BatchNorm2d-18          [-1, 128, 32, 32]             256\n",
      "            Block-19          [-1, 128, 32, 32]               0\n",
      "           Conv2d-20          [-1, 256, 32, 32]         819,200\n",
      "      BatchNorm2d-21          [-1, 256, 32, 32]             512\n",
      "             ReLU-22          [-1, 256, 32, 32]               0\n",
      "           Conv2d-23          [-1, 256, 32, 32]       1,638,400\n",
      "      BatchNorm2d-24          [-1, 256, 32, 32]             512\n",
      "           Conv2d-25          [-1, 256, 32, 32]          32,768\n",
      "      BatchNorm2d-26          [-1, 256, 32, 32]             512\n",
      "            Block-27          [-1, 256, 32, 32]               0\n",
      "AdaptiveAvgPool2d-28            [-1, 256, 2, 2]               0\n",
      "           Linear-29                 [-1, 1024]       1,049,600\n",
      "             ReLU-30                 [-1, 1024]               0\n",
      "           Linear-31                 [-1, 1024]       1,049,600\n",
      "             ReLU-32                 [-1, 1024]               0\n",
      "           Linear-33                  [-1, 100]         102,500\n",
      "================================================================\n",
      "Total params: 5,473,188\n",
      "Trainable params: 5,473,188\n",
      "Non-trainable params: 0\n",
      "----------------------------------------------------------------\n",
      "Input size (MB): 0.01\n",
      "Forward/backward pass size (MB): 28.79\n",
      "Params size (MB): 20.88\n",
      "Estimated Total Size (MB): 49.68\n",
      "----------------------------------------------------------------\n"
     ]
    }
   ],
   "source": [
    "device = 'cuda'\n",
    "model = SimpleResnet(3, 100)\n",
    "model.to(device) # sending our model to gpu.\n",
    "\n",
    "# Printing the summary of our model. \n",
    "input_shape = (3, 32, 32)\n",
    "summary(model, input_shape)"
   ]
  },
  {
   "cell_type": "markdown",
   "id": "caroline-light",
   "metadata": {},
   "source": [
    "##### Preparing our data loaders for training and test.\n",
    "Batch size is 128 (tried 256 and 512, 128 gives better performance)"
   ]
  },
  {
   "cell_type": "code",
   "execution_count": 10,
   "id": "expensive-birth",
   "metadata": {},
   "outputs": [
    {
     "name": "stdout",
     "output_type": "stream",
     "text": [
      "Files already downloaded and verified\n",
      "Files already downloaded and verified\n"
     ]
    }
   ],
   "source": [
    "train_loader = give_me_train_data(bs = 128, num_workers=4, shuffle=True)\n",
    "val_loader = give_me_test_data(bs = 128, num_workers=4, shuffle=False)"
   ]
  },
  {
   "cell_type": "code",
   "execution_count": 11,
   "id": "italian-testament",
   "metadata": {},
   "outputs": [],
   "source": [
    "optimizer = optim.SGD(model.parameters(), lr=0.01, momentum=0.9, nesterov=True)\n",
    "scheduler = optim.lr_scheduler.ReduceLROnPlateau(optimizer,'min')\n",
    "loss_fn = nn.CrossEntropyLoss()"
   ]
  },
  {
   "cell_type": "code",
   "execution_count": 12,
   "id": "assisted-chuck",
   "metadata": {
    "scrolled": true
   },
   "outputs": [
    {
     "data": {
      "text/plain": [
       "SimpleResnet(\n",
       "  (conv_basic): Sequential(\n",
       "    (0): Conv2d(3, 32, kernel_size=(1, 1), stride=(1, 1))\n",
       "    (1): BatchNorm2d(32, eps=1e-05, momentum=0.1, affine=True, track_running_stats=True)\n",
       "    (2): ReLU()\n",
       "  )\n",
       "  (block1): Block(\n",
       "    (skip): Sequential(\n",
       "      (0): Conv2d(32, 64, kernel_size=(1, 1), stride=(1, 1), bias=False)\n",
       "      (1): BatchNorm2d(64, eps=1e-05, momentum=0.1, affine=True, track_running_stats=True)\n",
       "    )\n",
       "    (block): Sequential(\n",
       "      (0): Conv2d(32, 64, kernel_size=(5, 5), stride=(1, 1), padding=(2, 2), bias=False)\n",
       "      (1): BatchNorm2d(64, eps=1e-05, momentum=0.1, affine=True, track_running_stats=True)\n",
       "      (2): ReLU()\n",
       "      (3): Conv2d(64, 64, kernel_size=(5, 5), stride=(1, 1), padding=(2, 2), bias=False)\n",
       "      (4): BatchNorm2d(64, eps=1e-05, momentum=0.1, affine=True, track_running_stats=True)\n",
       "    )\n",
       "  )\n",
       "  (block2): Block(\n",
       "    (skip): Sequential(\n",
       "      (0): Conv2d(64, 128, kernel_size=(1, 1), stride=(1, 1), bias=False)\n",
       "      (1): BatchNorm2d(128, eps=1e-05, momentum=0.1, affine=True, track_running_stats=True)\n",
       "    )\n",
       "    (block): Sequential(\n",
       "      (0): Conv2d(64, 128, kernel_size=(5, 5), stride=(1, 1), padding=(2, 2), bias=False)\n",
       "      (1): BatchNorm2d(128, eps=1e-05, momentum=0.1, affine=True, track_running_stats=True)\n",
       "      (2): ReLU()\n",
       "      (3): Conv2d(128, 128, kernel_size=(5, 5), stride=(1, 1), padding=(2, 2), bias=False)\n",
       "      (4): BatchNorm2d(128, eps=1e-05, momentum=0.1, affine=True, track_running_stats=True)\n",
       "    )\n",
       "  )\n",
       "  (block3): Block(\n",
       "    (skip): Sequential(\n",
       "      (0): Conv2d(128, 256, kernel_size=(1, 1), stride=(1, 1), bias=False)\n",
       "      (1): BatchNorm2d(256, eps=1e-05, momentum=0.1, affine=True, track_running_stats=True)\n",
       "    )\n",
       "    (block): Sequential(\n",
       "      (0): Conv2d(128, 256, kernel_size=(5, 5), stride=(1, 1), padding=(2, 2), bias=False)\n",
       "      (1): BatchNorm2d(256, eps=1e-05, momentum=0.1, affine=True, track_running_stats=True)\n",
       "      (2): ReLU()\n",
       "      (3): Conv2d(256, 256, kernel_size=(5, 5), stride=(1, 1), padding=(2, 2), bias=False)\n",
       "      (4): BatchNorm2d(256, eps=1e-05, momentum=0.1, affine=True, track_running_stats=True)\n",
       "    )\n",
       "  )\n",
       "  (adaptive_pool): AdaptiveAvgPool2d(output_size=(2, 2))\n",
       "  (dense_decoder): Sequential(\n",
       "    (0): Linear(in_features=1024, out_features=1024, bias=True)\n",
       "    (1): ReLU()\n",
       "    (2): Linear(in_features=1024, out_features=1024, bias=True)\n",
       "    (3): ReLU()\n",
       "    (4): Linear(in_features=1024, out_features=100, bias=True)\n",
       "  )\n",
       ")"
      ]
     },
     "execution_count": 12,
     "metadata": {},
     "output_type": "execute_result"
    }
   ],
   "source": [
    "# Initialize the weights of layers.\n",
    "def init_weights(m):\n",
    "    if type(m) == nn.Linear:\n",
    "        torch.nn.init.xavier_uniform_(m.weight)\n",
    "        m.bias.data.fill_(0.01)\n",
    "        \n",
    "model.apply(init_weights)"
   ]
  },
  {
   "cell_type": "code",
   "execution_count": 13,
   "id": "union-citizenship",
   "metadata": {},
   "outputs": [],
   "source": [
    "def train_model(model, dataloaders, criterion, optimizer, num_epochs=25):\n",
    "    since = time.time()\n",
    "\n",
    "    val_acc_history, val_loss_history = [], []\n",
    "    train_acc_history, train_loss_history = [], []\n",
    "\n",
    "    best_model_wts = copy.deepcopy(model.state_dict())\n",
    "    best_acc = 0.0\n",
    "    loss_train = 0.0\n",
    "\n",
    "    for epoch in range(1, num_epochs+1):\n",
    "        print('Epoch {}/{}'.format(epoch, num_epochs))\n",
    "        print('-' * 10)\n",
    "\n",
    "        # Each epoch has a training and validation phase\n",
    "        for phase in ['train', 'val']:\n",
    "            if phase == 'train':\n",
    "                model.train()  # Set model to training mode\n",
    "            else:\n",
    "                model.eval()   # Set model to evaluate mode\n",
    "\n",
    "            running_loss = 0.0\n",
    "            running_corrects = 0\n",
    "\n",
    "            # Iterate over data.\n",
    "            for inputs, labels in dataloaders[phase]:\n",
    "                inputs = inputs.to(device)\n",
    "                labels = labels.to(device)\n",
    "\n",
    "                # zero the parameter gradients\n",
    "                optimizer.zero_grad()\n",
    "\n",
    "                # forward\n",
    "                # track history if only in train\n",
    "                with torch.set_grad_enabled(phase == 'train'):\n",
    "                    # Get model outputs and calculate loss\n",
    "                    outputs = model(inputs)\n",
    "                    loss = criterion(outputs, labels)\n",
    "\n",
    "                    _, preds = torch.max(outputs, 1)\n",
    "\n",
    "                    # backward + optimize only if in training phase\n",
    "                    if phase == 'train':\n",
    "                        loss.backward()\n",
    "                        optimizer.step()\n",
    "                        loss_train += loss.item()\n",
    "\n",
    "                # statistics\n",
    "                running_loss += loss.item() * inputs.size(0)\n",
    "                running_corrects += torch.sum(preds == labels.data)\n",
    "\n",
    "            epoch_loss = running_loss / len(dataloaders[phase].dataset)\n",
    "            epoch_acc = running_corrects.double() / len(dataloaders[phase].dataset)\n",
    "\n",
    "            print('{} Loss: {:.4f} Acc: {:.4f}'.format(phase, epoch_loss, epoch_acc))\n",
    "            \n",
    "            # deep copy the model\n",
    "            if phase == 'val' and epoch_acc > best_acc:\n",
    "                best_acc = epoch_acc\n",
    "                best_model_wts = copy.deepcopy(model.state_dict())\n",
    "            if phase == 'val':\n",
    "                val_acc_history.append(epoch_acc)\n",
    "                val_loss_history.append(epoch_loss)\n",
    "            if phase == 'train':\n",
    "                train_acc_history.append(epoch_acc)\n",
    "                train_loss_history.append(epoch_loss)\n",
    "                \n",
    "        # decreasing learning rate with the epochs\n",
    "        scheduler.step(loss_train)\n",
    "        print()\n",
    "\n",
    "    time_elapsed = time.time() - since\n",
    "    print('Training complete in {:.0f}m {:.0f}s'.format(time_elapsed // 60, time_elapsed % 60))\n",
    "    print('Best val Acc: {:4f}'.format(best_acc))\n",
    "\n",
    "    # load best model weights\n",
    "    model.load_state_dict(best_model_wts)\n",
    "    return model, val_acc_history, val_loss_history, train_acc_history, train_loss_history"
   ]
  },
  {
   "cell_type": "code",
   "execution_count": 14,
   "id": "annual-poison",
   "metadata": {},
   "outputs": [],
   "source": [
    "# validate the training on validation set\n",
    "def validate(model, train_loader, val_loader):\n",
    "    for name, loader in [('train', train_loader), ('val', val_loader)]:\n",
    "        correct = 0\n",
    "        total = 0\n",
    "        print(name)\n",
    "        print(loader)\n",
    "        with torch.no_grad():\n",
    "            for imgs, labels in loader:\n",
    "                imgs = imgs.to(device=device)\n",
    "                labels = labels.to(device=device)\n",
    "                \n",
    "                y = model(imgs)\n",
    "                _, predicted = torch.max(y, dim=1)\n",
    "                total += labels.shape[0]\n",
    "                correct += int((predicted == labels).sum())\n",
    "        print(\"Accuracy {}: {:.4f}\".format(name, correct/total))\n",
    "        print(\"{}: correct, total = {},{}\".format(name, correct, total))"
   ]
  },
  {
   "cell_type": "code",
   "execution_count": 14,
   "id": "material-worth",
   "metadata": {
    "scrolled": true
   },
   "outputs": [
    {
     "name": "stdout",
     "output_type": "stream",
     "text": [
      "----------------------------------------------------------------\n",
      "        Layer (type)               Output Shape         Param #\n",
      "================================================================\n",
      "            Conv2d-1           [-1, 32, 16, 16]             128\n",
      "       BatchNorm2d-2           [-1, 32, 16, 16]              64\n",
      "              ReLU-3           [-1, 32, 16, 16]               0\n",
      "            Conv2d-4           [-1, 64, 16, 16]          18,496\n",
      "       BatchNorm2d-5           [-1, 64, 16, 16]             128\n",
      "              ReLU-6           [-1, 64, 16, 16]               0\n",
      "            Conv2d-7           [-1, 64, 16, 16]          36,928\n",
      "       BatchNorm2d-8           [-1, 64, 16, 16]             128\n",
      "              ReLU-9           [-1, 64, 16, 16]               0\n",
      "           Conv2d-10          [-1, 128, 16, 16]          73,856\n",
      "      BatchNorm2d-11          [-1, 128, 16, 16]             256\n",
      "             ReLU-12          [-1, 128, 16, 16]               0\n",
      "           Conv2d-13          [-1, 128, 16, 16]         147,584\n",
      "      BatchNorm2d-14          [-1, 128, 16, 16]             256\n",
      "             ReLU-15          [-1, 128, 16, 16]               0\n",
      "           Conv2d-16          [-1, 256, 16, 16]         295,168\n",
      "      BatchNorm2d-17          [-1, 256, 16, 16]             512\n",
      "             ReLU-18          [-1, 256, 16, 16]               0\n",
      "           Conv2d-19          [-1, 256, 16, 16]         590,080\n",
      "      BatchNorm2d-20          [-1, 256, 16, 16]             512\n",
      "             ReLU-21          [-1, 256, 16, 16]               0\n",
      "AdaptiveAvgPool2d-22            [-1, 256, 2, 2]               0\n",
      "           Linear-23                 [-1, 1024]       1,049,600\n",
      "             ReLU-24                 [-1, 1024]               0\n",
      "           Linear-25                 [-1, 1024]       1,049,600\n",
      "             ReLU-26                 [-1, 1024]               0\n",
      "           Linear-27                  [-1, 100]         102,500\n",
      "================================================================\n",
      "Total params: 3,365,796\n",
      "Trainable params: 3,365,796\n",
      "Non-trainable params: 0\n",
      "----------------------------------------------------------------\n",
      "Input size (MB): 0.01\n",
      "Forward/backward pass size (MB): 5.48\n",
      "Params size (MB): 12.84\n",
      "Estimated Total Size (MB): 18.33\n",
      "----------------------------------------------------------------\n"
     ]
    }
   ],
   "source": [
    "# Printing the summary of our model. \n",
    "input_shape = (3, 32, 32)\n",
    "summary(model, input_shape)"
   ]
  },
  {
   "cell_type": "code",
   "execution_count": 15,
   "id": "thorough-white",
   "metadata": {
    "scrolled": true
   },
   "outputs": [
    {
     "name": "stdout",
     "output_type": "stream",
     "text": [
      "Epoch 1/10\n",
      "----------\n",
      "train Loss: 3.6998 Acc: 0.1356\n",
      "val Loss: 3.3488 Acc: 0.1897\n",
      "\n",
      "Epoch 2/10\n",
      "----------\n",
      "train Loss: 3.0540 Acc: 0.2435\n",
      "val Loss: 2.8761 Acc: 0.2824\n",
      "\n",
      "Epoch 3/10\n",
      "----------\n",
      "train Loss: 2.7015 Acc: 0.3125\n",
      "val Loss: 2.6360 Acc: 0.3354\n",
      "\n",
      "Epoch 4/10\n",
      "----------\n",
      "train Loss: 2.4456 Acc: 0.3654\n",
      "val Loss: 2.3047 Acc: 0.3965\n",
      "\n",
      "Epoch 5/10\n",
      "----------\n",
      "train Loss: 2.2529 Acc: 0.4069\n",
      "val Loss: 2.4310 Acc: 0.3867\n",
      "\n",
      "Epoch 6/10\n",
      "----------\n",
      "train Loss: 2.0978 Acc: 0.4394\n",
      "val Loss: 2.0882 Acc: 0.4515\n",
      "\n",
      "Epoch 7/10\n",
      "----------\n",
      "train Loss: 1.9656 Acc: 0.4733\n",
      "val Loss: 2.1917 Acc: 0.4440\n",
      "\n",
      "Epoch 8/10\n",
      "----------\n",
      "train Loss: 1.8563 Acc: 0.4929\n",
      "val Loss: 2.0805 Acc: 0.4671\n",
      "\n",
      "Epoch 9/10\n",
      "----------\n",
      "train Loss: 1.7591 Acc: 0.5164\n",
      "val Loss: 1.9359 Acc: 0.4956\n",
      "\n",
      "Epoch 10/10\n",
      "----------\n",
      "train Loss: 1.6786 Acc: 0.5349\n",
      "val Loss: 1.8654 Acc: 0.5134\n",
      "\n",
      "Training complete in 21m 41s\n",
      "Best val Acc: 0.513400\n"
     ]
    }
   ],
   "source": [
    "dataloaders_dict = {'train': train_loader, 'val': val_loader}\n",
    "num_epochs = 10\n",
    "\n",
    "model_fit, val_acc_hist, val_loss_hist, train_acc_hist, train_loss_hist = train_model(model,\n",
    "                                                                                      dataloaders_dict,\n",
    "                                                                                      loss_fn,\n",
    "                                                                                      optimizer,\n",
    "                                                                                      num_epochs)"
   ]
  },
  {
   "cell_type": "code",
   "execution_count": 16,
   "id": "aggregate-exercise",
   "metadata": {},
   "outputs": [
    {
     "data": {
      "image/png": "[encoded data removed]",
      "text/plain": [
       "<Figure size 432x288 with 1 Axes>"
      ]
     },
     "metadata": {
      "needs_background": "light"
     },
     "output_type": "display_data"
    }
   ],
   "source": [
    "v_loss = [v for v in val_loss_hist]\n",
    "t_loss = [t for t in train_loss_hist]\n",
    "\n",
    "plt.title(\"Validation loss and training loss vs Number of Training Epochs\")\n",
    "plt.xlabel(\"Training Epochs\")\n",
    "plt.ylabel(\"Loss\")\n",
    "plt.plot(range(1, num_epochs+1), v_loss, label=\"Validation Loss\")\n",
    "plt.plot(range(1, num_epochs+1), t_loss, label=\"Training Loss\")\n",
    "# plt.ylim((0,1.))\n",
    "plt.xticks(np.arange(1, num_epochs+1, 1.0))\n",
    "plt.legend()\n",
    "plt.show()"
   ]
  },
  {
   "cell_type": "code",
   "execution_count": 17,
   "id": "excess-archives",
   "metadata": {},
   "outputs": [
    {
     "name": "stdout",
     "output_type": "stream",
     "text": [
      "train\n",
      "<torch.utils.data.dataloader.DataLoader object at 0x000001AABBC0B2B0>\n",
      "Accuracy train: 0.5501\n",
      "train: correct, total = 27503,50000\n",
      "val\n",
      "<torch.utils.data.dataloader.DataLoader object at 0x000001AABBC0BF40>\n",
      "Accuracy val: 0.5134\n",
      "val: correct, total = 5134,10000\n"
     ]
    }
   ],
   "source": [
    "validate(model, train_loader, val_loader)"
   ]
  },
  {
   "cell_type": "code",
   "execution_count": null,
   "id": "dominant-arctic",
   "metadata": {},
   "outputs": [],
   "source": []
  }
 ],
 "metadata": {
  "kernelspec": {
   "display_name": "mypytorch",
   "language": "python",
   "name": "mypytorch"
  },
  "language_info": {
   "codemirror_mode": {
    "name": "ipython",
    "version": 3
   },
   "file_extension": ".py",
   "mimetype": "text/x-python",
   "name": "python",
   "nbconvert_exporter": "python",
   "pygments_lexer": "ipython3",
   "version": "3.8.5"
  }
 },
 "nbformat": 4,
 "nbformat_minor": 5
}
