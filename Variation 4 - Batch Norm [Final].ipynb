{
 "cells": [
  {
   "cell_type": "markdown",
   "id": "accepting-feeling",
   "metadata": {},
   "source": [
    "# Trying Variations 4.0"
   ]
  },
  {
   "cell_type": "markdown",
   "id": "covered-botswana",
   "metadata": {},
   "source": [
    "## 4. Adding Batch Norm and 1x1 filter"
   ]
  },
  {
   "cell_type": "code",
   "execution_count": 1,
   "id": "floppy-treasurer",
   "metadata": {},
   "outputs": [
    {
     "data": {
      "text/plain": [
       "True"
      ]
     },
     "execution_count": 1,
     "metadata": {},
     "output_type": "execute_result"
    }
   ],
   "source": [
    "import torch\n",
    "torch.cuda.is_available()"
   ]
  },
  {
   "cell_type": "code",
   "execution_count": 2,
   "id": "blond-system",
   "metadata": {},
   "outputs": [
    {
     "name": "stdout",
     "output_type": "stream",
     "text": [
      "3.8.5 (default, Sep  3 2020, 21:29:08) [MSC v.1916 64 bit (AMD64)]\n"
     ]
    }
   ],
   "source": [
    "import sys\n",
    "print(sys.version)"
   ]
  },
  {
   "cell_type": "code",
   "execution_count": 3,
   "id": "inner-credit",
   "metadata": {},
   "outputs": [],
   "source": [
    "import numpy as np\n",
    "import pandas as pd\n",
    "import torch.nn.functional as F\n",
    "import torch.nn as nn\n",
    "import torch.optim as optim\n",
    "import torchvision.transforms as transforms\n",
    "import matplotlib.pyplot as plt\n",
    "import datetime\n",
    "import os\n",
    "import torchvision\n",
    "import time\n",
    "import copy\n",
    "from torch.utils.tensorboard import SummaryWriter\n",
    "from torchsummary import summary"
   ]
  },
  {
   "cell_type": "code",
   "execution_count": 4,
   "id": "welsh-sound",
   "metadata": {},
   "outputs": [
    {
     "data": {
      "text/plain": [
       "'1.7.1+cu110'"
      ]
     },
     "execution_count": 4,
     "metadata": {},
     "output_type": "execute_result"
    }
   ],
   "source": [
    "torch.__version__"
   ]
  },
  {
   "cell_type": "code",
   "execution_count": 5,
   "id": "arabic-baseball",
   "metadata": {},
   "outputs": [],
   "source": [
    "from torchvision.datasets import CIFAR100\n",
    "from torch.utils.data import DataLoader"
   ]
  },
  {
   "cell_type": "markdown",
   "id": "verified-primary",
   "metadata": {},
   "source": [
    "##### Creating a function for getting training data CIFAR100"
   ]
  },
  {
   "cell_type": "code",
   "execution_count": 6,
   "id": "returning-simon",
   "metadata": {},
   "outputs": [],
   "source": [
    "def give_me_train_data(bs=128, num_workers=2, shuffle=True):\n",
    "    ''' would return a train dataloader for CIFAR100'''\n",
    "    mean = (0.5070751592371323, 0.48654887331495095, 0.4409178433670343)\n",
    "    std = (0.2673342858792401, 0.2564384629170883, 0.27615047132568404)\n",
    "    # defining the transformations on the train data\n",
    "    \n",
    "    transformations = [transforms.RandomCrop(32, padding=4),\n",
    "                       transforms.RandomHorizontalFlip(),\n",
    "                       transforms.RandomRotation(15),\n",
    "                       transforms.ToTensor(),\n",
    "                       transforms.Normalize(mean, std)]\n",
    "    transform_train = transforms.Compose(transformations)\n",
    "    \n",
    "    train_set = CIFAR100('./data/cifar100', train=True, \n",
    "                         download=True, transform=transform_train)\n",
    "    \n",
    "    train_loader = torch.utils.data.DataLoader(train_set, batch_size = bs,\n",
    "                                               shuffle=True, num_workers=num_workers)\n",
    "    return train_loader\n",
    "\n",
    "def give_me_test_data(bs=128, num_workers=2, shuffle=True):\n",
    "    ''' would return a test dataloader for CIFAR100'''\n",
    "    mean = (0.5070751592371323, 0.48654887331495095, 0.4409178433670343)\n",
    "    std = (0.2673342858792401, 0.2564384629170883, 0.27615047132568404)\n",
    "    \n",
    "    # defining transformations on the test data\n",
    "    \n",
    "    transformations = [transforms.ToTensor(), transforms.Normalize(mean, std)]\n",
    "    transform_test = transforms.Compose(transformations)\n",
    "    \n",
    "    valid_set = CIFAR100('./data/cifar100', train=False,\n",
    "                  download=True, transform=transform_test)\n",
    "    val_loader = torch.utils.data.DataLoader(valid_set, batch_size=bs, shuffle=False, \n",
    "                                             num_workers=num_workers)\n",
    "    return val_loader"
   ]
  },
  {
   "cell_type": "markdown",
   "id": "public-composite",
   "metadata": {},
   "source": [
    "### Creating the model architecture"
   ]
  },
  {
   "cell_type": "markdown",
   "id": "interesting-cameroon",
   "metadata": {},
   "source": [
    "#### Following Changes have been made to the orignal archtecture\n",
    "\n",
    "1. Added a convolutional of channel size = 32 at the beginning of the network with kernel size of 1, stride of 1, and padding of 0\n",
    "\n",
    "2. Added Batch Norm before every ReLU activation\n",
    "\n",
    "3. Removed Maxpooling layer (to further add residual connections)\n",
    "\n",
    "4. Added a Adaptive Average Pooling at the very end\n",
    "\n",
    "Arch from Variation 2, Trial 2 (model with layers 11, 22, 33 performed better on 10 epochs; hence considering it for this variation)"
   ]
  },
  {
   "cell_type": "code",
   "execution_count": 12,
   "id": "palestinian-small",
   "metadata": {},
   "outputs": [],
   "source": [
    "def _conv_block(in_f, out_f, *args, **kwargs):\n",
    "    return nn.Sequential(\n",
    "        nn.Conv2d(in_f, out_f, *args, **kwargs), \n",
    "        nn.BatchNorm2d(out_f), \n",
    "        nn.ReLU())\n",
    "\n",
    "class SimpleResNet(nn.Module):\n",
    "    def __init__(self, in_c, n_classes):\n",
    "        super(SimpleResNet, self).__init__()\n",
    "        # creating conv blocks with 1 Conv layer, 1 Batch Norm, ReLU\n",
    "        kz = 5\n",
    "        st = 1\n",
    "        padd = 2\n",
    "        self.conv_basic = _conv_block(in_c, 32, kernel_size = 1, stride = 1, padding = 0)\n",
    "        \n",
    "        self.conv_block11 = _conv_block(32, 64, kernel_size = kz, stride = st, padding = padd)\n",
    "        self.conv_block12 = _conv_block(64, 64, kernel_size = kz, stride = st, padding = padd)\n",
    "        \n",
    "        self.conv_block21 = _conv_block(64, 128, kernel_size = kz, stride = st, padding = padd)\n",
    "        self.conv_block22 = _conv_block(128, 128, kernel_size = kz, stride = st, padding = padd)\n",
    "\n",
    "        self.conv_block31 = _conv_block(128, 256, kernel_size = kz, stride = st, padding = padd)\n",
    "        self.conv_block32 = _conv_block(256, 256, kernel_size = kz, stride = st, padding = padd)\n",
    "        \n",
    "        self.pool = nn.MaxPool2d(2, 2)\n",
    "        self.adaptive_pool = nn.AdaptiveAvgPool2d((2,2))\n",
    "        self.dense_decoder = nn.Sequential(\n",
    "            nn.Linear(1024, 1024), \n",
    "            nn.ReLU(),\n",
    "            nn.Linear(1024, 1024), \n",
    "            nn.ReLU(),\n",
    "            nn.Linear(1024, n_classes))\n",
    "\n",
    "        \n",
    "    def forward(self, x):\n",
    "        x = self.conv_basic(x)\n",
    "        x = self.conv_block11(x)\n",
    "        x = self.conv_block12(x)\n",
    "        \n",
    "        x = self.conv_block21(x)\n",
    "        x = self.conv_block22(x)\n",
    "        \n",
    "        x = self.conv_block31(x)\n",
    "        x = self.conv_block32(x)\n",
    "\n",
    "        x = self.adaptive_pool(x)\n",
    "        x = x.view(x.size(0), -1)\n",
    "        x = self.dense_decoder(x)\n",
    "        \n",
    "        return x"
   ]
  },
  {
   "cell_type": "markdown",
   "id": "rotary-middle",
   "metadata": {},
   "source": [
    "##### Sending the model to gpu and printing the summary of the model architecture"
   ]
  },
  {
   "cell_type": "code",
   "execution_count": 13,
   "id": "rocky-sustainability",
   "metadata": {
    "scrolled": true
   },
   "outputs": [
    {
     "name": "stdout",
     "output_type": "stream",
     "text": [
      "----------------------------------------------------------------\n",
      "        Layer (type)               Output Shape         Param #\n",
      "================================================================\n",
      "            Conv2d-1           [-1, 32, 32, 32]             128\n",
      "       BatchNorm2d-2           [-1, 32, 32, 32]              64\n",
      "              ReLU-3           [-1, 32, 32, 32]               0\n",
      "            Conv2d-4           [-1, 64, 32, 32]          51,264\n",
      "       BatchNorm2d-5           [-1, 64, 32, 32]             128\n",
      "              ReLU-6           [-1, 64, 32, 32]               0\n",
      "            Conv2d-7           [-1, 64, 32, 32]         102,464\n",
      "       BatchNorm2d-8           [-1, 64, 32, 32]             128\n",
      "              ReLU-9           [-1, 64, 32, 32]               0\n",
      "           Conv2d-10          [-1, 128, 32, 32]         204,928\n",
      "      BatchNorm2d-11          [-1, 128, 32, 32]             256\n",
      "             ReLU-12          [-1, 128, 32, 32]               0\n",
      "           Conv2d-13          [-1, 128, 32, 32]         409,728\n",
      "      BatchNorm2d-14          [-1, 128, 32, 32]             256\n",
      "             ReLU-15          [-1, 128, 32, 32]               0\n",
      "           Conv2d-16          [-1, 256, 32, 32]         819,456\n",
      "      BatchNorm2d-17          [-1, 256, 32, 32]             512\n",
      "             ReLU-18          [-1, 256, 32, 32]               0\n",
      "           Conv2d-19          [-1, 256, 32, 32]       1,638,656\n",
      "      BatchNorm2d-20          [-1, 256, 32, 32]             512\n",
      "             ReLU-21          [-1, 256, 32, 32]               0\n",
      "AdaptiveAvgPool2d-22            [-1, 256, 2, 2]               0\n",
      "           Linear-23                 [-1, 1024]       1,049,600\n",
      "             ReLU-24                 [-1, 1024]               0\n",
      "           Linear-25                 [-1, 1024]       1,049,600\n",
      "             ReLU-26                 [-1, 1024]               0\n",
      "           Linear-27                  [-1, 100]         102,500\n",
      "================================================================\n",
      "Total params: 5,430,180\n",
      "Trainable params: 5,430,180\n",
      "Non-trainable params: 0\n",
      "----------------------------------------------------------------\n",
      "Input size (MB): 0.01\n",
      "Forward/backward pass size (MB): 21.79\n",
      "Params size (MB): 20.71\n",
      "Estimated Total Size (MB): 42.52\n",
      "----------------------------------------------------------------\n"
     ]
    }
   ],
   "source": [
    "device = 'cuda'\n",
    "model = SimpleResNet(3, 100)\n",
    "model.to(device) # sending our model to gpu.\n",
    "\n",
    "# Printing the summary of our model. \n",
    "input_shape = (3, 32, 32)\n",
    "summary(model, input_shape)"
   ]
  },
  {
   "cell_type": "markdown",
   "id": "caroline-light",
   "metadata": {},
   "source": [
    "##### Preparing our data loaders for training and test.\n",
    "Batch size is 128 (tried 256 and 512, 128 gives better performance)"
   ]
  },
  {
   "cell_type": "code",
   "execution_count": 14,
   "id": "expensive-birth",
   "metadata": {},
   "outputs": [
    {
     "name": "stdout",
     "output_type": "stream",
     "text": [
      "Files already downloaded and verified\n",
      "Files already downloaded and verified\n"
     ]
    }
   ],
   "source": [
    "train_loader = give_me_train_data(bs = 128, num_workers=4, shuffle=True)\n",
    "val_loader = give_me_test_data(bs = 128, num_workers=4, shuffle=False)"
   ]
  },
  {
   "cell_type": "code",
   "execution_count": 15,
   "id": "artistic-raising",
   "metadata": {},
   "outputs": [],
   "source": [
    "optimizer = optim.SGD(model.parameters(), lr=0.01, momentum=0.9, nesterov=True)\n",
    "scheduler = optim.lr_scheduler.ReduceLROnPlateau(optimizer,'min')\n",
    "loss_fn = nn.CrossEntropyLoss()"
   ]
  },
  {
   "cell_type": "code",
   "execution_count": 16,
   "id": "assisted-chuck",
   "metadata": {
    "scrolled": true
   },
   "outputs": [
    {
     "data": {
      "text/plain": [
       "SimpleResNet(\n",
       "  (conv_basic): Sequential(\n",
       "    (0): Conv2d(3, 32, kernel_size=(1, 1), stride=(1, 1))\n",
       "    (1): BatchNorm2d(32, eps=1e-05, momentum=0.1, affine=True, track_running_stats=True)\n",
       "    (2): ReLU()\n",
       "  )\n",
       "  (conv_block11): Sequential(\n",
       "    (0): Conv2d(32, 64, kernel_size=(5, 5), stride=(1, 1), padding=(2, 2))\n",
       "    (1): BatchNorm2d(64, eps=1e-05, momentum=0.1, affine=True, track_running_stats=True)\n",
       "    (2): ReLU()\n",
       "  )\n",
       "  (conv_block12): Sequential(\n",
       "    (0): Conv2d(64, 64, kernel_size=(5, 5), stride=(1, 1), padding=(2, 2))\n",
       "    (1): BatchNorm2d(64, eps=1e-05, momentum=0.1, affine=True, track_running_stats=True)\n",
       "    (2): ReLU()\n",
       "  )\n",
       "  (conv_block21): Sequential(\n",
       "    (0): Conv2d(64, 128, kernel_size=(5, 5), stride=(1, 1), padding=(2, 2))\n",
       "    (1): BatchNorm2d(128, eps=1e-05, momentum=0.1, affine=True, track_running_stats=True)\n",
       "    (2): ReLU()\n",
       "  )\n",
       "  (conv_block22): Sequential(\n",
       "    (0): Conv2d(128, 128, kernel_size=(5, 5), stride=(1, 1), padding=(2, 2))\n",
       "    (1): BatchNorm2d(128, eps=1e-05, momentum=0.1, affine=True, track_running_stats=True)\n",
       "    (2): ReLU()\n",
       "  )\n",
       "  (conv_block31): Sequential(\n",
       "    (0): Conv2d(128, 256, kernel_size=(5, 5), stride=(1, 1), padding=(2, 2))\n",
       "    (1): BatchNorm2d(256, eps=1e-05, momentum=0.1, affine=True, track_running_stats=True)\n",
       "    (2): ReLU()\n",
       "  )\n",
       "  (conv_block32): Sequential(\n",
       "    (0): Conv2d(256, 256, kernel_size=(5, 5), stride=(1, 1), padding=(2, 2))\n",
       "    (1): BatchNorm2d(256, eps=1e-05, momentum=0.1, affine=True, track_running_stats=True)\n",
       "    (2): ReLU()\n",
       "  )\n",
       "  (pool): MaxPool2d(kernel_size=2, stride=2, padding=0, dilation=1, ceil_mode=False)\n",
       "  (adaptive_pool): AdaptiveAvgPool2d(output_size=(2, 2))\n",
       "  (dense_decoder): Sequential(\n",
       "    (0): Linear(in_features=1024, out_features=1024, bias=True)\n",
       "    (1): ReLU()\n",
       "    (2): Linear(in_features=1024, out_features=1024, bias=True)\n",
       "    (3): ReLU()\n",
       "    (4): Linear(in_features=1024, out_features=100, bias=True)\n",
       "  )\n",
       ")"
      ]
     },
     "execution_count": 16,
     "metadata": {},
     "output_type": "execute_result"
    }
   ],
   "source": [
    "# Initialize the weights of layers.\n",
    "def init_weights(m):\n",
    "    if type(m) == nn.Linear:\n",
    "        torch.nn.init.xavier_uniform_(m.weight)\n",
    "        m.bias.data.fill_(0.01)\n",
    "        \n",
    "model.apply(init_weights)"
   ]
  },
  {
   "cell_type": "code",
   "execution_count": 17,
   "id": "union-citizenship",
   "metadata": {},
   "outputs": [],
   "source": [
    "def train_model(model, dataloaders, criterion, optimizer, num_epochs=25):\n",
    "    since = time.time()\n",
    "\n",
    "    val_acc_history, val_loss_history = [], []\n",
    "    train_acc_history, train_loss_history = [], []\n",
    "\n",
    "    best_model_wts = copy.deepcopy(model.state_dict())\n",
    "    best_acc = 0.0\n",
    "    loss_train = 0.0\n",
    "\n",
    "    for epoch in range(1, num_epochs+1):\n",
    "        print('Epoch {}/{}'.format(epoch, num_epochs))\n",
    "        print('-' * 10)\n",
    "\n",
    "        # Each epoch has a training and validation phase\n",
    "        for phase in ['train', 'val']:\n",
    "            if phase == 'train':\n",
    "                model.train()  # Set model to training mode\n",
    "            else:\n",
    "                model.eval()   # Set model to evaluate mode\n",
    "\n",
    "            running_loss = 0.0\n",
    "            running_corrects = 0\n",
    "\n",
    "            # Iterate over data.\n",
    "            for inputs, labels in dataloaders[phase]:\n",
    "                inputs = inputs.to(device)\n",
    "                labels = labels.to(device)\n",
    "\n",
    "                # zero the parameter gradients\n",
    "                optimizer.zero_grad()\n",
    "\n",
    "                # forward\n",
    "                # track history if only in train\n",
    "                with torch.set_grad_enabled(phase == 'train'):\n",
    "                    # Get model outputs and calculate loss\n",
    "                    outputs = model(inputs)\n",
    "                    loss = criterion(outputs, labels)\n",
    "\n",
    "                    _, preds = torch.max(outputs, 1)\n",
    "\n",
    "                    # backward + optimize only if in training phase\n",
    "                    if phase == 'train':\n",
    "                        loss.backward()\n",
    "                        optimizer.step()\n",
    "                        loss_train += loss.item()\n",
    "\n",
    "                # statistics\n",
    "                running_loss += loss.item() * inputs.size(0)\n",
    "                running_corrects += torch.sum(preds == labels.data)\n",
    "\n",
    "            epoch_loss = running_loss / len(dataloaders[phase].dataset)\n",
    "            epoch_acc = running_corrects.double() / len(dataloaders[phase].dataset)\n",
    "\n",
    "            print('{} Loss: {:.4f} Acc: {:.4f}'.format(phase, epoch_loss, epoch_acc))\n",
    "            \n",
    "            # deep copy the model\n",
    "            if phase == 'val' and epoch_acc > best_acc:\n",
    "                best_acc = epoch_acc\n",
    "                best_model_wts = copy.deepcopy(model.state_dict())\n",
    "            if phase == 'val':\n",
    "                val_acc_history.append(epoch_acc)\n",
    "                val_loss_history.append(epoch_loss)\n",
    "            if phase == 'train':\n",
    "                train_acc_history.append(epoch_acc)\n",
    "                train_loss_history.append(epoch_loss)\n",
    "                \n",
    "        # decreasing learning rate with the epochs\n",
    "        scheduler.step(loss_train)\n",
    "        print()\n",
    "\n",
    "    time_elapsed = time.time() - since\n",
    "    print('Training complete in {:.0f}m {:.0f}s'.format(time_elapsed // 60, time_elapsed % 60))\n",
    "    print('Best val Acc: {:4f}'.format(best_acc))\n",
    "\n",
    "    # load best model weights\n",
    "    model.load_state_dict(best_model_wts)\n",
    "    return model, val_acc_history, val_loss_history, train_acc_history, train_loss_history"
   ]
  },
  {
   "cell_type": "code",
   "execution_count": 18,
   "id": "moved-hawaii",
   "metadata": {},
   "outputs": [],
   "source": [
    "# validate the training on validation set\n",
    "def validate(model, train_loader, val_loader):\n",
    "    for name, loader in [('train', train_loader), ('val', val_loader)]:\n",
    "        correct = 0\n",
    "        total = 0\n",
    "        print(name)\n",
    "        print(loader)\n",
    "        with torch.no_grad():\n",
    "            for imgs, labels in loader:\n",
    "                imgs = imgs.to(device=device)\n",
    "                labels = labels.to(device=device)\n",
    "                \n",
    "                y = model(imgs)\n",
    "                _, predicted = torch.max(y, dim=1)\n",
    "                total += labels.shape[0]\n",
    "                correct += int((predicted == labels).sum())\n",
    "        print(\"Accuracy {}: {:.4f}\".format(name, correct/total))\n",
    "        print(\"{}: correct, total = {},{}\".format(name, correct, total))"
   ]
  },
  {
   "cell_type": "markdown",
   "id": "after-hardware",
   "metadata": {},
   "source": [
    "### Trial 1\n",
    "1. Added a convolutional of channel size = 32 at the beginning of the network with kernel size of 1, stride of 2, and padding of 0\n",
    "\n",
    "2. Added Batch Norm before every ReLU activation\n",
    "\n",
    "3. Removed Maxpooling layer (to further add residual connections)\n",
    "\n",
    "4. Added a Adaptive Average Pooling at the very end"
   ]
  },
  {
   "cell_type": "code",
   "execution_count": 19,
   "id": "northern-formula",
   "metadata": {
    "scrolled": true
   },
   "outputs": [
    {
     "name": "stdout",
     "output_type": "stream",
     "text": [
      "----------------------------------------------------------------\n",
      "        Layer (type)               Output Shape         Param #\n",
      "================================================================\n",
      "            Conv2d-1           [-1, 32, 32, 32]             128\n",
      "       BatchNorm2d-2           [-1, 32, 32, 32]              64\n",
      "              ReLU-3           [-1, 32, 32, 32]               0\n",
      "            Conv2d-4           [-1, 64, 32, 32]          51,264\n",
      "       BatchNorm2d-5           [-1, 64, 32, 32]             128\n",
      "              ReLU-6           [-1, 64, 32, 32]               0\n",
      "            Conv2d-7           [-1, 64, 32, 32]         102,464\n",
      "       BatchNorm2d-8           [-1, 64, 32, 32]             128\n",
      "              ReLU-9           [-1, 64, 32, 32]               0\n",
      "           Conv2d-10          [-1, 128, 32, 32]         204,928\n",
      "      BatchNorm2d-11          [-1, 128, 32, 32]             256\n",
      "             ReLU-12          [-1, 128, 32, 32]               0\n",
      "           Conv2d-13          [-1, 128, 32, 32]         409,728\n",
      "      BatchNorm2d-14          [-1, 128, 32, 32]             256\n",
      "             ReLU-15          [-1, 128, 32, 32]               0\n",
      "           Conv2d-16          [-1, 256, 32, 32]         819,456\n",
      "      BatchNorm2d-17          [-1, 256, 32, 32]             512\n",
      "             ReLU-18          [-1, 256, 32, 32]               0\n",
      "           Conv2d-19          [-1, 256, 32, 32]       1,638,656\n",
      "      BatchNorm2d-20          [-1, 256, 32, 32]             512\n",
      "             ReLU-21          [-1, 256, 32, 32]               0\n",
      "AdaptiveAvgPool2d-22            [-1, 256, 2, 2]               0\n",
      "           Linear-23                 [-1, 1024]       1,049,600\n",
      "             ReLU-24                 [-1, 1024]               0\n",
      "           Linear-25                 [-1, 1024]       1,049,600\n",
      "             ReLU-26                 [-1, 1024]               0\n",
      "           Linear-27                  [-1, 100]         102,500\n",
      "================================================================\n",
      "Total params: 5,430,180\n",
      "Trainable params: 5,430,180\n",
      "Non-trainable params: 0\n",
      "----------------------------------------------------------------\n",
      "Input size (MB): 0.01\n",
      "Forward/backward pass size (MB): 21.79\n",
      "Params size (MB): 20.71\n",
      "Estimated Total Size (MB): 42.52\n",
      "----------------------------------------------------------------\n"
     ]
    }
   ],
   "source": [
    "# Printing the summary of our model. \n",
    "input_shape = (3, 32, 32)\n",
    "summary(model, input_shape)"
   ]
  },
  {
   "cell_type": "code",
   "execution_count": 20,
   "id": "minus-hobby",
   "metadata": {
    "scrolled": true
   },
   "outputs": [
    {
     "name": "stdout",
     "output_type": "stream",
     "text": [
      "Epoch 1/10\n",
      "----------\n",
      "train Loss: 3.7934 Acc: 0.1165\n",
      "val Loss: 3.4316 Acc: 0.1715\n",
      "\n",
      "Epoch 2/10\n",
      "----------\n",
      "train Loss: 3.1923 Acc: 0.2184\n",
      "val Loss: 3.0636 Acc: 0.2525\n",
      "\n",
      "Epoch 3/10\n",
      "----------\n",
      "train Loss: 2.8425 Acc: 0.2835\n",
      "val Loss: 2.6642 Acc: 0.3196\n",
      "\n",
      "Epoch 4/10\n",
      "----------\n",
      "train Loss: 2.5819 Acc: 0.3350\n",
      "val Loss: 2.4163 Acc: 0.3758\n",
      "\n",
      "Epoch 5/10\n",
      "----------\n",
      "train Loss: 2.3749 Acc: 0.3799\n",
      "val Loss: 2.3087 Acc: 0.4031\n",
      "\n",
      "Epoch 6/10\n",
      "----------\n",
      "train Loss: 2.2032 Acc: 0.4143\n",
      "val Loss: 2.1649 Acc: 0.4277\n",
      "\n",
      "Epoch 7/10\n",
      "----------\n",
      "train Loss: 2.0628 Acc: 0.4471\n",
      "val Loss: 2.1114 Acc: 0.4458\n",
      "\n",
      "Epoch 8/10\n",
      "----------\n",
      "train Loss: 1.9346 Acc: 0.4777\n",
      "val Loss: 1.9486 Acc: 0.4812\n",
      "\n",
      "Epoch 9/10\n",
      "----------\n",
      "train Loss: 1.8368 Acc: 0.4989\n",
      "val Loss: 1.9840 Acc: 0.4837\n",
      "\n",
      "Epoch 10/10\n",
      "----------\n",
      "train Loss: 1.7483 Acc: 0.5171\n",
      "val Loss: 1.8428 Acc: 0.5109\n",
      "\n",
      "Training complete in 9m 35s\n",
      "Best val Acc: 0.510900\n"
     ]
    }
   ],
   "source": [
    "dataloaders_dict = {'train': train_loader, 'val': val_loader}\n",
    "num_epochs = 10\n",
    "\n",
    "model_fit, val_acc_hist, val_loss_hist, train_acc_hist, train_loss_hist = train_model(model,\n",
    "                                                                                      dataloaders_dict,\n",
    "                                                                                      loss_fn,\n",
    "                                                                                      optimizer,\n",
    "                                                                                      num_epochs)"
   ]
  },
  {
   "cell_type": "code",
   "execution_count": 21,
   "id": "nervous-geology",
   "metadata": {},
   "outputs": [
    {
     "data": {
      "image/png": "[encoded data removed]",
      "text/plain": [
       "<Figure size 432x288 with 1 Axes>"
      ]
     },
     "metadata": {
      "needs_background": "light"
     },
     "output_type": "display_data"
    }
   ],
   "source": [
    "v_loss = [v for v in val_loss_hist]\n",
    "t_loss = [t for t in train_loss_hist]\n",
    "\n",
    "plt.title(\"Validation loss and training loss vs Number of Training Epochs\")\n",
    "plt.xlabel(\"Training Epochs\")\n",
    "plt.ylabel(\"Loss\")\n",
    "plt.plot(range(1, num_epochs+1), v_loss, label=\"Validation Loss\")\n",
    "plt.plot(range(1, num_epochs+1), t_loss, label=\"Training Loss\")\n",
    "# plt.ylim((0,1.))\n",
    "plt.xticks(np.arange(1, num_epochs+1, 1.0))\n",
    "plt.legend()\n",
    "plt.show()"
   ]
  },
  {
   "cell_type": "code",
   "execution_count": 22,
   "id": "crude-mandate",
   "metadata": {},
   "outputs": [
    {
     "name": "stdout",
     "output_type": "stream",
     "text": [
      "train\n",
      "<torch.utils.data.dataloader.DataLoader object at 0x000001B01546C340>\n",
      "Accuracy train: 0.5247\n",
      "train: correct, total = 26233,50000\n",
      "val\n",
      "<torch.utils.data.dataloader.DataLoader object at 0x000001B027BE64F0>\n",
      "Accuracy val: 0.5109\n",
      "val: correct, total = 5109,10000\n"
     ]
    }
   ],
   "source": [
    "validate(model, train_loader, val_loader)"
   ]
  },
  {
   "cell_type": "code",
   "execution_count": null,
   "id": "encouraging-working",
   "metadata": {},
   "outputs": [],
   "source": []
  }
 ],
 "metadata": {
  "kernelspec": {
   "display_name": "mypytorch",
   "language": "python",
   "name": "mypytorch"
  },
  "language_info": {
   "codemirror_mode": {
    "name": "ipython",
    "version": 3
   },
   "file_extension": ".py",
   "mimetype": "text/x-python",
   "name": "python",
   "nbconvert_exporter": "python",
   "pygments_lexer": "ipython3",
   "version": "3.8.5"
  }
 },
 "nbformat": 4,
 "nbformat_minor": 5
}
