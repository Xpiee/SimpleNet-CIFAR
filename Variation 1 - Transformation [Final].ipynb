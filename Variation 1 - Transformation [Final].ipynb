{
 "cells": [
  {
   "cell_type": "markdown",
   "id": "accepting-feeling",
   "metadata": {},
   "source": [
    "# Trying Variations 1.0"
   ]
  },
  {
   "cell_type": "markdown",
   "id": "covered-botswana",
   "metadata": {},
   "source": [
    "### 1. Applying Transformations on the train and validation images for Data Augmentation and Data Normalization"
   ]
  },
  {
   "cell_type": "code",
   "execution_count": 1,
   "id": "floppy-treasurer",
   "metadata": {},
   "outputs": [
    {
     "data": {
      "text/plain": [
       "True"
      ]
     },
     "execution_count": 1,
     "metadata": {},
     "output_type": "execute_result"
    }
   ],
   "source": [
    "import torch\n",
    "torch.cuda.is_available()"
   ]
  },
  {
   "cell_type": "code",
   "execution_count": 2,
   "id": "blond-system",
   "metadata": {},
   "outputs": [
    {
     "name": "stdout",
     "output_type": "stream",
     "text": [
      "3.8.5 (default, Sep  3 2020, 21:29:08) [MSC v.1916 64 bit (AMD64)]\n"
     ]
    }
   ],
   "source": [
    "import sys\n",
    "print(sys.version)"
   ]
  },
  {
   "cell_type": "code",
   "execution_count": 3,
   "id": "inner-credit",
   "metadata": {},
   "outputs": [],
   "source": [
    "import numpy as np\n",
    "import pandas as pd\n",
    "import torch.nn.functional as F\n",
    "import torch.nn as nn\n",
    "import torch.optim as optim\n",
    "import torchvision.transforms as transforms\n",
    "import matplotlib.pyplot as plt\n",
    "import datetime\n",
    "import os\n",
    "import torchvision\n",
    "import time\n",
    "import copy\n",
    "from torch.utils.tensorboard import SummaryWriter\n",
    "from torchsummary import summary"
   ]
  },
  {
   "cell_type": "code",
   "execution_count": 4,
   "id": "welsh-sound",
   "metadata": {},
   "outputs": [
    {
     "data": {
      "text/plain": [
       "'1.7.1+cu110'"
      ]
     },
     "execution_count": 4,
     "metadata": {},
     "output_type": "execute_result"
    }
   ],
   "source": [
    "torch.__version__"
   ]
  },
  {
   "cell_type": "code",
   "execution_count": 5,
   "id": "arabic-baseball",
   "metadata": {},
   "outputs": [],
   "source": [
    "from torchvision.datasets import CIFAR100\n",
    "from torch.utils.data import DataLoader"
   ]
  },
  {
   "cell_type": "code",
   "execution_count": 6,
   "id": "accepting-radical",
   "metadata": {},
   "outputs": [],
   "source": [
    "# validate the training on validation set\n",
    "def validate(model, train_loader, val_loader):\n",
    "    for name, loader in [('train', train_loader), ('val', val_loader)]:\n",
    "        correct = 0\n",
    "        total = 0\n",
    "        print(name)\n",
    "        print(loader)\n",
    "        with torch.no_grad():\n",
    "            for imgs, labels in loader:\n",
    "                imgs = imgs.to(device=device)\n",
    "                labels = labels.to(device=device)\n",
    "                \n",
    "                y = model(imgs)\n",
    "                _, predicted = torch.max(y, dim=1)\n",
    "                total += labels.shape[0]\n",
    "                correct += int((predicted == labels).sum())\n",
    "        print(\"Accuracy {}: {:.4f}\".format(name, correct/total))\n",
    "        print(\"{}: correct, total = {},{}\".format(name, correct, total))"
   ]
  },
  {
   "cell_type": "code",
   "execution_count": 7,
   "id": "challenging-conviction",
   "metadata": {},
   "outputs": [],
   "source": [
    "def train_model(model, dataloaders, criterion, optimizer, num_epochs=25):\n",
    "    since = time.time()\n",
    "\n",
    "    val_acc_history, val_loss_history = [], []\n",
    "    train_acc_history, train_loss_history = [], []\n",
    "\n",
    "    best_model_wts = copy.deepcopy(model.state_dict())\n",
    "    best_acc = 0.0\n",
    "    loss_train = 0.0\n",
    "\n",
    "    for epoch in range(1, num_epochs+1):\n",
    "        print('Epoch {}/{}'.format(epoch, num_epochs))\n",
    "        print('-' * 10)\n",
    "\n",
    "        # Each epoch has a training and validation phase\n",
    "        for phase in ['train', 'val']:\n",
    "            if phase == 'train':\n",
    "                model.train()  # Set model to training mode\n",
    "            else:\n",
    "                model.eval()   # Set model to evaluate mode\n",
    "\n",
    "            running_loss = 0.0\n",
    "            running_corrects = 0\n",
    "\n",
    "            # Iterate over data.\n",
    "            for inputs, labels in dataloaders[phase]:\n",
    "                inputs = inputs.to(device)\n",
    "                labels = labels.to(device)\n",
    "\n",
    "                # zero the parameter gradients\n",
    "                optimizer.zero_grad()\n",
    "\n",
    "                # forward\n",
    "                # track history if only in train\n",
    "                with torch.set_grad_enabled(phase == 'train'):\n",
    "                    # Get model outputs and calculate loss\n",
    "                    outputs = model(inputs)\n",
    "                    loss = criterion(outputs, labels)\n",
    "\n",
    "                    _, preds = torch.max(outputs, 1)\n",
    "\n",
    "                    # backward + optimize only if in training phase\n",
    "                    if phase == 'train':\n",
    "                        loss.backward()\n",
    "                        optimizer.step()\n",
    "                        loss_train += loss.item()\n",
    "\n",
    "                # statistics\n",
    "                running_loss += loss.item() * inputs.size(0)\n",
    "                running_corrects += torch.sum(preds == labels.data)\n",
    "\n",
    "            epoch_loss = running_loss / len(dataloaders[phase].dataset)\n",
    "            epoch_acc = running_corrects.double() / len(dataloaders[phase].dataset)\n",
    "\n",
    "            print('{} Loss: {:.4f} Acc: {:.4f}'.format(phase, epoch_loss, epoch_acc))\n",
    "            \n",
    "            # deep copy the model\n",
    "            if phase == 'val' and epoch_acc > best_acc:\n",
    "                best_acc = epoch_acc\n",
    "                best_model_wts = copy.deepcopy(model.state_dict())\n",
    "            if phase == 'val':\n",
    "                val_acc_history.append(epoch_acc)\n",
    "                val_loss_history.append(epoch_loss)\n",
    "            if phase == 'train':\n",
    "                train_acc_history.append(epoch_acc)\n",
    "                train_loss_history.append(epoch_loss)\n",
    "                \n",
    "        # decreasing learning rate with the epochs\n",
    "        scheduler.step(loss_train)\n",
    "        print()\n",
    "\n",
    "    time_elapsed = time.time() - since\n",
    "    print('Training complete in {:.0f}m {:.0f}s'.format(time_elapsed // 60, time_elapsed % 60))\n",
    "    print('Best val Acc: {:4f}'.format(best_acc))\n",
    "\n",
    "    # load best model weights\n",
    "    model.load_state_dict(best_model_wts)\n",
    "    return model, val_acc_history, val_loss_history, train_acc_history, train_loss_history"
   ]
  },
  {
   "cell_type": "code",
   "execution_count": 8,
   "id": "stock-diabetes",
   "metadata": {},
   "outputs": [],
   "source": [
    "class SimpleNet(nn.Module):\n",
    "    def __init__(self):\n",
    "        super(SimpleNet, self).__init__()\n",
    "        \n",
    "        self.layer1 = nn.Conv2d(in_channels = 3, out_channels = 64, kernel_size = 5,\n",
    "                                stride = 2, padding = 2)\n",
    "        self.layer2 = nn.Conv2d(in_channels = 64, out_channels = 128, kernel_size = 5, \n",
    "                               stride = 2, padding = 2)\n",
    "        self.layer3 = nn.Conv2d(in_channels = 128, out_channels = 256, kernel_size = 5, \n",
    "                               stride = 2, padding = 2)\n",
    "        self.mxpool = nn.MaxPool2d(2, 2)\n",
    "        self.mxpool1 = nn.MaxPool2d(2, 2, padding = 1)\n",
    "        self.relu = nn.ReLU() # not used # instead used relu from Functional 'F' directly\n",
    "        self.linear1 = nn.Linear(256, 1024)\n",
    "        self.linear2 = nn.Linear(1024, 1024)\n",
    "        self.linear3 = nn.Linear(1024, 100)\n",
    "        \n",
    "    def forward(self, x):\n",
    "        x = F.relu(self.layer1(x))\n",
    "        x = self.mxpool(x)\n",
    "        x = F.relu(self.layer2(x))\n",
    "        x = self.mxpool1(x)\n",
    "        x = F.relu(self.layer3(x))\n",
    "        x = self.mxpool(x)\n",
    "        \n",
    "        x = x.reshape(x.shape[0], -1)\n",
    "#         print(x.shape)\n",
    "        x = F.relu(self.linear1(x))\n",
    "        x = F.relu(self.linear2(x))\n",
    "        x = self.linear3(x) # using nn.CrossEntropy() that combines nn.LogSoftmax() and nn.NLLLoss() in one single class\n",
    "        return x"
   ]
  },
  {
   "cell_type": "code",
   "execution_count": 10,
   "id": "faced-roulette",
   "metadata": {},
   "outputs": [],
   "source": [
    "# Initialize the weights of layers.\n",
    "def init_weights(m):\n",
    "    if type(m) == nn.Linear:\n",
    "        torch.nn.init.xavier_uniform_(m.weight)\n",
    "        m.bias.data.fill_(0.01)"
   ]
  },
  {
   "cell_type": "markdown",
   "id": "white-respondent",
   "metadata": {},
   "source": [
    "# Trial 1: Only Random Cropping with Padding 4"
   ]
  },
  {
   "cell_type": "markdown",
   "id": "visible-madagascar",
   "metadata": {},
   "source": [
    "***In the below function for dataloaders, applying the following transformations on the training data for data augmentation.***\n",
    "\n",
    "**Train Dataset**\n",
    "1. Applying a Random Crop of 3x32x32 with a padding of 4 on the original 3x32x32 image.\n",
    "2. Normalization of the training dataset (not part of data augmentation) for processing the data\n",
    "\n",
    "**Validation Dataset**\n",
    "1. Normalization of the validation dataset (not part of data augmentation) for processing the data"
   ]
  },
  {
   "cell_type": "code",
   "execution_count": 9,
   "id": "everyday-precipitation",
   "metadata": {},
   "outputs": [],
   "source": [
    "# creating a function for getting training data CIFAR100\n",
    "\n",
    "def give_me_train_data(bs=128, num_workers=2, shuffle=True):\n",
    "    ''' would return a train dataloader for CIFAR100'''\n",
    "    mean = (0.5070751592371323, 0.48654887331495095, 0.4409178433670343)\n",
    "    std = (0.2673342858792401, 0.2564384629170883, 0.27615047132568404)\n",
    "    # defining the transformations on the train data\n",
    "    \n",
    "    transformations = [transforms.RandomCrop(32, padding=4),\n",
    "                       transforms.ToTensor(),\n",
    "                       transforms.Normalize(mean, std)]\n",
    "    transform_train = transforms.Compose(transformations)\n",
    "    \n",
    "    train_set = CIFAR100('./data/cifar100', train=True, \n",
    "                         download=True, transform=transform_train)\n",
    "    \n",
    "    train_loader = torch.utils.data.DataLoader(train_set, batch_size = bs,\n",
    "                                               shuffle=True, num_workers=num_workers)\n",
    "    return train_loader\n",
    "\n",
    "def give_me_test_data(bs=128, num_workers=2, shuffle=True):\n",
    "    ''' would return a test dataloader for CIFAR100'''\n",
    "    mean = (0.5070751592371323, 0.48654887331495095, 0.4409178433670343)\n",
    "    std = (0.2673342858792401, 0.2564384629170883, 0.27615047132568404)\n",
    "    \n",
    "    # defining transformations on the test data\n",
    "    \n",
    "    transformations = [transforms.ToTensor(), transforms.Normalize(mean, std)]\n",
    "    transform_test = transforms.Compose(transformations)\n",
    "    \n",
    "    valid_set = CIFAR100('./data/cifar100', train=False,\n",
    "                  download=True, transform=transform_test)\n",
    "    val_loader = torch.utils.data.DataLoader(valid_set, batch_size=bs, shuffle=False, \n",
    "                                             num_workers=num_workers)\n",
    "    return val_loader"
   ]
  },
  {
   "cell_type": "code",
   "execution_count": 10,
   "id": "simplified-links",
   "metadata": {},
   "outputs": [
    {
     "data": {
      "text/plain": [
       "SimpleNet(\n",
       "  (layer1): Conv2d(3, 64, kernel_size=(5, 5), stride=(2, 2), padding=(2, 2))\n",
       "  (layer2): Conv2d(64, 128, kernel_size=(5, 5), stride=(2, 2), padding=(2, 2))\n",
       "  (layer3): Conv2d(128, 256, kernel_size=(5, 5), stride=(2, 2), padding=(2, 2))\n",
       "  (mxpool): MaxPool2d(kernel_size=2, stride=2, padding=0, dilation=1, ceil_mode=False)\n",
       "  (mxpool1): MaxPool2d(kernel_size=2, stride=2, padding=1, dilation=1, ceil_mode=False)\n",
       "  (relu): ReLU()\n",
       "  (linear1): Linear(in_features=256, out_features=1024, bias=True)\n",
       "  (linear2): Linear(in_features=1024, out_features=1024, bias=True)\n",
       "  (linear3): Linear(in_features=1024, out_features=100, bias=True)\n",
       ")"
      ]
     },
     "execution_count": 10,
     "metadata": {},
     "output_type": "execute_result"
    }
   ],
   "source": [
    "device = 'cuda'\n",
    "model = SimpleNet()\n",
    "model.to(device) # sending our model to gpu."
   ]
  },
  {
   "cell_type": "code",
   "execution_count": 11,
   "id": "respective-knight",
   "metadata": {},
   "outputs": [
    {
     "name": "stdout",
     "output_type": "stream",
     "text": [
      "----------------------------------------------------------------\n",
      "        Layer (type)               Output Shape         Param #\n",
      "================================================================\n",
      "            Conv2d-1           [-1, 64, 16, 16]           4,864\n",
      "         MaxPool2d-2             [-1, 64, 8, 8]               0\n",
      "            Conv2d-3            [-1, 128, 4, 4]         204,928\n",
      "         MaxPool2d-4            [-1, 128, 3, 3]               0\n",
      "            Conv2d-5            [-1, 256, 2, 2]         819,456\n",
      "         MaxPool2d-6            [-1, 256, 1, 1]               0\n",
      "            Linear-7                 [-1, 1024]         263,168\n",
      "            Linear-8                 [-1, 1024]       1,049,600\n",
      "            Linear-9                  [-1, 100]         102,500\n",
      "================================================================\n",
      "Total params: 2,444,516\n",
      "Trainable params: 2,444,516\n",
      "Non-trainable params: 0\n",
      "----------------------------------------------------------------\n",
      "Input size (MB): 0.01\n",
      "Forward/backward pass size (MB): 0.21\n",
      "Params size (MB): 9.33\n",
      "Estimated Total Size (MB): 9.54\n",
      "----------------------------------------------------------------\n"
     ]
    }
   ],
   "source": [
    "# Printing the summary of our model. \n",
    "input_shape = (3, 32, 32)\n",
    "summary(model, input_shape)"
   ]
  },
  {
   "cell_type": "code",
   "execution_count": 12,
   "id": "initial-officer",
   "metadata": {},
   "outputs": [
    {
     "name": "stdout",
     "output_type": "stream",
     "text": [
      "Files already downloaded and verified\n",
      "Files already downloaded and verified\n"
     ]
    }
   ],
   "source": [
    "# Preparing our data loaders for training and test.\n",
    "# Batch size is 128 (tried 256 and 512, 128 gives better performance)\n",
    "\n",
    "train_loader = give_me_train_data(bs = 128, num_workers=4, shuffle=True)\n",
    "val_loader = give_me_test_data(bs = 128, num_workers=4, shuffle=False)"
   ]
  },
  {
   "cell_type": "code",
   "execution_count": 13,
   "id": "adequate-melbourne",
   "metadata": {},
   "outputs": [],
   "source": [
    "optimizer = optim.SGD(model.parameters(), lr=0.01, momentum=0.9, nesterov=True)\n",
    "scheduler = optim.lr_scheduler.ReduceLROnPlateau(optimizer,'min')\n",
    "loss_fn = nn.CrossEntropyLoss()"
   ]
  },
  {
   "cell_type": "code",
   "execution_count": 14,
   "id": "twelve-halloween",
   "metadata": {},
   "outputs": [],
   "source": [
    "# Initialize the weights of layers.\n",
    "def init_weights(m):\n",
    "    if type(m) == nn.Linear:\n",
    "        torch.nn.init.xavier_uniform_(m.weight)\n",
    "        m.bias.data.fill_(0.01)"
   ]
  },
  {
   "cell_type": "code",
   "execution_count": 15,
   "id": "elder-precipitation",
   "metadata": {},
   "outputs": [
    {
     "data": {
      "text/plain": [
       "SimpleNet(\n",
       "  (layer1): Conv2d(3, 64, kernel_size=(5, 5), stride=(2, 2), padding=(2, 2))\n",
       "  (layer2): Conv2d(64, 128, kernel_size=(5, 5), stride=(2, 2), padding=(2, 2))\n",
       "  (layer3): Conv2d(128, 256, kernel_size=(5, 5), stride=(2, 2), padding=(2, 2))\n",
       "  (mxpool): MaxPool2d(kernel_size=2, stride=2, padding=0, dilation=1, ceil_mode=False)\n",
       "  (mxpool1): MaxPool2d(kernel_size=2, stride=2, padding=1, dilation=1, ceil_mode=False)\n",
       "  (relu): ReLU()\n",
       "  (linear1): Linear(in_features=256, out_features=1024, bias=True)\n",
       "  (linear2): Linear(in_features=1024, out_features=1024, bias=True)\n",
       "  (linear3): Linear(in_features=1024, out_features=100, bias=True)\n",
       ")"
      ]
     },
     "execution_count": 15,
     "metadata": {},
     "output_type": "execute_result"
    }
   ],
   "source": [
    "model.apply(init_weights)"
   ]
  },
  {
   "cell_type": "code",
   "execution_count": 16,
   "id": "joined-works",
   "metadata": {
    "scrolled": true
   },
   "outputs": [
    {
     "name": "stdout",
     "output_type": "stream",
     "text": [
      "Epoch 1/10\n",
      "----------\n",
      "train Loss: 4.2186 Acc: 0.0574\n",
      "val Loss: 3.8229 Acc: 0.1093\n",
      "\n",
      "Epoch 2/10\n",
      "----------\n",
      "train Loss: 3.6040 Acc: 0.1450\n",
      "val Loss: 3.4736 Acc: 0.1678\n",
      "\n",
      "Epoch 3/10\n",
      "----------\n",
      "train Loss: 3.2518 Acc: 0.2049\n",
      "val Loss: 3.1516 Acc: 0.2308\n",
      "\n",
      "Epoch 4/10\n",
      "----------\n",
      "train Loss: 3.0013 Acc: 0.2497\n",
      "val Loss: 2.9236 Acc: 0.2617\n",
      "\n",
      "Epoch 5/10\n",
      "----------\n",
      "train Loss: 2.7981 Acc: 0.2912\n",
      "val Loss: 2.7538 Acc: 0.3010\n",
      "\n",
      "Epoch 6/10\n",
      "----------\n",
      "train Loss: 2.6262 Acc: 0.3234\n",
      "val Loss: 2.5689 Acc: 0.3440\n",
      "\n",
      "Epoch 7/10\n",
      "----------\n",
      "train Loss: 2.4982 Acc: 0.3505\n",
      "val Loss: 2.5581 Acc: 0.3396\n",
      "\n",
      "Epoch 8/10\n",
      "----------\n",
      "train Loss: 2.3842 Acc: 0.3760\n",
      "val Loss: 2.4360 Acc: 0.3714\n",
      "\n",
      "Epoch 9/10\n",
      "----------\n",
      "train Loss: 2.2864 Acc: 0.3932\n",
      "val Loss: 2.4686 Acc: 0.3601\n",
      "\n",
      "Epoch 10/10\n",
      "----------\n",
      "train Loss: 2.1897 Acc: 0.4143\n",
      "val Loss: 2.2929 Acc: 0.4018\n",
      "\n",
      "Training complete in 1m 53s\n",
      "Best val Acc: 0.401800\n"
     ]
    }
   ],
   "source": [
    "dataloaders_dict = {'train': train_loader, 'val': val_loader}\n",
    "num_epochs = 10\n",
    "\n",
    "model_fit, val_acc_hist, val_loss_hist, train_acc_hist, train_loss_hist = train_model(model,\n",
    "                                                                                      dataloaders_dict,\n",
    "                                                                                      loss_fn,\n",
    "                                                                                      optimizer,\n",
    "                                                                                      num_epochs)"
   ]
  },
  {
   "cell_type": "code",
   "execution_count": 17,
   "id": "durable-plumbing",
   "metadata": {},
   "outputs": [
    {
     "data": {
      "image/png": "[encoded data removed]",
      "text/plain": [
       "<Figure size 432x288 with 1 Axes>"
      ]
     },
     "metadata": {
      "needs_background": "light"
     },
     "output_type": "display_data"
    }
   ],
   "source": [
    "v_loss = [v for v in val_loss_hist]\n",
    "t_loss = [t for t in train_loss_hist]\n",
    "\n",
    "plt.title(\"Validation loss and training loss vs Number of Training Epochs\")\n",
    "plt.xlabel(\"Training Epochs\")\n",
    "plt.ylabel(\"Loss\")\n",
    "plt.plot(range(1, num_epochs+1), v_loss, label=\"Validation Loss\")\n",
    "plt.plot(range(1, num_epochs+1), t_loss, label=\"Training Loss\")\n",
    "# plt.ylim((0,1.))\n",
    "plt.xticks(np.arange(1, num_epochs+1, 1.0))\n",
    "plt.legend()\n",
    "plt.show()"
   ]
  },
  {
   "cell_type": "code",
   "execution_count": 18,
   "id": "thermal-knock",
   "metadata": {},
   "outputs": [
    {
     "name": "stdout",
     "output_type": "stream",
     "text": [
      "train\n",
      "<torch.utils.data.dataloader.DataLoader object at 0x0000014B88E39F40>\n",
      "Accuracy train: 0.4447\n",
      "train: correct, total = 22233,50000\n",
      "val\n",
      "<torch.utils.data.dataloader.DataLoader object at 0x0000014BA4714580>\n",
      "Accuracy val: 0.4018\n",
      "val: correct, total = 4018,10000\n"
     ]
    }
   ],
   "source": [
    "validate(model, train_loader, val_loader)"
   ]
  },
  {
   "cell_type": "markdown",
   "id": "stunning-toyota",
   "metadata": {},
   "source": [
    "# Trial 2: Only Random Horizontal Flip"
   ]
  },
  {
   "cell_type": "markdown",
   "id": "vanilla-advancement",
   "metadata": {},
   "source": [
    "***In the below function for dataloaders, applying the following transformations on the training data for data augmentation.***\n",
    "\n",
    "**Train Dataset**\n",
    "1. Applying a Random Horizontal Flip with a probability of 50%.\n",
    "2. Normalization of the training dataset (not part of data augmentation) for processing the data\n",
    "\n",
    "**Validation Dataset**\n",
    "1. Normalization of the validation dataset (not part of data augmentation) for processing the data"
   ]
  },
  {
   "cell_type": "code",
   "execution_count": 10,
   "id": "hired-dress",
   "metadata": {},
   "outputs": [],
   "source": [
    "# creating a function for getting training data CIFAR100\n",
    "\n",
    "def give_me_train_data(bs=128, num_workers=2, shuffle=True):\n",
    "    ''' would return a train dataloader for CIFAR100'''\n",
    "    mean = (0.5070751592371323, 0.48654887331495095, 0.4409178433670343)\n",
    "    std = (0.2673342858792401, 0.2564384629170883, 0.27615047132568404)\n",
    "    # defining the transformations on the train data\n",
    "    \n",
    "    transformations = [transforms.RandomHorizontalFlip(),\n",
    "                       transforms.ToTensor(),\n",
    "                       transforms.Normalize(mean, std)]\n",
    "    transform_train = transforms.Compose(transformations)\n",
    "    \n",
    "    train_set = CIFAR100('./data/cifar100', train=True, \n",
    "                         download=True, transform=transform_train)\n",
    "    \n",
    "    train_loader = torch.utils.data.DataLoader(train_set, batch_size = bs,\n",
    "                                               shuffle=True, num_workers=num_workers)\n",
    "    return train_loader\n",
    "\n",
    "def give_me_test_data(bs=128, num_workers=2, shuffle=True):\n",
    "    ''' would return a test dataloader for CIFAR100'''\n",
    "    mean = (0.5070751592371323, 0.48654887331495095, 0.4409178433670343)\n",
    "    std = (0.2673342858792401, 0.2564384629170883, 0.27615047132568404)\n",
    "    \n",
    "    # defining transformations on the test data\n",
    "    \n",
    "    transformations = [transforms.ToTensor(), transforms.Normalize(mean, std)]\n",
    "    transform_test = transforms.Compose(transformations)\n",
    "    \n",
    "    valid_set = CIFAR100('./data/cifar100', train=False,\n",
    "                  download=True, transform=transform_test)\n",
    "    val_loader = torch.utils.data.DataLoader(valid_set, batch_size=bs, shuffle=False, \n",
    "                                             num_workers=num_workers)\n",
    "    return val_loader"
   ]
  },
  {
   "cell_type": "code",
   "execution_count": 11,
   "id": "fancy-april",
   "metadata": {},
   "outputs": [
    {
     "data": {
      "text/plain": [
       "SimpleNet(\n",
       "  (layer1): Conv2d(3, 64, kernel_size=(5, 5), stride=(2, 2), padding=(2, 2))\n",
       "  (layer2): Conv2d(64, 128, kernel_size=(5, 5), stride=(2, 2), padding=(2, 2))\n",
       "  (layer3): Conv2d(128, 256, kernel_size=(5, 5), stride=(2, 2), padding=(2, 2))\n",
       "  (mxpool): MaxPool2d(kernel_size=2, stride=2, padding=0, dilation=1, ceil_mode=False)\n",
       "  (mxpool1): MaxPool2d(kernel_size=2, stride=2, padding=1, dilation=1, ceil_mode=False)\n",
       "  (relu): ReLU()\n",
       "  (linear1): Linear(in_features=256, out_features=1024, bias=True)\n",
       "  (linear2): Linear(in_features=1024, out_features=1024, bias=True)\n",
       "  (linear3): Linear(in_features=1024, out_features=100, bias=True)\n",
       ")"
      ]
     },
     "execution_count": 11,
     "metadata": {},
     "output_type": "execute_result"
    }
   ],
   "source": [
    "device = 'cuda'\n",
    "model = SimpleNet()\n",
    "model.to(device) # sending our model to gpu."
   ]
  },
  {
   "cell_type": "code",
   "execution_count": 12,
   "id": "visible-burning",
   "metadata": {},
   "outputs": [
    {
     "name": "stdout",
     "output_type": "stream",
     "text": [
      "----------------------------------------------------------------\n",
      "        Layer (type)               Output Shape         Param #\n",
      "================================================================\n",
      "            Conv2d-1           [-1, 64, 16, 16]           4,864\n",
      "         MaxPool2d-2             [-1, 64, 8, 8]               0\n",
      "            Conv2d-3            [-1, 128, 4, 4]         204,928\n",
      "         MaxPool2d-4            [-1, 128, 3, 3]               0\n",
      "            Conv2d-5            [-1, 256, 2, 2]         819,456\n",
      "         MaxPool2d-6            [-1, 256, 1, 1]               0\n",
      "            Linear-7                 [-1, 1024]         263,168\n",
      "            Linear-8                 [-1, 1024]       1,049,600\n",
      "            Linear-9                  [-1, 100]         102,500\n",
      "================================================================\n",
      "Total params: 2,444,516\n",
      "Trainable params: 2,444,516\n",
      "Non-trainable params: 0\n",
      "----------------------------------------------------------------\n",
      "Input size (MB): 0.01\n",
      "Forward/backward pass size (MB): 0.21\n",
      "Params size (MB): 9.33\n",
      "Estimated Total Size (MB): 9.54\n",
      "----------------------------------------------------------------\n"
     ]
    }
   ],
   "source": [
    "# Printing the summary of our model. \n",
    "input_shape = (3, 32, 32)\n",
    "summary(model, input_shape)"
   ]
  },
  {
   "cell_type": "code",
   "execution_count": 13,
   "id": "referenced-english",
   "metadata": {},
   "outputs": [
    {
     "name": "stdout",
     "output_type": "stream",
     "text": [
      "Files already downloaded and verified\n",
      "Files already downloaded and verified\n"
     ]
    }
   ],
   "source": [
    "# Preparing our data loaders for training and test.\n",
    "# Batch size is 128 (tried 256 and 512, 128 gives better performance)\n",
    "\n",
    "train_loader = give_me_train_data(bs = 128, num_workers=4, shuffle=True)\n",
    "val_loader = give_me_test_data(bs = 128, num_workers=4, shuffle=False)"
   ]
  },
  {
   "cell_type": "code",
   "execution_count": 14,
   "id": "massive-harris",
   "metadata": {},
   "outputs": [],
   "source": [
    "optimizer = optim.SGD(model.parameters(), lr=0.01, momentum=0.9, nesterov=True)\n",
    "scheduler = optim.lr_scheduler.ReduceLROnPlateau(optimizer,'min')\n",
    "loss_fn = nn.CrossEntropyLoss()"
   ]
  },
  {
   "cell_type": "code",
   "execution_count": 15,
   "id": "stock-conditions",
   "metadata": {},
   "outputs": [
    {
     "data": {
      "text/plain": [
       "SimpleNet(\n",
       "  (layer1): Conv2d(3, 64, kernel_size=(5, 5), stride=(2, 2), padding=(2, 2))\n",
       "  (layer2): Conv2d(64, 128, kernel_size=(5, 5), stride=(2, 2), padding=(2, 2))\n",
       "  (layer3): Conv2d(128, 256, kernel_size=(5, 5), stride=(2, 2), padding=(2, 2))\n",
       "  (mxpool): MaxPool2d(kernel_size=2, stride=2, padding=0, dilation=1, ceil_mode=False)\n",
       "  (mxpool1): MaxPool2d(kernel_size=2, stride=2, padding=1, dilation=1, ceil_mode=False)\n",
       "  (relu): ReLU()\n",
       "  (linear1): Linear(in_features=256, out_features=1024, bias=True)\n",
       "  (linear2): Linear(in_features=1024, out_features=1024, bias=True)\n",
       "  (linear3): Linear(in_features=1024, out_features=100, bias=True)\n",
       ")"
      ]
     },
     "execution_count": 15,
     "metadata": {},
     "output_type": "execute_result"
    }
   ],
   "source": [
    "model.apply(init_weights)"
   ]
  },
  {
   "cell_type": "code",
   "execution_count": 16,
   "id": "ruled-denmark",
   "metadata": {
    "scrolled": true
   },
   "outputs": [
    {
     "name": "stdout",
     "output_type": "stream",
     "text": [
      "Epoch 1/10\n",
      "----------\n",
      "train Loss: 4.1149 Acc: 0.0733\n",
      "val Loss: 3.6723 Acc: 0.1401\n",
      "\n",
      "Epoch 2/10\n",
      "----------\n",
      "train Loss: 3.4135 Acc: 0.1807\n",
      "val Loss: 3.2225 Acc: 0.2201\n",
      "\n",
      "Epoch 3/10\n",
      "----------\n",
      "train Loss: 3.0047 Acc: 0.2525\n",
      "val Loss: 2.8795 Acc: 0.2807\n",
      "\n",
      "Epoch 4/10\n",
      "----------\n",
      "train Loss: 2.7054 Acc: 0.3100\n",
      "val Loss: 2.6700 Acc: 0.3183\n",
      "\n",
      "Epoch 5/10\n",
      "----------\n",
      "train Loss: 2.4603 Acc: 0.3583\n",
      "val Loss: 2.5243 Acc: 0.3576\n",
      "\n",
      "Epoch 6/10\n",
      "----------\n",
      "train Loss: 2.2636 Acc: 0.4010\n",
      "val Loss: 2.4194 Acc: 0.3758\n",
      "\n",
      "Epoch 7/10\n",
      "----------\n",
      "train Loss: 2.1007 Acc: 0.4366\n",
      "val Loss: 2.3195 Acc: 0.3948\n",
      "\n",
      "Epoch 8/10\n",
      "----------\n",
      "train Loss: 1.9474 Acc: 0.4736\n",
      "val Loss: 2.2728 Acc: 0.4115\n",
      "\n",
      "Epoch 9/10\n",
      "----------\n",
      "train Loss: 1.8143 Acc: 0.5036\n",
      "val Loss: 2.2970 Acc: 0.4160\n",
      "\n",
      "Epoch 10/10\n",
      "----------\n",
      "train Loss: 1.6865 Acc: 0.5324\n",
      "val Loss: 2.1545 Acc: 0.4409\n",
      "\n",
      "Training complete in 1m 54s\n",
      "Best val Acc: 0.440900\n"
     ]
    }
   ],
   "source": [
    "dataloaders_dict = {'train': train_loader, 'val': val_loader}\n",
    "num_epochs = 10\n",
    "\n",
    "model_fit, val_acc_hist, val_loss_hist, train_acc_hist, train_loss_hist = train_model(model,\n",
    "                                                                                      dataloaders_dict,\n",
    "                                                                                      loss_fn,\n",
    "                                                                                      optimizer,\n",
    "                                                                                      num_epochs)"
   ]
  },
  {
   "cell_type": "code",
   "execution_count": 17,
   "id": "fixed-johnston",
   "metadata": {},
   "outputs": [
    {
     "data": {
      "image/png": "[encoded data removed]",
      "text/plain": [
       "<Figure size 432x288 with 1 Axes>"
      ]
     },
     "metadata": {
      "needs_background": "light"
     },
     "output_type": "display_data"
    }
   ],
   "source": [
    "v_loss = [v for v in val_loss_hist]\n",
    "t_loss = [t for t in train_loss_hist]\n",
    "\n",
    "plt.title(\"Validation loss and training loss vs Number of Training Epochs\")\n",
    "plt.xlabel(\"Training Epochs\")\n",
    "plt.ylabel(\"Loss\")\n",
    "plt.plot(range(1, num_epochs+1), v_loss, label=\"Validation Loss\")\n",
    "plt.plot(range(1, num_epochs+1), t_loss, label=\"Training Loss\")\n",
    "# plt.ylim((0,1.))\n",
    "plt.xticks(np.arange(1, num_epochs+1, 1.0))\n",
    "plt.legend()\n",
    "plt.show()"
   ]
  },
  {
   "cell_type": "code",
   "execution_count": 18,
   "id": "capable-naples",
   "metadata": {},
   "outputs": [
    {
     "name": "stdout",
     "output_type": "stream",
     "text": [
      "train\n",
      "<torch.utils.data.dataloader.DataLoader object at 0x00000146FDD9E3A0>\n",
      "Accuracy train: 0.5948\n",
      "train: correct, total = 29739,50000\n",
      "val\n",
      "<torch.utils.data.dataloader.DataLoader object at 0x0000014699DCE250>\n",
      "Accuracy val: 0.4409\n",
      "val: correct, total = 4409,10000\n"
     ]
    }
   ],
   "source": [
    "validate(model, train_loader, val_loader)"
   ]
  },
  {
   "cell_type": "markdown",
   "id": "accessible-latter",
   "metadata": {},
   "source": [
    "# Trial 3: Only Random Rotation"
   ]
  },
  {
   "cell_type": "markdown",
   "id": "limited-virtue",
   "metadata": {},
   "source": [
    "***In the below function for dataloaders, applying the following transformations on the training data for data augmentation.***\n",
    "\n",
    "**Train Dataset**\n",
    "1. Applying Random Rotation with the rotation angle of -15 to +15 degrees\n",
    "2. Normalization of the training dataset (not part of data augmentation) for processing the data\n",
    "\n",
    "**Validation Dataset**\n",
    "1. Normalization of the validation dataset (not part of data augmentation) for processing the data"
   ]
  },
  {
   "cell_type": "code",
   "execution_count": 10,
   "id": "native-evanescence",
   "metadata": {},
   "outputs": [],
   "source": [
    "# creating a function for getting training data CIFAR100\n",
    "\n",
    "def give_me_train_data(bs=128, num_workers=2, shuffle=True):\n",
    "    ''' would return a train dataloader for CIFAR100'''\n",
    "    mean = (0.5070751592371323, 0.48654887331495095, 0.4409178433670343)\n",
    "    std = (0.2673342858792401, 0.2564384629170883, 0.27615047132568404)\n",
    "    # defining the transformations on the train data\n",
    "    \n",
    "    transformations = [transforms.RandomRotation(15),\n",
    "                       transforms.ToTensor(),\n",
    "                       transforms.Normalize(mean, std)]\n",
    "    transform_train = transforms.Compose(transformations)\n",
    "    \n",
    "    train_set = CIFAR100('./data/cifar100', train=True, \n",
    "                         download=True, transform=transform_train)\n",
    "    \n",
    "    train_loader = torch.utils.data.DataLoader(train_set, batch_size = bs,\n",
    "                                               shuffle=True, num_workers=num_workers)\n",
    "    return train_loader\n",
    "\n",
    "def give_me_test_data(bs=128, num_workers=2, shuffle=True):\n",
    "    ''' would return a test dataloader for CIFAR100'''\n",
    "    mean = (0.5070751592371323, 0.48654887331495095, 0.4409178433670343)\n",
    "    std = (0.2673342858792401, 0.2564384629170883, 0.27615047132568404)\n",
    "    \n",
    "    # defining transformations on the test data\n",
    "    \n",
    "#     transformations = [transforms.Resize(size=(227, 227)), transforms.CenterCrop(224), \n",
    "#                        transforms.ToTensor()]\n",
    "    transformations = [transforms.ToTensor(), transforms.Normalize(mean, std)]\n",
    "    transform_test = transforms.Compose(transformations)\n",
    "    \n",
    "    valid_set = CIFAR100('./data/cifar100', train=False,\n",
    "                  download=True, transform=transform_test)\n",
    "    val_loader = torch.utils.data.DataLoader(valid_set, batch_size=bs, shuffle=False, \n",
    "                                             num_workers=num_workers)\n",
    "    return val_loader"
   ]
  },
  {
   "cell_type": "code",
   "execution_count": 11,
   "id": "corporate-nightlife",
   "metadata": {},
   "outputs": [
    {
     "name": "stdout",
     "output_type": "stream",
     "text": [
      "----------------------------------------------------------------\n",
      "        Layer (type)               Output Shape         Param #\n",
      "================================================================\n",
      "            Conv2d-1           [-1, 64, 16, 16]           4,864\n",
      "         MaxPool2d-2             [-1, 64, 8, 8]               0\n",
      "            Conv2d-3            [-1, 128, 4, 4]         204,928\n",
      "         MaxPool2d-4            [-1, 128, 3, 3]               0\n",
      "            Conv2d-5            [-1, 256, 2, 2]         819,456\n",
      "         MaxPool2d-6            [-1, 256, 1, 1]               0\n",
      "            Linear-7                 [-1, 1024]         263,168\n",
      "            Linear-8                 [-1, 1024]       1,049,600\n",
      "            Linear-9                  [-1, 100]         102,500\n",
      "================================================================\n",
      "Total params: 2,444,516\n",
      "Trainable params: 2,444,516\n",
      "Non-trainable params: 0\n",
      "----------------------------------------------------------------\n",
      "Input size (MB): 0.01\n",
      "Forward/backward pass size (MB): 0.21\n",
      "Params size (MB): 9.33\n",
      "Estimated Total Size (MB): 9.54\n",
      "----------------------------------------------------------------\n"
     ]
    }
   ],
   "source": [
    "device = 'cuda'\n",
    "model = SimpleNet()\n",
    "model.to(device) # sending our model to gpu.\n",
    "\n",
    "# Printing the summary of our model. \n",
    "input_shape = (3, 32, 32)\n",
    "summary(model, input_shape)"
   ]
  },
  {
   "cell_type": "code",
   "execution_count": 14,
   "id": "classical-village",
   "metadata": {},
   "outputs": [
    {
     "name": "stdout",
     "output_type": "stream",
     "text": [
      "Files already downloaded and verified\n",
      "Files already downloaded and verified\n"
     ]
    },
    {
     "data": {
      "text/plain": [
       "SimpleNet(\n",
       "  (layer1): Conv2d(3, 64, kernel_size=(5, 5), stride=(2, 2), padding=(2, 2))\n",
       "  (layer2): Conv2d(64, 128, kernel_size=(5, 5), stride=(2, 2), padding=(2, 2))\n",
       "  (layer3): Conv2d(128, 256, kernel_size=(5, 5), stride=(2, 2), padding=(2, 2))\n",
       "  (mxpool): MaxPool2d(kernel_size=2, stride=2, padding=0, dilation=1, ceil_mode=False)\n",
       "  (mxpool1): MaxPool2d(kernel_size=2, stride=2, padding=1, dilation=1, ceil_mode=False)\n",
       "  (relu): ReLU()\n",
       "  (linear1): Linear(in_features=256, out_features=1024, bias=True)\n",
       "  (linear2): Linear(in_features=1024, out_features=1024, bias=True)\n",
       "  (linear3): Linear(in_features=1024, out_features=100, bias=True)\n",
       ")"
      ]
     },
     "execution_count": 14,
     "metadata": {},
     "output_type": "execute_result"
    }
   ],
   "source": [
    "# Preparing our data loaders for training and test.\n",
    "# Batch size is 128 (tried 256 and 512, 128 gives better performance)\n",
    "\n",
    "train_loader = give_me_train_data(bs = 128, num_workers=4, shuffle=True)\n",
    "val_loader = give_me_test_data(bs = 128, num_workers=4, shuffle=False)\n",
    "\n",
    "optimizer = optim.SGD(model.parameters(), lr=0.01, momentum=0.9, nesterov=True)\n",
    "scheduler = optim.lr_scheduler.ReduceLROnPlateau(optimizer,'min')\n",
    "loss_fn = nn.CrossEntropyLoss()\n",
    "\n",
    "model.apply(init_weights)"
   ]
  },
  {
   "cell_type": "code",
   "execution_count": 15,
   "id": "formal-tackle",
   "metadata": {
    "scrolled": true
   },
   "outputs": [
    {
     "name": "stdout",
     "output_type": "stream",
     "text": [
      "Epoch 1/10\n",
      "----------\n",
      "train Loss: 4.1537 Acc: 0.0687\n",
      "val Loss: 3.7631 Acc: 0.1292\n",
      "\n",
      "Epoch 2/10\n",
      "----------\n",
      "train Loss: 3.4436 Acc: 0.1747\n",
      "val Loss: 3.2635 Acc: 0.2074\n",
      "\n",
      "Epoch 3/10\n",
      "----------\n",
      "train Loss: 3.0707 Acc: 0.2425\n",
      "val Loss: 2.9611 Acc: 0.2661\n",
      "\n",
      "Epoch 4/10\n",
      "----------\n",
      "train Loss: 2.8076 Acc: 0.2926\n",
      "val Loss: 2.7949 Acc: 0.2962\n",
      "\n",
      "Epoch 5/10\n",
      "----------\n",
      "train Loss: 2.6016 Acc: 0.3347\n",
      "val Loss: 2.6430 Acc: 0.3303\n",
      "\n",
      "Epoch 6/10\n",
      "----------\n",
      "train Loss: 2.4308 Acc: 0.3672\n",
      "val Loss: 2.4957 Acc: 0.3619\n",
      "\n",
      "Epoch 7/10\n",
      "----------\n",
      "train Loss: 2.2701 Acc: 0.4016\n",
      "val Loss: 2.4548 Acc: 0.3707\n",
      "\n",
      "Epoch 8/10\n",
      "----------\n",
      "train Loss: 2.1316 Acc: 0.4335\n",
      "val Loss: 2.3983 Acc: 0.3850\n",
      "\n",
      "Epoch 9/10\n",
      "----------\n",
      "train Loss: 1.9967 Acc: 0.4616\n",
      "val Loss: 2.3464 Acc: 0.3980\n",
      "\n",
      "Epoch 10/10\n",
      "----------\n",
      "train Loss: 1.8675 Acc: 0.4893\n",
      "val Loss: 2.3660 Acc: 0.3994\n",
      "\n",
      "Training complete in 1m 54s\n",
      "Best val Acc: 0.399400\n"
     ]
    }
   ],
   "source": [
    "dataloaders_dict = {'train': train_loader, 'val': val_loader}\n",
    "num_epochs = 10\n",
    "\n",
    "model_fit, val_acc_hist, val_loss_hist, train_acc_hist, train_loss_hist = train_model(model,\n",
    "                                                                                      dataloaders_dict,\n",
    "                                                                                      loss_fn,\n",
    "                                                                                      optimizer,\n",
    "                                                                                      num_epochs)"
   ]
  },
  {
   "cell_type": "code",
   "execution_count": 16,
   "id": "capital-connectivity",
   "metadata": {},
   "outputs": [
    {
     "data": {
      "image/png": "[encoded data removed]",
      "text/plain": [
       "<Figure size 432x288 with 1 Axes>"
      ]
     },
     "metadata": {
      "needs_background": "light"
     },
     "output_type": "display_data"
    }
   ],
   "source": [
    "v_loss = [v for v in val_loss_hist]\n",
    "t_loss = [t for t in train_loss_hist]\n",
    "\n",
    "plt.title(\"Validation loss and training loss vs Number of Training Epochs\")\n",
    "plt.xlabel(\"Training Epochs\")\n",
    "plt.ylabel(\"Loss\")\n",
    "plt.plot(range(1, num_epochs+1), v_loss, label=\"Validation Loss\")\n",
    "plt.plot(range(1, num_epochs+1), t_loss, label=\"Training Loss\")\n",
    "# plt.ylim((0,1.))\n",
    "plt.xticks(np.arange(1, num_epochs+1, 1.0))\n",
    "plt.legend()\n",
    "plt.show()"
   ]
  },
  {
   "cell_type": "code",
   "execution_count": 17,
   "id": "grand-hardware",
   "metadata": {},
   "outputs": [
    {
     "name": "stdout",
     "output_type": "stream",
     "text": [
      "train\n",
      "<torch.utils.data.dataloader.DataLoader object at 0x000001556A768880>\n",
      "Accuracy train: 0.5294\n",
      "train: correct, total = 26472,50000\n",
      "val\n",
      "<torch.utils.data.dataloader.DataLoader object at 0x000001556A7700D0>\n",
      "Accuracy val: 0.3994\n",
      "val: correct, total = 3994,10000\n"
     ]
    }
   ],
   "source": [
    "validate(model, train_loader, val_loader)"
   ]
  },
  {
   "cell_type": "markdown",
   "id": "united-blade",
   "metadata": {},
   "source": [
    "# Trial 4: With all transformations"
   ]
  },
  {
   "cell_type": "markdown",
   "id": "essential-congress",
   "metadata": {},
   "source": [
    "***In the below function for dataloaders, applying the following transformations on the training data for data augmentation.***\n",
    "\n",
    "**Train Dataset**\n",
    "1. Applying a Random Crop of 3x32x32 with a padding of 4 on the original 3x32x32 image.\n",
    "2. Applying a Random Horizontal Flip with a probability of 50%.\n",
    "3. Applying Random Rotation with the rotation angle of -15 to +15 degrees\n",
    "4. Normalization of the training dataset (not part of data augmentation) for processing the data\n",
    "\n",
    "**Validation Dataset**\n",
    "1. Normalization of the validation dataset (not part of data augmentation) for processing the data"
   ]
  },
  {
   "cell_type": "code",
   "execution_count": 6,
   "id": "returning-simon",
   "metadata": {},
   "outputs": [],
   "source": [
    "# creating a function for getting training data CIFAR100\n",
    "\n",
    "def give_me_train_data(bs=128, num_workers=2, shuffle=True):\n",
    "    ''' would return a train dataloader for CIFAR100'''\n",
    "    mean = (0.5070751592371323, 0.48654887331495095, 0.4409178433670343)\n",
    "    std = (0.2673342858792401, 0.2564384629170883, 0.27615047132568404)\n",
    "    # defining the transformations on the train data\n",
    "    \n",
    "    transformations = [transforms.RandomCrop(32, padding=4),\n",
    "                       transforms.RandomHorizontalFlip(),\n",
    "                       transforms.RandomRotation(15),\n",
    "                       transforms.ToTensor(),\n",
    "                       transforms.Normalize(mean, std)]\n",
    "    transform_train = transforms.Compose(transformations)\n",
    "    \n",
    "    train_set = CIFAR100('./data/cifar100', train=True, \n",
    "                         download=True, transform=transform_train)\n",
    "    \n",
    "    train_loader = torch.utils.data.DataLoader(train_set, batch_size = bs,\n",
    "                                               shuffle=True, num_workers=num_workers)\n",
    "    return train_loader\n",
    "\n",
    "def give_me_test_data(bs=128, num_workers=2, shuffle=True):\n",
    "    ''' would return a test dataloader for CIFAR100'''\n",
    "    mean = (0.5070751592371323, 0.48654887331495095, 0.4409178433670343)\n",
    "    std = (0.2673342858792401, 0.2564384629170883, 0.27615047132568404)\n",
    "    \n",
    "    # defining transformations on the test data\n",
    "    \n",
    "#     transformations = [transforms.Resize(size=(227, 227)), transforms.CenterCrop(224), \n",
    "#                        transforms.ToTensor()]\n",
    "    transformations = [transforms.ToTensor(), transforms.Normalize(mean, std)]\n",
    "    transform_test = transforms.Compose(transformations)\n",
    "    \n",
    "    valid_set = CIFAR100('./data/cifar100', train=False,\n",
    "                  download=True, transform=transform_test)\n",
    "    val_loader = torch.utils.data.DataLoader(valid_set, batch_size=bs, shuffle=False, \n",
    "                                             num_workers=num_workers)\n",
    "    return val_loader"
   ]
  },
  {
   "cell_type": "code",
   "execution_count": 12,
   "id": "timely-spray",
   "metadata": {
    "scrolled": true
   },
   "outputs": [
    {
     "name": "stdout",
     "output_type": "stream",
     "text": [
      "----------------------------------------------------------------\n",
      "        Layer (type)               Output Shape         Param #\n",
      "================================================================\n",
      "            Conv2d-1           [-1, 64, 16, 16]           4,864\n",
      "         MaxPool2d-2             [-1, 64, 8, 8]               0\n",
      "            Conv2d-3            [-1, 128, 4, 4]         204,928\n",
      "         MaxPool2d-4            [-1, 128, 3, 3]               0\n",
      "            Conv2d-5            [-1, 256, 2, 2]         819,456\n",
      "         MaxPool2d-6            [-1, 256, 1, 1]               0\n",
      "            Linear-7                 [-1, 1024]         263,168\n",
      "            Linear-8                 [-1, 1024]       1,049,600\n",
      "            Linear-9                  [-1, 100]         102,500\n",
      "================================================================\n",
      "Total params: 2,444,516\n",
      "Trainable params: 2,444,516\n",
      "Non-trainable params: 0\n",
      "----------------------------------------------------------------\n",
      "Input size (MB): 0.01\n",
      "Forward/backward pass size (MB): 0.21\n",
      "Params size (MB): 9.33\n",
      "Estimated Total Size (MB): 9.54\n",
      "----------------------------------------------------------------\n"
     ]
    }
   ],
   "source": [
    "device = 'cuda'\n",
    "model = SimpleNet()\n",
    "model.to(device) # sending our model to gpu.\n",
    "\n",
    "# Printing the summary of our model. \n",
    "input_shape = (3, 32, 32)\n",
    "summary(model, input_shape)"
   ]
  },
  {
   "cell_type": "code",
   "execution_count": 13,
   "id": "aquatic-consensus",
   "metadata": {},
   "outputs": [
    {
     "name": "stdout",
     "output_type": "stream",
     "text": [
      "Files already downloaded and verified\n",
      "Files already downloaded and verified\n"
     ]
    },
    {
     "data": {
      "text/plain": [
       "SimpleNet(\n",
       "  (layer1): Conv2d(3, 64, kernel_size=(5, 5), stride=(2, 2), padding=(2, 2))\n",
       "  (layer2): Conv2d(64, 128, kernel_size=(5, 5), stride=(2, 2), padding=(2, 2))\n",
       "  (layer3): Conv2d(128, 256, kernel_size=(5, 5), stride=(2, 2), padding=(2, 2))\n",
       "  (mxpool): MaxPool2d(kernel_size=2, stride=2, padding=0, dilation=1, ceil_mode=False)\n",
       "  (mxpool1): MaxPool2d(kernel_size=2, stride=2, padding=1, dilation=1, ceil_mode=False)\n",
       "  (relu): ReLU()\n",
       "  (linear1): Linear(in_features=256, out_features=1024, bias=True)\n",
       "  (linear2): Linear(in_features=1024, out_features=1024, bias=True)\n",
       "  (linear3): Linear(in_features=1024, out_features=100, bias=True)\n",
       ")"
      ]
     },
     "execution_count": 13,
     "metadata": {},
     "output_type": "execute_result"
    }
   ],
   "source": [
    "# Preparing our data loaders for training and test.\n",
    "# Batch size is 128 (tried 256 and 512, 128 gives better performance)\n",
    "\n",
    "train_loader = give_me_train_data(bs = 128, num_workers=4, shuffle=True)\n",
    "val_loader = give_me_test_data(bs = 128, num_workers=4, shuffle=False)\n",
    "\n",
    "optimizer = optim.SGD(model.parameters(), lr=0.01, momentum=0.9, nesterov=True)\n",
    "scheduler = optim.lr_scheduler.ReduceLROnPlateau(optimizer,'min')\n",
    "loss_fn = nn.CrossEntropyLoss()\n",
    "\n",
    "model.apply(init_weights)"
   ]
  },
  {
   "cell_type": "code",
   "execution_count": 14,
   "id": "enormous-advancement",
   "metadata": {
    "scrolled": true
   },
   "outputs": [
    {
     "name": "stdout",
     "output_type": "stream",
     "text": [
      "Epoch 1/10\n",
      "----------\n",
      "train Loss: 4.2447 Acc: 0.0533\n",
      "val Loss: 3.8404 Acc: 0.1062\n",
      "\n",
      "Epoch 2/10\n",
      "----------\n",
      "train Loss: 3.6389 Acc: 0.1401\n",
      "val Loss: 3.6302 Acc: 0.1396\n",
      "\n",
      "Epoch 3/10\n",
      "----------\n",
      "train Loss: 3.3201 Acc: 0.1910\n",
      "val Loss: 3.3238 Acc: 0.1935\n",
      "\n",
      "Epoch 4/10\n",
      "----------\n",
      "train Loss: 3.1136 Acc: 0.2297\n",
      "val Loss: 3.0891 Acc: 0.2369\n",
      "\n",
      "Epoch 5/10\n",
      "----------\n",
      "train Loss: 2.9527 Acc: 0.2595\n",
      "val Loss: 2.8775 Acc: 0.2774\n",
      "\n",
      "Epoch 6/10\n",
      "----------\n",
      "train Loss: 2.8084 Acc: 0.2882\n",
      "val Loss: 2.7876 Acc: 0.2958\n",
      "\n",
      "Epoch 7/10\n",
      "----------\n",
      "train Loss: 2.6937 Acc: 0.3088\n",
      "val Loss: 2.7124 Acc: 0.3117\n",
      "\n",
      "Epoch 8/10\n",
      "----------\n",
      "train Loss: 2.5939 Acc: 0.3342\n",
      "val Loss: 2.5489 Acc: 0.3433\n",
      "\n",
      "Epoch 9/10\n",
      "----------\n",
      "train Loss: 2.5045 Acc: 0.3502\n",
      "val Loss: 2.5571 Acc: 0.3449\n",
      "\n",
      "Epoch 10/10\n",
      "----------\n",
      "train Loss: 2.4255 Acc: 0.3641\n",
      "val Loss: 2.4415 Acc: 0.3657\n",
      "\n",
      "Training complete in 1m 60s\n",
      "Best val Acc: 0.365700\n"
     ]
    }
   ],
   "source": [
    "dataloaders_dict = {'train': train_loader, 'val': val_loader}\n",
    "num_epochs = 10\n",
    "\n",
    "model_fit, val_acc_hist, val_loss_hist, train_acc_hist, train_loss_hist = train_model(model,\n",
    "                                                                                      dataloaders_dict,\n",
    "                                                                                      loss_fn,\n",
    "                                                                                      optimizer,\n",
    "                                                                                      num_epochs)"
   ]
  },
  {
   "cell_type": "code",
   "execution_count": 15,
   "id": "superior-panic",
   "metadata": {},
   "outputs": [
    {
     "data": {
      "image/png": "[encoded data removed]",
      "text/plain": [
       "<Figure size 432x288 with 1 Axes>"
      ]
     },
     "metadata": {
      "needs_background": "light"
     },
     "output_type": "display_data"
    }
   ],
   "source": [
    "v_loss = [v for v in val_loss_hist]\n",
    "t_loss = [t for t in train_loss_hist]\n",
    "\n",
    "plt.title(\"Validation loss and training loss vs Number of Training Epochs\")\n",
    "plt.xlabel(\"Training Epochs\")\n",
    "plt.ylabel(\"Loss\")\n",
    "plt.plot(range(1, num_epochs+1), v_loss, label=\"Validation Loss\")\n",
    "plt.plot(range(1, num_epochs+1), t_loss, label=\"Training Loss\")\n",
    "# plt.ylim((0,1.))\n",
    "plt.xticks(np.arange(1, num_epochs+1, 1.0))\n",
    "plt.legend()\n",
    "plt.show()"
   ]
  },
  {
   "cell_type": "code",
   "execution_count": 16,
   "id": "located-showcase",
   "metadata": {
    "scrolled": true
   },
   "outputs": [
    {
     "name": "stdout",
     "output_type": "stream",
     "text": [
      "train\n",
      "<torch.utils.data.dataloader.DataLoader object at 0x000001E9695B3910>\n",
      "Accuracy train: 0.3919\n",
      "train: correct, total = 19596,50000\n",
      "val\n",
      "<torch.utils.data.dataloader.DataLoader object at 0x000001E960555100>\n",
      "Accuracy val: 0.3657\n",
      "val: correct, total = 3657,10000\n"
     ]
    }
   ],
   "source": [
    "validate(model, train_loader, val_loader)"
   ]
  }
 ],
 "metadata": {
  "kernelspec": {
   "display_name": "mypytorch",
   "language": "python",
   "name": "mypytorch"
  },
  "language_info": {
   "codemirror_mode": {
    "name": "ipython",
    "version": 3
   },
   "file_extension": ".py",
   "mimetype": "text/x-python",
   "name": "python",
   "nbconvert_exporter": "python",
   "pygments_lexer": "ipython3",
   "version": "3.8.5"
  }
 },
 "nbformat": 4,
 "nbformat_minor": 5
}
