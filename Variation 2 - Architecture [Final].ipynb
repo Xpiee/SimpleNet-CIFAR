{
 "cells": [
  {
   "cell_type": "markdown",
   "id": "accepting-feeling",
   "metadata": {},
   "source": [
    "# Trying Variation 2.0"
   ]
  },
  {
   "cell_type": "markdown",
   "id": "covered-botswana",
   "metadata": {},
   "source": [
    "## 1. Adding more layers in between maxpool layers (Vgg like architecture)"
   ]
  },
  {
   "cell_type": "code",
   "execution_count": 1,
   "id": "floppy-treasurer",
   "metadata": {},
   "outputs": [
    {
     "data": {
      "text/plain": [
       "True"
      ]
     },
     "execution_count": 1,
     "metadata": {},
     "output_type": "execute_result"
    }
   ],
   "source": [
    "import torch\n",
    "torch.cuda.is_available()"
   ]
  },
  {
   "cell_type": "code",
   "execution_count": 2,
   "id": "blond-system",
   "metadata": {},
   "outputs": [
    {
     "name": "stdout",
     "output_type": "stream",
     "text": [
      "3.8.5 (default, Sep  3 2020, 21:29:08) [MSC v.1916 64 bit (AMD64)]\n"
     ]
    }
   ],
   "source": [
    "import sys\n",
    "print(sys.version)"
   ]
  },
  {
   "cell_type": "code",
   "execution_count": 3,
   "id": "inner-credit",
   "metadata": {},
   "outputs": [],
   "source": [
    "import numpy as np\n",
    "import pandas as pd\n",
    "import torch.nn.functional as F\n",
    "import torch.nn as nn\n",
    "import torch.optim as optim\n",
    "import torchvision.transforms as transforms\n",
    "import matplotlib.pyplot as plt\n",
    "import datetime\n",
    "import os\n",
    "import torchvision\n",
    "import time\n",
    "import copy\n",
    "from torch.utils.tensorboard import SummaryWriter\n",
    "from torchsummary import summary"
   ]
  },
  {
   "cell_type": "code",
   "execution_count": 4,
   "id": "welsh-sound",
   "metadata": {},
   "outputs": [
    {
     "data": {
      "text/plain": [
       "'1.7.1+cu110'"
      ]
     },
     "execution_count": 4,
     "metadata": {},
     "output_type": "execute_result"
    }
   ],
   "source": [
    "torch.__version__"
   ]
  },
  {
   "cell_type": "code",
   "execution_count": 5,
   "id": "arabic-baseball",
   "metadata": {},
   "outputs": [],
   "source": [
    "from torchvision.datasets import CIFAR100\n",
    "from torch.utils.data import DataLoader"
   ]
  },
  {
   "cell_type": "code",
   "execution_count": 6,
   "id": "moral-helicopter",
   "metadata": {},
   "outputs": [],
   "source": [
    "# creating a function for getting training data CIFAR100\n",
    "\n",
    "def give_me_train_data(bs=128, num_workers=2, shuffle=True):\n",
    "    ''' would return a train dataloader for CIFAR100'''\n",
    "    mean = (0.5070751592371323, 0.48654887331495095, 0.4409178433670343)\n",
    "    std = (0.2673342858792401, 0.2564384629170883, 0.27615047132568404)\n",
    "    # defining the transformations on the train data\n",
    "    \n",
    "    transformations = [transforms.RandomCrop(32, padding=4),\n",
    "                       transforms.RandomHorizontalFlip(),\n",
    "                       transforms.RandomRotation(15),\n",
    "                       transforms.ToTensor(),\n",
    "                       transforms.Normalize(mean, std, inplace = True)]\n",
    "    transform_train = transforms.Compose(transformations)\n",
    "    \n",
    "    train_set = CIFAR100('./data/cifar100', train=True, \n",
    "                         download=True, transform=transform_train)\n",
    "    \n",
    "    train_loader = torch.utils.data.DataLoader(train_set, batch_size = bs,\n",
    "                                               shuffle=True, num_workers=num_workers)\n",
    "    return train_loader\n",
    "\n",
    "def give_me_test_data(bs=128, num_workers=2, shuffle=True):\n",
    "    ''' would return a test dataloader for CIFAR100'''\n",
    "    mean = (0.5070751592371323, 0.48654887331495095, 0.4409178433670343)\n",
    "    std = (0.2673342858792401, 0.2564384629170883, 0.27615047132568404)\n",
    "    \n",
    "    # defining transformations on the test data\n",
    "    \n",
    "    transformations = [transforms.ToTensor(), transforms.Normalize(mean, std, inplace=True)]\n",
    "    transform_test = transforms.Compose(transformations)\n",
    "    \n",
    "    valid_set = CIFAR100('./data/cifar100', train=False,\n",
    "                  download=True, transform=transform_test)\n",
    "    val_loader = torch.utils.data.DataLoader(valid_set, batch_size=bs, shuffle=False, \n",
    "                                             num_workers=num_workers)\n",
    "    return val_loader"
   ]
  },
  {
   "cell_type": "code",
   "execution_count": 7,
   "id": "naval-heater",
   "metadata": {},
   "outputs": [],
   "source": [
    "mean = (0.5070751592371323, 0.48654887331495095, 0.4409178433670343)\n",
    "std = (0.2673342858792401, 0.2564384629170883, 0.27615047132568404)\n",
    "from numpy import dstack\n",
    "\n",
    "def compute_mean_std(c100):\n",
    "\n",
    "    r = np.dstack([c100[i][1][:, :, 0] for i in range(len(c100))])\n",
    "    g = np.dstack([c100[i][1][:, :, 1] for i in range(len(c100))])\n",
    "    b = np.dstack([c100[i][1][:, :, 2] for i in range(len(c100))])\n",
    "    mean = np.mean(r), np.mean(g), np.mean(b)\n",
    "    std = np.std(r), np.std(g), np.std(b)\n",
    "\n",
    "    return mean, std"
   ]
  },
  {
   "cell_type": "code",
   "execution_count": 8,
   "id": "expensive-birth",
   "metadata": {
    "scrolled": true
   },
   "outputs": [
    {
     "name": "stdout",
     "output_type": "stream",
     "text": [
      "Files already downloaded and verified\n",
      "Files already downloaded and verified\n"
     ]
    }
   ],
   "source": [
    "# Preparing our data loaders for training and test.\n",
    "# Batch size is 128 (tried 256 and 512, 128 gives better performance)\n",
    "\n",
    "train_loader = give_me_train_data(bs = 128, num_workers=4, shuffle=True)\n",
    "val_loader = give_me_test_data(bs = 128, num_workers=4, shuffle=False)"
   ]
  },
  {
   "cell_type": "code",
   "execution_count": 9,
   "id": "union-citizenship",
   "metadata": {},
   "outputs": [],
   "source": [
    "def train_model(model, dataloaders, criterion, optimizer, num_epochs=25):\n",
    "    since = time.time()\n",
    "\n",
    "    val_acc_history, val_loss_history = [], []\n",
    "    train_acc_history, train_loss_history = [], []\n",
    "\n",
    "    best_model_wts = copy.deepcopy(model.state_dict())\n",
    "    best_acc = 0.0\n",
    "    loss_train = 0.0\n",
    "\n",
    "    for epoch in range(1, num_epochs+1):\n",
    "        print('Epoch {}/{}'.format(epoch, num_epochs))\n",
    "        print('-' * 10)\n",
    "\n",
    "        # Each epoch has a training and validation phase\n",
    "        for phase in ['train', 'val']:\n",
    "            if phase == 'train':\n",
    "                model.train()  # Set model to training mode\n",
    "            else:\n",
    "                model.eval()   # Set model to evaluate mode\n",
    "\n",
    "            running_loss = 0.0\n",
    "            running_corrects = 0\n",
    "\n",
    "            # Iterate over data.\n",
    "            for inputs, labels in dataloaders[phase]:\n",
    "                inputs = inputs.to(device)\n",
    "                labels = labels.to(device)\n",
    "\n",
    "                # zero the parameter gradients\n",
    "                optimizer.zero_grad()\n",
    "\n",
    "                # forward\n",
    "                # track history if only in train\n",
    "                with torch.set_grad_enabled(phase == 'train'):\n",
    "                    # Get model outputs and calculate loss\n",
    "                    outputs = model(inputs)\n",
    "                    loss = criterion(outputs, labels)\n",
    "\n",
    "                    _, preds = torch.max(outputs, 1)\n",
    "\n",
    "                    # backward + optimize only if in training phase\n",
    "                    if phase == 'train':\n",
    "                        loss.backward()\n",
    "                        optimizer.step()\n",
    "                        loss_train += loss.item()\n",
    "\n",
    "                # statistics\n",
    "                running_loss += loss.item() * inputs.size(0)\n",
    "                running_corrects += torch.sum(preds == labels.data)\n",
    "\n",
    "            epoch_loss = running_loss / len(dataloaders[phase].dataset)\n",
    "            epoch_acc = running_corrects.double() / len(dataloaders[phase].dataset)\n",
    "\n",
    "            print('{} Loss: {:.4f} Acc: {:.4f}'.format(phase, epoch_loss, epoch_acc))\n",
    "            \n",
    "            # deep copy the model\n",
    "            if phase == 'val' and epoch_acc > best_acc:\n",
    "                best_acc = epoch_acc\n",
    "                best_model_wts = copy.deepcopy(model.state_dict())\n",
    "            if phase == 'val':\n",
    "                val_acc_history.append(epoch_acc)\n",
    "                val_loss_history.append(epoch_loss)\n",
    "            if phase == 'train':\n",
    "                train_acc_history.append(epoch_acc)\n",
    "                train_loss_history.append(epoch_loss)\n",
    "                \n",
    "        # decreasing learning rate with the epochs\n",
    "        scheduler.step(loss_train)\n",
    "        print()\n",
    "\n",
    "    time_elapsed = time.time() - since\n",
    "    print('Training complete in {:.0f}m {:.0f}s'.format(time_elapsed // 60, time_elapsed % 60))\n",
    "    print('Best val Acc: {:4f}'.format(best_acc))\n",
    "\n",
    "    # load best model weights\n",
    "    model.load_state_dict(best_model_wts)\n",
    "    return model, val_acc_history, val_loss_history, train_acc_history, train_loss_history"
   ]
  },
  {
   "cell_type": "code",
   "execution_count": 10,
   "id": "noted-audio",
   "metadata": {},
   "outputs": [],
   "source": [
    "# validate the training on validation set\n",
    "def validate(model, train_loader, val_loader):\n",
    "    for name, loader in [('train', train_loader), ('val', val_loader)]:\n",
    "        correct = 0\n",
    "        total = 0\n",
    "        print(name)\n",
    "        print(loader)\n",
    "        with torch.no_grad():\n",
    "            for imgs, labels in loader:\n",
    "                imgs = imgs.to(device=device)\n",
    "                labels = labels.to(device=device)\n",
    "                \n",
    "                y = model(imgs)\n",
    "                _, predicted = torch.max(y, dim=1)\n",
    "                total += labels.shape[0]\n",
    "                correct += int((predicted == labels).sum())\n",
    "        print(\"Accuracy {}: {:.4f}\".format(name, correct/total))\n",
    "        print(\"{}: correct, total = {},{}\".format(name, correct, total))"
   ]
  },
  {
   "cell_type": "code",
   "execution_count": 11,
   "id": "cross-landing",
   "metadata": {},
   "outputs": [],
   "source": [
    "# Initialize the weights of layers.\n",
    "def init_weights(m):\n",
    "    if type(m) == nn.Linear:\n",
    "        torch.nn.init.xavier_uniform_(m.weight)\n",
    "        m.bias.data.fill_(0.01)"
   ]
  },
  {
   "cell_type": "markdown",
   "id": "neural-andrew",
   "metadata": {},
   "source": [
    "# Trial 1: Adding Layers 33 and Layers 44 only"
   ]
  },
  {
   "cell_type": "code",
   "execution_count": 16,
   "id": "european-leonard",
   "metadata": {},
   "outputs": [],
   "source": [
    "class SimpleNet(nn.Module):\n",
    "    def __init__(self, in_c, n_classes):\n",
    "        super(SimpleNet, self).__init__()\n",
    "        kz = 3\n",
    "        st = 1\n",
    "        padd = 1\n",
    "        self.layer1 = nn.Conv2d(in_channels = in_c, out_channels = 64, kernel_size = kz,\n",
    "                                stride = st, padding = padd)\n",
    "        \n",
    "        self.layer2 = nn.Conv2d(in_channels = 64, out_channels = 128, kernel_size = kz, \n",
    "                               stride = st, padding = padd)\n",
    "        \n",
    "        self.layer3 = nn.Conv2d(in_channels = 128, out_channels = 256, kernel_size = kz, \n",
    "                               stride = st, padding = padd)\n",
    "        self.layer33 = nn.Conv2d(in_channels = 256, out_channels = 256, kernel_size = kz, \n",
    "                               stride = st, padding = padd)\n",
    "\n",
    "        self.layer4 = nn.Conv2d(in_channels = 256, out_channels = 512, kernel_size = kz, \n",
    "                               stride = st, padding = padd)\n",
    "        self.layer44 = nn.Conv2d(in_channels = 512, out_channels = 512, kernel_size = kz, \n",
    "                               stride = st, padding = padd)\n",
    "\n",
    "        self.mxpool = nn.MaxPool2d(2, 2)\n",
    "        self.dense_decoder = nn.Sequential(\n",
    "            nn.Linear(2048, 1024), \n",
    "            nn.ReLU(),\n",
    "            nn.Linear(1024, 1024), \n",
    "            nn.ReLU(),\n",
    "            nn.Linear(1024, n_classes))\n",
    "        \n",
    "    def forward(self, x):\n",
    "\n",
    "        x = F.relu(self.layer1(x))\n",
    "        x = self.mxpool(x)\n",
    "\n",
    "        x = F.relu(self.layer2(x))\n",
    "        x = self.mxpool(x)\n",
    "\n",
    "        x = F.relu(self.layer3(x))\n",
    "        x = F.relu(self.layer33(x))\n",
    "        x = self.mxpool(x)\n",
    "\n",
    "        x = F.relu(self.layer4(x))\n",
    "        x = F.relu(self.layer44(x))\n",
    "        x = self.mxpool(x)\n",
    "    \n",
    "        x = x.view(x.size()[0], -1)\n",
    "        x = self.dense_decoder(x)        \n",
    "        return x"
   ]
  },
  {
   "cell_type": "code",
   "execution_count": 17,
   "id": "democratic-graduation",
   "metadata": {},
   "outputs": [],
   "source": [
    "device = 'cuda'\n",
    "model = SimpleNet(3, 100)\n",
    "model.to(device) # sending our model to gpu.\n",
    "model.apply(init_weights)\n",
    "optimizer = optim.SGD(model.parameters(), lr=0.01, momentum=0.9, nesterov=True)\n",
    "scheduler = optim.lr_scheduler.ReduceLROnPlateau(optimizer,'min')\n",
    "loss_fn = nn.CrossEntropyLoss()"
   ]
  },
  {
   "cell_type": "code",
   "execution_count": 18,
   "id": "quality-ceramic",
   "metadata": {
    "scrolled": true
   },
   "outputs": [
    {
     "name": "stdout",
     "output_type": "stream",
     "text": [
      "----------------------------------------------------------------\n",
      "        Layer (type)               Output Shape         Param #\n",
      "================================================================\n",
      "            Conv2d-1           [-1, 64, 32, 32]           1,792\n",
      "         MaxPool2d-2           [-1, 64, 16, 16]               0\n",
      "            Conv2d-3          [-1, 128, 16, 16]          73,856\n",
      "         MaxPool2d-4            [-1, 128, 8, 8]               0\n",
      "            Conv2d-5            [-1, 256, 8, 8]         295,168\n",
      "            Conv2d-6            [-1, 256, 8, 8]         590,080\n",
      "         MaxPool2d-7            [-1, 256, 4, 4]               0\n",
      "            Conv2d-8            [-1, 512, 4, 4]       1,180,160\n",
      "            Conv2d-9            [-1, 512, 4, 4]       2,359,808\n",
      "        MaxPool2d-10            [-1, 512, 2, 2]               0\n",
      "           Linear-11                 [-1, 1024]       2,098,176\n",
      "             ReLU-12                 [-1, 1024]               0\n",
      "           Linear-13                 [-1, 1024]       1,049,600\n",
      "             ReLU-14                 [-1, 1024]               0\n",
      "           Linear-15                  [-1, 100]         102,500\n",
      "================================================================\n",
      "Total params: 7,751,140\n",
      "Trainable params: 7,751,140\n",
      "Non-trainable params: 0\n",
      "----------------------------------------------------------------\n",
      "Input size (MB): 0.01\n",
      "Forward/backward pass size (MB): 1.39\n",
      "Params size (MB): 29.57\n",
      "Estimated Total Size (MB): 30.97\n",
      "----------------------------------------------------------------\n"
     ]
    }
   ],
   "source": [
    "# Printing the summary of our model. \n",
    "input_shape = (3, 32, 32)\n",
    "summary(model, input_shape)"
   ]
  },
  {
   "cell_type": "code",
   "execution_count": 19,
   "id": "chief-tattoo",
   "metadata": {
    "scrolled": true
   },
   "outputs": [
    {
     "name": "stdout",
     "output_type": "stream",
     "text": [
      "Epoch 1/10\n",
      "----------\n",
      "train Loss: 4.4314 Acc: 0.0290\n",
      "val Loss: 4.0616 Acc: 0.0713\n",
      "\n",
      "Epoch 2/10\n",
      "----------\n",
      "train Loss: 3.8829 Acc: 0.0971\n",
      "val Loss: 3.6159 Acc: 0.1464\n",
      "\n",
      "Epoch 3/10\n",
      "----------\n",
      "train Loss: 3.5263 Acc: 0.1558\n",
      "val Loss: 3.3080 Acc: 0.1998\n",
      "\n",
      "Epoch 4/10\n",
      "----------\n",
      "train Loss: 3.2347 Acc: 0.2081\n",
      "val Loss: 3.1721 Acc: 0.2265\n",
      "\n",
      "Epoch 5/10\n",
      "----------\n",
      "train Loss: 3.0150 Acc: 0.2485\n",
      "val Loss: 2.9071 Acc: 0.2753\n",
      "\n",
      "Epoch 6/10\n",
      "----------\n",
      "train Loss: 2.8218 Acc: 0.2873\n",
      "val Loss: 2.7713 Acc: 0.3028\n",
      "\n",
      "Epoch 7/10\n",
      "----------\n",
      "train Loss: 2.6531 Acc: 0.3202\n",
      "val Loss: 2.6610 Acc: 0.3266\n",
      "\n",
      "Epoch 8/10\n",
      "----------\n",
      "train Loss: 2.4910 Acc: 0.3563\n",
      "val Loss: 2.4235 Acc: 0.3731\n",
      "\n",
      "Epoch 9/10\n",
      "----------\n",
      "train Loss: 2.3447 Acc: 0.3846\n",
      "val Loss: 2.3192 Acc: 0.3971\n",
      "\n",
      "Epoch 10/10\n",
      "----------\n",
      "train Loss: 2.2141 Acc: 0.4145\n",
      "val Loss: 2.2370 Acc: 0.4143\n",
      "\n",
      "Training complete in 2m 23s\n",
      "Best val Acc: 0.414300\n"
     ]
    }
   ],
   "source": [
    "dataloaders_dict = {'train': train_loader, 'val': val_loader}\n",
    "num_epochs = 10\n",
    "\n",
    "model_fit, val_acc_hist, val_loss_hist, train_acc_hist, train_loss_hist = train_model(model,\n",
    "                                                                                      dataloaders_dict,\n",
    "                                                                                      loss_fn,\n",
    "                                                                                      optimizer,\n",
    "                                                                                      num_epochs)"
   ]
  },
  {
   "cell_type": "code",
   "execution_count": 20,
   "id": "short-eight",
   "metadata": {},
   "outputs": [
    {
     "data": {
      "image/png": "[encoded data removed]",
      "text/plain": [
       "<Figure size 432x288 with 1 Axes>"
      ]
     },
     "metadata": {
      "needs_background": "light"
     },
     "output_type": "display_data"
    }
   ],
   "source": [
    "v_loss = [v for v in val_loss_hist]\n",
    "t_loss = [t for t in train_loss_hist]\n",
    "\n",
    "plt.title(\"Validation loss and training loss vs Number of Training Epochs\")\n",
    "plt.xlabel(\"Training Epochs\")\n",
    "plt.ylabel(\"Loss\")\n",
    "plt.plot(range(1, num_epochs+1), v_loss, label=\"Validation Loss\")\n",
    "plt.plot(range(1, num_epochs+1), t_loss, label=\"Training Loss\")\n",
    "# plt.ylim((0,1.))\n",
    "plt.xticks(np.arange(1, num_epochs+1, 1.0))\n",
    "plt.legend()\n",
    "plt.show()"
   ]
  },
  {
   "cell_type": "code",
   "execution_count": 21,
   "id": "light-progressive",
   "metadata": {},
   "outputs": [
    {
     "name": "stdout",
     "output_type": "stream",
     "text": [
      "train\n",
      "<torch.utils.data.dataloader.DataLoader object at 0x000002945E1C81F0>\n",
      "Accuracy train: 0.4424\n",
      "train: correct, total = 22121,50000\n",
      "val\n",
      "<torch.utils.data.dataloader.DataLoader object at 0x0000029479AAD6D0>\n",
      "Accuracy val: 0.4143\n",
      "val: correct, total = 4143,10000\n"
     ]
    }
   ],
   "source": [
    "validate(model, train_loader, val_loader)"
   ]
  },
  {
   "cell_type": "markdown",
   "id": "deluxe-responsibility",
   "metadata": {},
   "source": [
    "Running for 20 more epochs to check for convergence"
   ]
  },
  {
   "cell_type": "code",
   "execution_count": 22,
   "id": "mechanical-farming",
   "metadata": {
    "scrolled": true
   },
   "outputs": [
    {
     "name": "stdout",
     "output_type": "stream",
     "text": [
      "Epoch 1/20\n",
      "----------\n",
      "train Loss: 2.0926 Acc: 0.4407\n",
      "val Loss: 2.1501 Acc: 0.4381\n",
      "\n",
      "Epoch 2/20\n",
      "----------\n",
      "train Loss: 1.9817 Acc: 0.4631\n",
      "val Loss: 2.1112 Acc: 0.4448\n",
      "\n",
      "Epoch 3/20\n",
      "----------\n",
      "train Loss: 1.8748 Acc: 0.4875\n",
      "val Loss: 2.0718 Acc: 0.4588\n",
      "\n",
      "Epoch 4/20\n",
      "----------\n",
      "train Loss: 1.7771 Acc: 0.5113\n",
      "val Loss: 2.0369 Acc: 0.4665\n",
      "\n",
      "Epoch 5/20\n",
      "----------\n",
      "train Loss: 1.6819 Acc: 0.5318\n",
      "val Loss: 2.0363 Acc: 0.4754\n",
      "\n",
      "Epoch 6/20\n",
      "----------\n",
      "train Loss: 1.5999 Acc: 0.5530\n",
      "val Loss: 2.0051 Acc: 0.4736\n",
      "\n",
      "Epoch 7/20\n",
      "----------\n",
      "train Loss: 1.5139 Acc: 0.5718\n",
      "val Loss: 1.9571 Acc: 0.4921\n",
      "\n",
      "Epoch 8/20\n",
      "----------\n",
      "train Loss: 1.4381 Acc: 0.5918\n",
      "val Loss: 1.9010 Acc: 0.5088\n",
      "\n",
      "Epoch 9/20\n",
      "----------\n",
      "train Loss: 1.3661 Acc: 0.6062\n",
      "val Loss: 1.9551 Acc: 0.5039\n",
      "\n",
      "Epoch 10/20\n",
      "----------\n",
      "train Loss: 1.2909 Acc: 0.6264\n",
      "val Loss: 2.0027 Acc: 0.5081\n",
      "\n",
      "Epoch 11/20\n",
      "----------\n",
      "train Loss: 1.2315 Acc: 0.6419\n",
      "val Loss: 1.9755 Acc: 0.5095\n",
      "\n",
      "Epoch 12/20\n",
      "----------\n",
      "train Loss: 1.1534 Acc: 0.6613\n",
      "val Loss: 2.0505 Acc: 0.5072\n",
      "\n",
      "Epoch 13/20\n",
      "----------\n",
      "train Loss: 0.7661 Acc: 0.7709\n",
      "val Loss: 2.0386 Acc: 0.5439\n",
      "\n",
      "Epoch 14/20\n",
      "----------\n",
      "train Loss: 0.6583 Acc: 0.8031\n",
      "val Loss: 2.0994 Acc: 0.5398\n",
      "\n",
      "Epoch 15/20\n",
      "----------\n",
      "train Loss: 0.6033 Acc: 0.8142\n",
      "val Loss: 2.1725 Acc: 0.5439\n",
      "\n",
      "Epoch 16/20\n",
      "----------\n",
      "train Loss: 0.5689 Acc: 0.8285\n",
      "val Loss: 2.1872 Acc: 0.5433\n",
      "\n",
      "Epoch 17/20\n",
      "----------\n",
      "train Loss: 0.5290 Acc: 0.8379\n",
      "val Loss: 2.2732 Acc: 0.5407\n",
      "\n",
      "Epoch 18/20\n",
      "----------\n",
      "train Loss: 0.5113 Acc: 0.8429\n",
      "val Loss: 2.3008 Acc: 0.5397\n",
      "\n",
      "Epoch 19/20\n",
      "----------\n",
      "train Loss: 0.4797 Acc: 0.8511\n",
      "val Loss: 2.3669 Acc: 0.5423\n",
      "\n",
      "Epoch 20/20\n",
      "----------\n",
      "train Loss: 0.4610 Acc: 0.8571\n",
      "val Loss: 2.3942 Acc: 0.5392\n",
      "\n",
      "Training complete in 4m 46s\n",
      "Best val Acc: 0.543900\n"
     ]
    }
   ],
   "source": [
    "dataloaders_dict = {'train': train_loader, 'val': val_loader}\n",
    "num_epochs = 20\n",
    "\n",
    "model_fit, val_acc_hist, val_loss_hist, train_acc_hist, train_loss_hist = train_model(model,\n",
    "                                                                                      dataloaders_dict,\n",
    "                                                                                      loss_fn,\n",
    "                                                                                      optimizer,\n",
    "                                                                                      num_epochs)"
   ]
  },
  {
   "cell_type": "code",
   "execution_count": 23,
   "id": "antique-plymouth",
   "metadata": {},
   "outputs": [
    {
     "data": {
      "image/png": "[encoded data removed]",
      "text/plain": [
       "<Figure size 432x288 with 1 Axes>"
      ]
     },
     "metadata": {
      "needs_background": "light"
     },
     "output_type": "display_data"
    }
   ],
   "source": [
    "v_loss_1 = [v for v in val_loss_hist]\n",
    "t_loss_1 = [t for t in train_loss_hist]\n",
    "\n",
    "v_loss_30 = v_loss + v_loss_1\n",
    "t_loss_30 = t_loss + t_loss_1\n",
    "\n",
    "num_epochs = 30\n",
    "plt.title(\"Validation loss and training loss vs Number of Training Epochs\")\n",
    "plt.xlabel(\"Training Epochs\")\n",
    "plt.ylabel(\"Loss\")\n",
    "plt.plot(range(1, num_epochs+1), v_loss_30, label=\"Validation Loss\")\n",
    "plt.plot(range(1, num_epochs+1), t_loss_30, label=\"Training Loss\")\n",
    "# plt.ylim((0,1.))\n",
    "plt.xticks(np.arange(1, num_epochs+1, 1.0))\n",
    "plt.legend()\n",
    "plt.show()"
   ]
  },
  {
   "cell_type": "markdown",
   "id": "diagnostic-tiffany",
   "metadata": {},
   "source": [
    "# Trial 2: Adding 1 extra conv layer with stride = 1 before each max pool layer\n",
    "\n",
    "that is: Added Layer 11, Layer 22, Layer 33"
   ]
  },
  {
   "cell_type": "code",
   "execution_count": 12,
   "id": "military-example",
   "metadata": {},
   "outputs": [],
   "source": [
    "class SimpleNet(nn.Module):\n",
    "    def __init__(self, in_c, n_classes):\n",
    "        super(SimpleNet, self).__init__()\n",
    "        kz = 5\n",
    "        st = 1\n",
    "        padd = 2\n",
    "        self.layer1 = nn.Conv2d(in_channels = in_c, out_channels = 64, kernel_size = kz,\n",
    "                                stride = st, padding = padd)\n",
    "        self.layer11 = nn.Conv2d(in_channels = 64, out_channels = 64, kernel_size = kz, \n",
    "                                stride = st, padding = padd)\n",
    "        \n",
    "        self.layer2 = nn.Conv2d(in_channels = 64, out_channels = 128, kernel_size = kz, \n",
    "                               stride = st, padding = padd)\n",
    "        self.layer22 = nn.Conv2d(in_channels = 128, out_channels = 128, kernel_size = kz, \n",
    "                                 stride = st, padding = padd)\n",
    "        \n",
    "        self.layer3 = nn.Conv2d(in_channels = 128, out_channels = 256, kernel_size = kz, \n",
    "                               stride = st, padding = padd)\n",
    "        self.layer33 = nn.Conv2d(in_channels = 256, out_channels = 256, kernel_size = kz, \n",
    "                               stride = st, padding = padd)\n",
    "\n",
    "        self.mxpool = nn.MaxPool2d(2, 2)\n",
    "        self.dense_decoder = nn.Sequential(\n",
    "            nn.Linear(4096, 1024), \n",
    "            nn.ReLU(),\n",
    "            nn.Linear(1024, 1024), \n",
    "            nn.ReLU(),\n",
    "            nn.Linear(1024, n_classes))\n",
    "        \n",
    "    def forward(self, x):\n",
    "\n",
    "        x = F.relu(self.layer1(x))\n",
    "        x = F.relu(self.layer11(x)) \n",
    "        x = self.mxpool(x)\n",
    "\n",
    "        x = F.relu(self.layer2(x))\n",
    "        x = F.relu(self.layer22(x)) \n",
    "        x = self.mxpool(x)\n",
    "\n",
    "        x = F.relu(self.layer3(x))\n",
    "        x = F.relu(self.layer33(x))\n",
    "        x = self.mxpool(x)\n",
    "    \n",
    "        x = x.view(x.size()[0], -1)\n",
    "#         print(x.shape)\n",
    "        x = self.dense_decoder(x)        \n",
    "        return x"
   ]
  },
  {
   "cell_type": "code",
   "execution_count": 13,
   "id": "intensive-scope",
   "metadata": {},
   "outputs": [],
   "source": [
    "device = 'cuda'\n",
    "model = SimpleNet(3, 100)\n",
    "model.to(device) # sending our model to gpu.\n",
    "model.apply(init_weights)\n",
    "optimizer = optim.SGD(model.parameters(), lr=0.01, momentum=0.9, nesterov=True)\n",
    "scheduler = optim.lr_scheduler.ReduceLROnPlateau(optimizer,'min')\n",
    "loss_fn = nn.CrossEntropyLoss()"
   ]
  },
  {
   "cell_type": "code",
   "execution_count": 14,
   "id": "rocky-sustainability",
   "metadata": {
    "scrolled": true
   },
   "outputs": [
    {
     "name": "stdout",
     "output_type": "stream",
     "text": [
      "----------------------------------------------------------------\n",
      "        Layer (type)               Output Shape         Param #\n",
      "================================================================\n",
      "            Conv2d-1           [-1, 64, 32, 32]           4,864\n",
      "            Conv2d-2           [-1, 64, 32, 32]         102,464\n",
      "         MaxPool2d-3           [-1, 64, 16, 16]               0\n",
      "            Conv2d-4          [-1, 128, 16, 16]         204,928\n",
      "            Conv2d-5          [-1, 128, 16, 16]         409,728\n",
      "         MaxPool2d-6            [-1, 128, 8, 8]               0\n",
      "            Conv2d-7            [-1, 256, 8, 8]         819,456\n",
      "            Conv2d-8            [-1, 256, 8, 8]       1,638,656\n",
      "         MaxPool2d-9            [-1, 256, 4, 4]               0\n",
      "           Linear-10                 [-1, 1024]       4,195,328\n",
      "             ReLU-11                 [-1, 1024]               0\n",
      "           Linear-12                 [-1, 1024]       1,049,600\n",
      "             ReLU-13                 [-1, 1024]               0\n",
      "           Linear-14                  [-1, 100]         102,500\n",
      "================================================================\n",
      "Total params: 8,527,524\n",
      "Trainable params: 8,527,524\n",
      "Non-trainable params: 0\n",
      "----------------------------------------------------------------\n",
      "Input size (MB): 0.01\n",
      "Forward/backward pass size (MB): 2.00\n",
      "Params size (MB): 32.53\n",
      "Estimated Total Size (MB): 34.54\n",
      "----------------------------------------------------------------\n"
     ]
    }
   ],
   "source": [
    "# Printing the summary of our model. \n",
    "input_shape = (3, 32, 32)\n",
    "summary(model, input_shape)"
   ]
  },
  {
   "cell_type": "code",
   "execution_count": 15,
   "id": "herbal-guinea",
   "metadata": {
    "scrolled": true
   },
   "outputs": [
    {
     "name": "stdout",
     "output_type": "stream",
     "text": [
      "Epoch 1/10\n",
      "----------\n",
      "train Loss: 4.2848 Acc: 0.0465\n",
      "val Loss: 3.8741 Acc: 0.0955\n",
      "\n",
      "Epoch 2/10\n",
      "----------\n",
      "train Loss: 3.7121 Acc: 0.1276\n",
      "val Loss: 3.4770 Acc: 0.1640\n",
      "\n",
      "Epoch 3/10\n",
      "----------\n",
      "train Loss: 3.3530 Acc: 0.1905\n",
      "val Loss: 3.1361 Acc: 0.2345\n",
      "\n",
      "Epoch 4/10\n",
      "----------\n",
      "train Loss: 3.0859 Acc: 0.2426\n",
      "val Loss: 2.9250 Acc: 0.2733\n",
      "\n",
      "Epoch 5/10\n",
      "----------\n",
      "train Loss: 2.8452 Acc: 0.2858\n",
      "val Loss: 2.7162 Acc: 0.3181\n",
      "\n",
      "Epoch 6/10\n",
      "----------\n",
      "train Loss: 2.6333 Acc: 0.3284\n",
      "val Loss: 2.5654 Acc: 0.3491\n",
      "\n",
      "Epoch 7/10\n",
      "----------\n",
      "train Loss: 2.4357 Acc: 0.3699\n",
      "val Loss: 2.3821 Acc: 0.3938\n",
      "\n",
      "Epoch 8/10\n",
      "----------\n",
      "train Loss: 2.2635 Acc: 0.4068\n",
      "val Loss: 2.2086 Acc: 0.4230\n",
      "\n",
      "Epoch 9/10\n",
      "----------\n",
      "train Loss: 2.1105 Acc: 0.4393\n",
      "val Loss: 2.1005 Acc: 0.4548\n",
      "\n",
      "Epoch 10/10\n",
      "----------\n",
      "train Loss: 1.9680 Acc: 0.4693\n",
      "val Loss: 2.0317 Acc: 0.4674\n",
      "\n",
      "Training complete in 3m 8s\n",
      "Best val Acc: 0.467400\n"
     ]
    }
   ],
   "source": [
    "dataloaders_dict = {'train': train_loader, 'val': val_loader}\n",
    "num_epochs = 10\n",
    "\n",
    "model_fit, val_acc_hist, val_loss_hist, train_acc_hist, train_loss_hist = train_model(model,\n",
    "                                                                                      dataloaders_dict,\n",
    "                                                                                      loss_fn,\n",
    "                                                                                      optimizer,\n",
    "                                                                                      num_epochs)"
   ]
  },
  {
   "cell_type": "code",
   "execution_count": 16,
   "id": "cloudy-junction",
   "metadata": {},
   "outputs": [],
   "source": [
    "v_loss = [v for v in val_loss_hist]\n",
    "t_loss = [t for t in train_loss_hist]"
   ]
  },
  {
   "cell_type": "code",
   "execution_count": 17,
   "id": "close-active",
   "metadata": {
    "scrolled": true
   },
   "outputs": [
    {
     "data": {
      "image/png": "[encoded data removed]",
      "text/plain": [
       "<Figure size 432x288 with 1 Axes>"
      ]
     },
     "metadata": {
      "needs_background": "light"
     },
     "output_type": "display_data"
    }
   ],
   "source": [
    "plt.title(\"Validation loss and training loss vs Number of Training Epochs\")\n",
    "plt.xlabel(\"Training Epochs\")\n",
    "plt.ylabel(\"Loss\")\n",
    "plt.plot(range(1, num_epochs+1), v_loss, label=\"Validation Loss\")\n",
    "plt.plot(range(1, num_epochs+1), t_loss, label=\"Training Loss\")\n",
    "# plt.ylim((0,1.))\n",
    "plt.xticks(np.arange(1, num_epochs+1, 1.0))\n",
    "plt.legend()\n",
    "plt.show()"
   ]
  },
  {
   "cell_type": "code",
   "execution_count": 18,
   "id": "czech-actress",
   "metadata": {
    "scrolled": true
   },
   "outputs": [
    {
     "name": "stdout",
     "output_type": "stream",
     "text": [
      "train\n",
      "<torch.utils.data.dataloader.DataLoader object at 0x000001B66D1FAFD0>\n",
      "Accuracy train: 0.5136\n",
      "train: correct, total = 25678,50000\n",
      "val\n",
      "<torch.utils.data.dataloader.DataLoader object at 0x000001B66D22B430>\n",
      "Accuracy val: 0.4674\n",
      "val: correct, total = 4674,10000\n"
     ]
    }
   ],
   "source": [
    "validate(model, train_loader, val_loader)"
   ]
  },
  {
   "cell_type": "markdown",
   "id": "opened-covering",
   "metadata": {},
   "source": [
    "# Trial 3: Adding 2 Conv Layers on top of previous architecture\n",
    "\n",
    "i.e., \n",
    "1. Layer 4 (with ReLU) and Layer 44 (with ReLU) is added along with a MaxPool Layer. "
   ]
  },
  {
   "cell_type": "code",
   "execution_count": 12,
   "id": "architectural-madison",
   "metadata": {},
   "outputs": [],
   "source": [
    "class SimpleNet(nn.Module):\n",
    "    def __init__(self, in_c, n_classes):\n",
    "        super(SimpleNet, self).__init__()\n",
    "        kz = 5\n",
    "        st = 1\n",
    "        padd = 2\n",
    "        self.layer1 = nn.Conv2d(in_channels = in_c, out_channels = 64, kernel_size = kz,\n",
    "                                stride = st, padding = padd)\n",
    "        self.layer11 = nn.Conv2d(in_channels = 64, out_channels = 64, kernel_size = kz, \n",
    "                                stride = st, padding = padd)\n",
    "        \n",
    "        self.layer2 = nn.Conv2d(in_channels = 64, out_channels = 128, kernel_size = kz, \n",
    "                               stride = st, padding = padd)\n",
    "        self.layer22 = nn.Conv2d(in_channels = 128, out_channels = 128, kernel_size = kz, \n",
    "                                 stride = st, padding = padd)\n",
    "        \n",
    "        self.layer3 = nn.Conv2d(in_channels = 128, out_channels = 256, kernel_size = kz, \n",
    "                               stride = st, padding = padd)\n",
    "        self.layer33 = nn.Conv2d(in_channels = 256, out_channels = 256, kernel_size = kz, \n",
    "                               stride = st, padding = padd)\n",
    "\n",
    "        self.layer4 = nn.Conv2d(in_channels = 256, out_channels = 512, kernel_size = kz, \n",
    "                               stride = st, padding = padd)\n",
    "        self.layer44 = nn.Conv2d(in_channels = 512, out_channels = 512, kernel_size = kz, \n",
    "                               stride = st, padding = padd)\n",
    "        \n",
    "        self.mxpool = nn.MaxPool2d(2, 2)\n",
    "        self.dense_decoder = nn.Sequential(\n",
    "            nn.Linear(2048, 1024), \n",
    "            nn.ReLU(),\n",
    "            nn.Linear(1024, 1024), \n",
    "            nn.ReLU(),\n",
    "            nn.Linear(1024, n_classes))\n",
    "        \n",
    "    def forward(self, x):\n",
    "\n",
    "        x = F.relu(self.layer1(x))\n",
    "        x = F.relu(self.layer11(x)) \n",
    "        x = self.mxpool(x)\n",
    "\n",
    "        x = F.relu(self.layer2(x))\n",
    "        x = F.relu(self.layer22(x)) \n",
    "        x = self.mxpool(x)\n",
    "\n",
    "        x = F.relu(self.layer3(x))\n",
    "        x = F.relu(self.layer33(x))\n",
    "        x = self.mxpool(x)\n",
    "\n",
    "        x = F.relu(self.layer4(x))\n",
    "        x = F.relu(self.layer44(x))\n",
    "        x = self.mxpool(x)\n",
    "        \n",
    "        x = x.view(x.size()[0], -1)\n",
    "#         print(x.shape)\n",
    "        x = self.dense_decoder(x)        \n",
    "        return x"
   ]
  },
  {
   "cell_type": "code",
   "execution_count": 13,
   "id": "dress-penguin",
   "metadata": {},
   "outputs": [],
   "source": [
    "device = 'cuda'\n",
    "model = SimpleNet(3, 100)\n",
    "model.to(device) # sending our model to gpu.\n",
    "model.apply(init_weights)\n",
    "optimizer = optim.SGD(model.parameters(), lr=0.01, momentum=0.9, nesterov=True)\n",
    "scheduler = optim.lr_scheduler.ReduceLROnPlateau(optimizer,'min')\n",
    "loss_fn = nn.CrossEntropyLoss()"
   ]
  },
  {
   "cell_type": "code",
   "execution_count": 14,
   "id": "electric-relation",
   "metadata": {
    "scrolled": true
   },
   "outputs": [
    {
     "name": "stdout",
     "output_type": "stream",
     "text": [
      "----------------------------------------------------------------\n",
      "        Layer (type)               Output Shape         Param #\n",
      "================================================================\n",
      "            Conv2d-1           [-1, 64, 32, 32]           4,864\n",
      "            Conv2d-2           [-1, 64, 32, 32]         102,464\n",
      "         MaxPool2d-3           [-1, 64, 16, 16]               0\n",
      "            Conv2d-4          [-1, 128, 16, 16]         204,928\n",
      "            Conv2d-5          [-1, 128, 16, 16]         409,728\n",
      "         MaxPool2d-6            [-1, 128, 8, 8]               0\n",
      "            Conv2d-7            [-1, 256, 8, 8]         819,456\n",
      "            Conv2d-8            [-1, 256, 8, 8]       1,638,656\n",
      "         MaxPool2d-9            [-1, 256, 4, 4]               0\n",
      "           Conv2d-10            [-1, 512, 4, 4]       3,277,312\n",
      "           Conv2d-11            [-1, 512, 4, 4]       6,554,112\n",
      "        MaxPool2d-12            [-1, 512, 2, 2]               0\n",
      "           Linear-13                 [-1, 1024]       2,098,176\n",
      "             ReLU-14                 [-1, 1024]               0\n",
      "           Linear-15                 [-1, 1024]       1,049,600\n",
      "             ReLU-16                 [-1, 1024]               0\n",
      "           Linear-17                  [-1, 100]         102,500\n",
      "================================================================\n",
      "Total params: 16,261,796\n",
      "Trainable params: 16,261,796\n",
      "Non-trainable params: 0\n",
      "----------------------------------------------------------------\n",
      "Input size (MB): 0.01\n",
      "Forward/backward pass size (MB): 2.14\n",
      "Params size (MB): 62.03\n",
      "Estimated Total Size (MB): 64.19\n",
      "----------------------------------------------------------------\n"
     ]
    }
   ],
   "source": [
    "# Printing the summary of our model. \n",
    "input_shape = (3, 32, 32)\n",
    "summary(model, input_shape)"
   ]
  },
  {
   "cell_type": "code",
   "execution_count": 15,
   "id": "generous-absorption",
   "metadata": {
    "scrolled": true
   },
   "outputs": [
    {
     "name": "stdout",
     "output_type": "stream",
     "text": [
      "Epoch 1/10\n",
      "----------\n",
      "train Loss: 4.5900 Acc: 0.0124\n",
      "val Loss: 4.4737 Acc: 0.0209\n",
      "\n",
      "Epoch 2/10\n",
      "----------\n",
      "train Loss: 4.2464 Acc: 0.0456\n",
      "val Loss: 4.0470 Acc: 0.0778\n",
      "\n",
      "Epoch 3/10\n",
      "----------\n",
      "train Loss: 3.9252 Acc: 0.0878\n",
      "val Loss: 3.7565 Acc: 0.1132\n",
      "\n",
      "Epoch 4/10\n",
      "----------\n",
      "train Loss: 3.6939 Acc: 0.1246\n",
      "val Loss: 3.5957 Acc: 0.1437\n",
      "\n",
      "Epoch 5/10\n",
      "----------\n",
      "train Loss: 3.4739 Acc: 0.1671\n",
      "val Loss: 3.3294 Acc: 0.1927\n",
      "\n",
      "Epoch 6/10\n",
      "----------\n",
      "train Loss: 3.2565 Acc: 0.2049\n",
      "val Loss: 3.0938 Acc: 0.2414\n",
      "\n",
      "Epoch 7/10\n",
      "----------\n",
      "train Loss: 3.0474 Acc: 0.2444\n",
      "val Loss: 2.8959 Acc: 0.2749\n",
      "\n",
      "Epoch 8/10\n",
      "----------\n",
      "train Loss: 2.8362 Acc: 0.2850\n",
      "val Loss: 2.7264 Acc: 0.3158\n",
      "\n",
      "Epoch 9/10\n",
      "----------\n",
      "train Loss: 2.6572 Acc: 0.3218\n",
      "val Loss: 2.6027 Acc: 0.3387\n",
      "\n",
      "Epoch 10/10\n",
      "----------\n",
      "train Loss: 2.4869 Acc: 0.3540\n",
      "val Loss: 2.4259 Acc: 0.3734\n",
      "\n",
      "Training complete in 6m 33s\n",
      "Best val Acc: 0.373400\n"
     ]
    }
   ],
   "source": [
    "dataloaders_dict = {'train': train_loader, 'val': val_loader}\n",
    "num_epochs = 10\n",
    "\n",
    "model_fit, val_acc_hist, val_loss_hist, train_acc_hist, train_loss_hist = train_model(model,\n",
    "                                                                                      dataloaders_dict,\n",
    "                                                                                      loss_fn,\n",
    "                                                                                      optimizer,\n",
    "                                                                                      num_epochs)"
   ]
  },
  {
   "cell_type": "code",
   "execution_count": 16,
   "id": "julian-teaching",
   "metadata": {},
   "outputs": [
    {
     "data": {
      "image/png": "[encoded data removed]",
      "text/plain": [
       "<Figure size 432x288 with 1 Axes>"
      ]
     },
     "metadata": {
      "needs_background": "light"
     },
     "output_type": "display_data"
    }
   ],
   "source": [
    "v_loss = [v for v in val_loss_hist]\n",
    "t_loss = [t for t in train_loss_hist]\n",
    "\n",
    "plt.title(\"Validation loss and training loss vs Number of Training Epochs\")\n",
    "plt.xlabel(\"Training Epochs\")\n",
    "plt.ylabel(\"Loss\")\n",
    "plt.plot(range(1, num_epochs+1), v_loss, label=\"Validation Loss\")\n",
    "plt.plot(range(1, num_epochs+1), t_loss, label=\"Training Loss\")\n",
    "# plt.ylim((0,1.))\n",
    "plt.xticks(np.arange(1, num_epochs+1, 1.0))\n",
    "plt.legend()\n",
    "plt.show()"
   ]
  },
  {
   "cell_type": "code",
   "execution_count": 17,
   "id": "endless-performer",
   "metadata": {
    "scrolled": false
   },
   "outputs": [
    {
     "name": "stdout",
     "output_type": "stream",
     "text": [
      "train\n",
      "<torch.utils.data.dataloader.DataLoader object at 0x0000012ABEFDA9D0>\n",
      "Accuracy train: 0.3820\n",
      "train: correct, total = 19101,50000\n",
      "val\n",
      "<torch.utils.data.dataloader.DataLoader object at 0x0000012ADA869220>\n",
      "Accuracy val: 0.3734\n",
      "val: correct, total = 3734,10000\n"
     ]
    }
   ],
   "source": [
    "validate(model, train_loader, val_loader)"
   ]
  },
  {
   "cell_type": "markdown",
   "id": "sorted-melissa",
   "metadata": {},
   "source": [
    "**Running for 20 more epochs to check convergence**"
   ]
  },
  {
   "cell_type": "code",
   "execution_count": 18,
   "id": "manufactured-recommendation",
   "metadata": {
    "scrolled": true
   },
   "outputs": [
    {
     "name": "stdout",
     "output_type": "stream",
     "text": [
      "Epoch 1/20\n",
      "----------\n",
      "train Loss: 2.3186 Acc: 0.3920\n",
      "val Loss: 2.3138 Acc: 0.3953\n",
      "\n",
      "Epoch 2/20\n",
      "----------\n",
      "train Loss: 2.1729 Acc: 0.4215\n",
      "val Loss: 2.2482 Acc: 0.4153\n",
      "\n",
      "Epoch 3/20\n",
      "----------\n",
      "train Loss: 2.0335 Acc: 0.4525\n",
      "val Loss: 2.2073 Acc: 0.4274\n",
      "\n",
      "Epoch 4/20\n",
      "----------\n",
      "train Loss: 1.9098 Acc: 0.4825\n",
      "val Loss: 2.0005 Acc: 0.4745\n",
      "\n",
      "Epoch 5/20\n",
      "----------\n",
      "train Loss: 1.7900 Acc: 0.5069\n",
      "val Loss: 2.0808 Acc: 0.4694\n",
      "\n",
      "Epoch 6/20\n",
      "----------\n",
      "train Loss: 1.6796 Acc: 0.5306\n",
      "val Loss: 1.9658 Acc: 0.4919\n",
      "\n",
      "Epoch 7/20\n",
      "----------\n",
      "train Loss: 1.5888 Acc: 0.5535\n",
      "val Loss: 1.9607 Acc: 0.4878\n",
      "\n",
      "Epoch 8/20\n",
      "----------\n",
      "train Loss: 1.4820 Acc: 0.5803\n",
      "val Loss: 2.0643 Acc: 0.4816\n",
      "\n",
      "Epoch 9/20\n",
      "----------\n",
      "train Loss: 1.3955 Acc: 0.6010\n",
      "val Loss: 1.8932 Acc: 0.5127\n",
      "\n",
      "Epoch 10/20\n",
      "----------\n",
      "train Loss: 1.3079 Acc: 0.6212\n",
      "val Loss: 1.9431 Acc: 0.5137\n",
      "\n",
      "Epoch 11/20\n",
      "----------\n",
      "train Loss: 1.2345 Acc: 0.6393\n",
      "val Loss: 1.9574 Acc: 0.5225\n",
      "\n",
      "Epoch 12/20\n",
      "----------\n",
      "train Loss: 1.1673 Acc: 0.6588\n",
      "val Loss: 2.0044 Acc: 0.5130\n",
      "\n",
      "Epoch 13/20\n",
      "----------\n",
      "train Loss: 0.7413 Acc: 0.7768\n",
      "val Loss: 1.9831 Acc: 0.5596\n",
      "\n",
      "Epoch 14/20\n",
      "----------\n",
      "train Loss: 0.6016 Acc: 0.8192\n",
      "val Loss: 2.0597 Acc: 0.5597\n",
      "\n",
      "Epoch 15/20\n",
      "----------\n",
      "train Loss: 0.5366 Acc: 0.8360\n",
      "val Loss: 2.1086 Acc: 0.5603\n",
      "\n",
      "Epoch 16/20\n",
      "----------\n",
      "train Loss: 0.4901 Acc: 0.8493\n",
      "val Loss: 2.2141 Acc: 0.5625\n",
      "\n",
      "Epoch 17/20\n",
      "----------\n",
      "train Loss: 0.4545 Acc: 0.8593\n",
      "val Loss: 2.2579 Acc: 0.5569\n",
      "\n",
      "Epoch 18/20\n",
      "----------\n",
      "train Loss: 0.4176 Acc: 0.8703\n",
      "val Loss: 2.3411 Acc: 0.5583\n",
      "\n",
      "Epoch 19/20\n",
      "----------\n",
      "train Loss: 0.3912 Acc: 0.8801\n",
      "val Loss: 2.4334 Acc: 0.5564\n",
      "\n",
      "Epoch 20/20\n",
      "----------\n",
      "train Loss: 0.3651 Acc: 0.8877\n",
      "val Loss: 2.4762 Acc: 0.5558\n",
      "\n",
      "Training complete in 13m 11s\n",
      "Best val Acc: 0.562500\n"
     ]
    }
   ],
   "source": [
    "dataloaders_dict = {'train': train_loader, 'val': val_loader}\n",
    "num_epochs = 20\n",
    "\n",
    "model_fit, val_acc_hist, val_loss_hist, train_acc_hist, train_loss_hist = train_model(model,\n",
    "                                                                                      dataloaders_dict,\n",
    "                                                                                      loss_fn,\n",
    "                                                                                      optimizer,\n",
    "                                                                                      num_epochs)"
   ]
  },
  {
   "cell_type": "code",
   "execution_count": 20,
   "id": "opposed-architecture",
   "metadata": {},
   "outputs": [
    {
     "data": {
      "image/png": "[encoded data removed]",
      "text/plain": [
       "<Figure size 432x288 with 1 Axes>"
      ]
     },
     "metadata": {
      "needs_background": "light"
     },
     "output_type": "display_data"
    }
   ],
   "source": [
    "v_loss_1 = [v for v in val_loss_hist]\n",
    "t_loss_1 = [t for t in train_loss_hist]\n",
    "\n",
    "v_loss_30 = v_loss + v_loss_1\n",
    "t_loss_30 = t_loss + t_loss_1\n",
    "\n",
    "num_epochs = 30\n",
    "plt.title(\"Validation loss and training loss vs Number of Training Epochs\")\n",
    "plt.xlabel(\"Training Epochs\")\n",
    "plt.ylabel(\"Loss\")\n",
    "plt.plot(range(1, num_epochs+1), v_loss_30, label=\"Validation Loss\")\n",
    "plt.plot(range(1, num_epochs+1), t_loss_30, label=\"Training Loss\")\n",
    "# plt.ylim((0,1.))\n",
    "plt.xticks(np.arange(1, num_epochs+1, 1.0))\n",
    "plt.legend()\n",
    "plt.show()"
   ]
  },
  {
   "cell_type": "markdown",
   "id": "congressional-framework",
   "metadata": {},
   "source": [
    "Model Starts over-fitting severly after ~17 epochs. "
   ]
  },
  {
   "cell_type": "code",
   "execution_count": 21,
   "id": "universal-shakespeare",
   "metadata": {},
   "outputs": [
    {
     "name": "stdout",
     "output_type": "stream",
     "text": [
      "train\n",
      "<torch.utils.data.dataloader.DataLoader object at 0x0000012ABEFDA9D0>\n",
      "Accuracy train: 0.8641\n",
      "train: correct, total = 43205,50000\n",
      "val\n",
      "<torch.utils.data.dataloader.DataLoader object at 0x0000012ADA869220>\n",
      "Accuracy val: 0.5625\n",
      "val: correct, total = 5625,10000\n"
     ]
    }
   ],
   "source": [
    "validate(model, train_loader, val_loader)"
   ]
  },
  {
   "cell_type": "markdown",
   "id": "hybrid-parade",
   "metadata": {},
   "source": [
    "# Trial 4: Added Layer 333, Layer 444"
   ]
  },
  {
   "cell_type": "code",
   "execution_count": 12,
   "id": "purple-awareness",
   "metadata": {},
   "outputs": [],
   "source": [
    "class SimpleNet(nn.Module):\n",
    "    def __init__(self, in_c, n_classes):\n",
    "        super(SimpleNet, self).__init__()\n",
    "        kz = 3\n",
    "        st = 1\n",
    "        padd = 1\n",
    "        self.layer1 = nn.Conv2d(in_channels = in_c, out_channels = 64, kernel_size = kz,\n",
    "                                stride = st, padding = padd)\n",
    "        self.layer11 = nn.Conv2d(in_channels = 64, out_channels = 64, kernel_size = kz, \n",
    "                                stride = st, padding = padd)\n",
    "        \n",
    "        self.layer2 = nn.Conv2d(in_channels = 64, out_channels = 128, kernel_size = kz, \n",
    "                               stride = st, padding = padd)\n",
    "        self.layer22 = nn.Conv2d(in_channels = 128, out_channels = 128, kernel_size = kz, \n",
    "                                 stride = st, padding = padd)\n",
    "        \n",
    "        self.layer3 = nn.Conv2d(in_channels = 128, out_channels = 256, kernel_size = kz, \n",
    "                               stride = st, padding = padd)\n",
    "        self.layer33 = nn.Conv2d(in_channels = 256, out_channels = 256, kernel_size = kz, \n",
    "                               stride = st, padding = padd)\n",
    "        self.layer333 = nn.Conv2d(in_channels = 256, out_channels = 256, kernel_size = kz, \n",
    "                               stride = st, padding = padd)\n",
    "\n",
    "        self.layer4 = nn.Conv2d(in_channels = 256, out_channels = 512, kernel_size = kz, \n",
    "                               stride = st, padding = padd)\n",
    "        self.layer44 = nn.Conv2d(in_channels = 512, out_channels = 512, kernel_size = kz, \n",
    "                               stride = st, padding = padd)\n",
    "        self.layer444 = nn.Conv2d(in_channels = 512, out_channels = 512, kernel_size = kz, \n",
    "                               stride = st, padding = padd)\n",
    "        \n",
    "        self.mxpool = nn.MaxPool2d(2, 2)\n",
    "        self.dense_decoder = nn.Sequential(\n",
    "            nn.Linear(2048, 1024), \n",
    "            nn.ReLU(),\n",
    "            nn.Linear(1024, 1024), \n",
    "            nn.ReLU(),\n",
    "            nn.Linear(1024, n_classes))\n",
    "        \n",
    "    def forward(self, x):\n",
    "\n",
    "        x = F.relu(self.layer1(x))\n",
    "        x = F.relu(self.layer11(x)) \n",
    "        x = self.mxpool(x)\n",
    "\n",
    "        x = F.relu(self.layer2(x))\n",
    "        x = F.relu(self.layer22(x)) \n",
    "        x = self.mxpool(x)\n",
    "\n",
    "        x = F.relu(self.layer3(x))\n",
    "        x = F.relu(self.layer33(x))\n",
    "        x = F.relu(self.layer333(x))\n",
    "        x = self.mxpool(x)\n",
    "\n",
    "        x = F.relu(self.layer4(x))\n",
    "        x = F.relu(self.layer44(x))\n",
    "        x = F.relu(self.layer444(x))\n",
    "        x = self.mxpool(x)\n",
    "        \n",
    "        x = x.view(x.size()[0], -1)\n",
    "        x = self.dense_decoder(x)        \n",
    "        return x"
   ]
  },
  {
   "cell_type": "code",
   "execution_count": 13,
   "id": "spanish-ecuador",
   "metadata": {},
   "outputs": [],
   "source": [
    "device = 'cuda'\n",
    "model = SimpleNet(3, 100)\n",
    "model.to(device) # sending our model to gpu.\n",
    "model.apply(init_weights)\n",
    "optimizer = optim.SGD(model.parameters(), lr=0.01, momentum=0.9, nesterov=True)\n",
    "scheduler = optim.lr_scheduler.ReduceLROnPlateau(optimizer,'min')\n",
    "loss_fn = nn.CrossEntropyLoss()"
   ]
  },
  {
   "cell_type": "code",
   "execution_count": 14,
   "id": "fleet-incentive",
   "metadata": {
    "scrolled": true
   },
   "outputs": [
    {
     "name": "stdout",
     "output_type": "stream",
     "text": [
      "----------------------------------------------------------------\n",
      "        Layer (type)               Output Shape         Param #\n",
      "================================================================\n",
      "            Conv2d-1           [-1, 64, 32, 32]           1,792\n",
      "            Conv2d-2           [-1, 64, 32, 32]          36,928\n",
      "         MaxPool2d-3           [-1, 64, 16, 16]               0\n",
      "            Conv2d-4          [-1, 128, 16, 16]          73,856\n",
      "            Conv2d-5          [-1, 128, 16, 16]         147,584\n",
      "         MaxPool2d-6            [-1, 128, 8, 8]               0\n",
      "            Conv2d-7            [-1, 256, 8, 8]         295,168\n",
      "            Conv2d-8            [-1, 256, 8, 8]         590,080\n",
      "            Conv2d-9            [-1, 256, 8, 8]         590,080\n",
      "        MaxPool2d-10            [-1, 256, 4, 4]               0\n",
      "           Conv2d-11            [-1, 512, 4, 4]       1,180,160\n",
      "           Conv2d-12            [-1, 512, 4, 4]       2,359,808\n",
      "           Conv2d-13            [-1, 512, 4, 4]       2,359,808\n",
      "        MaxPool2d-14            [-1, 512, 2, 2]               0\n",
      "           Linear-15                 [-1, 1024]       2,098,176\n",
      "             ReLU-16                 [-1, 1024]               0\n",
      "           Linear-17                 [-1, 1024]       1,049,600\n",
      "             ReLU-18                 [-1, 1024]               0\n",
      "           Linear-19                  [-1, 100]         102,500\n",
      "================================================================\n",
      "Total params: 10,885,540\n",
      "Trainable params: 10,885,540\n",
      "Non-trainable params: 0\n",
      "----------------------------------------------------------------\n",
      "Input size (MB): 0.01\n",
      "Forward/backward pass size (MB): 2.33\n",
      "Params size (MB): 41.53\n",
      "Estimated Total Size (MB): 43.87\n",
      "----------------------------------------------------------------\n"
     ]
    }
   ],
   "source": [
    "# Printing the summary of our model. \n",
    "input_shape = (3, 32, 32)\n",
    "summary(model, input_shape)"
   ]
  },
  {
   "cell_type": "code",
   "execution_count": 15,
   "id": "ahead-johnston",
   "metadata": {
    "scrolled": true
   },
   "outputs": [
    {
     "name": "stdout",
     "output_type": "stream",
     "text": [
      "Epoch 1/10\n",
      "----------\n",
      "train Loss: 4.6065 Acc: 0.0093\n",
      "val Loss: 4.6053 Acc: 0.0100\n",
      "\n",
      "Epoch 2/10\n",
      "----------\n",
      "train Loss: 4.6063 Acc: 0.0083\n",
      "val Loss: 4.6052 Acc: 0.0100\n",
      "\n",
      "Epoch 3/10\n",
      "----------\n",
      "train Loss: 4.6062 Acc: 0.0092\n",
      "val Loss: 4.6052 Acc: 0.0100\n",
      "\n",
      "Epoch 4/10\n",
      "----------\n",
      "train Loss: 4.6061 Acc: 0.0087\n",
      "val Loss: 4.6052 Acc: 0.0100\n",
      "\n",
      "Epoch 5/10\n",
      "----------\n",
      "train Loss: 4.6060 Acc: 0.0088\n",
      "val Loss: 4.6052 Acc: 0.0100\n",
      "\n",
      "Epoch 6/10\n",
      "----------\n",
      "train Loss: 4.6059 Acc: 0.0094\n",
      "val Loss: 4.6051 Acc: 0.0099\n",
      "\n",
      "Epoch 7/10\n",
      "----------\n",
      "train Loss: 4.6057 Acc: 0.0089\n",
      "val Loss: 4.6046 Acc: 0.0126\n",
      "\n",
      "Epoch 8/10\n",
      "----------\n",
      "train Loss: 4.5947 Acc: 0.0140\n",
      "val Loss: 4.5031 Acc: 0.0196\n",
      "\n",
      "Epoch 9/10\n",
      "----------\n",
      "train Loss: 4.3527 Acc: 0.0272\n",
      "val Loss: 4.2390 Acc: 0.0419\n",
      "\n",
      "Epoch 10/10\n",
      "----------\n",
      "train Loss: 4.1358 Acc: 0.0489\n",
      "val Loss: 3.9998 Acc: 0.0704\n",
      "\n",
      "Training complete in 3m 9s\n",
      "Best val Acc: 0.070400\n"
     ]
    }
   ],
   "source": [
    "dataloaders_dict = {'train': train_loader, 'val': val_loader}\n",
    "num_epochs = 10\n",
    "\n",
    "model_fit, val_acc_hist, val_loss_hist, train_acc_hist, train_loss_hist = train_model(model,\n",
    "                                                                                      dataloaders_dict,\n",
    "                                                                                      loss_fn,\n",
    "                                                                                      optimizer,\n",
    "                                                                                      num_epochs)"
   ]
  },
  {
   "cell_type": "code",
   "execution_count": 16,
   "id": "dressed-scale",
   "metadata": {},
   "outputs": [
    {
     "data": {
      "image/png": "[encoded data removed]",
      "text/plain": [
       "<Figure size 432x288 with 1 Axes>"
      ]
     },
     "metadata": {
      "needs_background": "light"
     },
     "output_type": "display_data"
    }
   ],
   "source": [
    "v_loss = [v for v in val_loss_hist]\n",
    "t_loss = [t for t in train_loss_hist]\n",
    "\n",
    "plt.title(\"Validation loss and training loss vs Number of Training Epochs\")\n",
    "plt.xlabel(\"Training Epochs\")\n",
    "plt.ylabel(\"Loss\")\n",
    "plt.plot(range(1, num_epochs+1), v_loss, label=\"Validation Loss\")\n",
    "plt.plot(range(1, num_epochs+1), t_loss, label=\"Training Loss\")\n",
    "# plt.ylim((0,1.))\n",
    "plt.xticks(np.arange(1, num_epochs+1, 1.0))\n",
    "plt.legend()\n",
    "plt.show()"
   ]
  },
  {
   "cell_type": "code",
   "execution_count": 17,
   "id": "secret-glance",
   "metadata": {},
   "outputs": [
    {
     "name": "stdout",
     "output_type": "stream",
     "text": [
      "train\n",
      "<torch.utils.data.dataloader.DataLoader object at 0x00000230E458BAC0>\n",
      "Accuracy train: 0.0679\n",
      "train: correct, total = 3397,50000\n",
      "val\n",
      "<torch.utils.data.dataloader.DataLoader object at 0x00000230EDC3D1C0>\n",
      "Accuracy val: 0.0704\n",
      "val: correct, total = 704,10000\n"
     ]
    }
   ],
   "source": [
    "validate(model, train_loader, val_loader)"
   ]
  },
  {
   "cell_type": "code",
   "execution_count": null,
   "id": "outer-somewhere",
   "metadata": {},
   "outputs": [],
   "source": []
  }
 ],
 "metadata": {
  "kernelspec": {
   "display_name": "mypytorch",
   "language": "python",
   "name": "mypytorch"
  },
  "language_info": {
   "codemirror_mode": {
    "name": "ipython",
    "version": 3
   },
   "file_extension": ".py",
   "mimetype": "text/x-python",
   "name": "python",
   "nbconvert_exporter": "python",
   "pygments_lexer": "ipython3",
   "version": "3.8.5"
  }
 },
 "nbformat": 4,
 "nbformat_minor": 5
}
