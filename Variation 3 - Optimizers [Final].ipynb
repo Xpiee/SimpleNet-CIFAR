{
 "cells": [
  {
   "cell_type": "markdown",
   "id": "accepting-feeling",
   "metadata": {},
   "source": [
    "# Trying Variations 3.0"
   ]
  },
  {
   "cell_type": "markdown",
   "id": "covered-botswana",
   "metadata": {},
   "source": [
    "## 3. Changing the optimizer\n",
    "\n",
    "1. Used SGD with different learning rate: 0.01\n",
    "2. Adam with different learning rate: 0.001 and 0.0001, and weight decay: 1e-4\n",
    "3. Adabound with different learning rate: 0.001 and weight decay: 1e-4\n",
    "\n",
    "For Installing Adabound using pip use the following:\n",
    "### !pip install adabound"
   ]
  },
  {
   "cell_type": "code",
   "execution_count": 1,
   "id": "fifty-buffalo",
   "metadata": {},
   "outputs": [
    {
     "name": "stdout",
     "output_type": "stream",
     "text": [
      "Requirement already satisfied: adabound in c:\\users\\anubhav\\anaconda3\\envs\\mypytorch\\lib\\site-packages (0.0.5)\n",
      "Requirement already satisfied: torch>=0.4.0 in c:\\users\\anubhav\\anaconda3\\envs\\mypytorch\\lib\\site-packages (from adabound) (1.7.1+cu110)\n",
      "Requirement already satisfied: typing-extensions in c:\\users\\anubhav\\anaconda3\\envs\\mypytorch\\lib\\site-packages (from torch>=0.4.0->adabound) (3.7.4.3)\n",
      "Requirement already satisfied: numpy in c:\\users\\anubhav\\anaconda3\\envs\\mypytorch\\lib\\site-packages (from torch>=0.4.0->adabound) (1.20.0)\n"
     ]
    }
   ],
   "source": [
    "!pip install adabound"
   ]
  },
  {
   "cell_type": "code",
   "execution_count": 2,
   "id": "floppy-treasurer",
   "metadata": {},
   "outputs": [
    {
     "data": {
      "text/plain": [
       "True"
      ]
     },
     "execution_count": 2,
     "metadata": {},
     "output_type": "execute_result"
    }
   ],
   "source": [
    "import torch\n",
    "torch.cuda.is_available()"
   ]
  },
  {
   "cell_type": "code",
   "execution_count": 3,
   "id": "blond-system",
   "metadata": {},
   "outputs": [
    {
     "name": "stdout",
     "output_type": "stream",
     "text": [
      "3.8.5 (default, Sep  3 2020, 21:29:08) [MSC v.1916 64 bit (AMD64)]\n"
     ]
    }
   ],
   "source": [
    "import sys\n",
    "print(sys.version)"
   ]
  },
  {
   "cell_type": "code",
   "execution_count": 4,
   "id": "inner-credit",
   "metadata": {},
   "outputs": [],
   "source": [
    "import numpy as np\n",
    "import pandas as pd\n",
    "import torch.nn.functional as F\n",
    "import torch.nn as nn\n",
    "import torch.optim as optim\n",
    "import torchvision.transforms as transforms\n",
    "import matplotlib.pyplot as plt\n",
    "import datetime\n",
    "import os\n",
    "import torchvision\n",
    "import time\n",
    "import copy\n",
    "from torch.utils.tensorboard import SummaryWriter\n",
    "from torchsummary import summary"
   ]
  },
  {
   "cell_type": "code",
   "execution_count": 5,
   "id": "welsh-sound",
   "metadata": {},
   "outputs": [
    {
     "data": {
      "text/plain": [
       "'1.7.1+cu110'"
      ]
     },
     "execution_count": 5,
     "metadata": {},
     "output_type": "execute_result"
    }
   ],
   "source": [
    "torch.__version__"
   ]
  },
  {
   "cell_type": "code",
   "execution_count": 6,
   "id": "arabic-baseball",
   "metadata": {},
   "outputs": [],
   "source": [
    "from torchvision.datasets import CIFAR100\n",
    "from torch.utils.data import DataLoader"
   ]
  },
  {
   "cell_type": "markdown",
   "id": "verified-primary",
   "metadata": {},
   "source": [
    "##### Creating a function for getting training data CIFAR100"
   ]
  },
  {
   "cell_type": "code",
   "execution_count": 7,
   "id": "returning-simon",
   "metadata": {},
   "outputs": [],
   "source": [
    "def give_me_train_data(bs=128, num_workers=2, shuffle=True):\n",
    "    ''' would return a train dataloader for CIFAR100'''\n",
    "    mean = (0.5070751592371323, 0.48654887331495095, 0.4409178433670343)\n",
    "    std = (0.2673342858792401, 0.2564384629170883, 0.27615047132568404)\n",
    "    # defining the transformations on the train data\n",
    "    \n",
    "    transformations = [transforms.RandomCrop(32, padding=4),\n",
    "                       transforms.RandomHorizontalFlip(),\n",
    "                       transforms.RandomRotation(15),\n",
    "                       transforms.ToTensor(),\n",
    "                       transforms.Normalize(mean, std, inplace=True)]\n",
    "    transform_train = transforms.Compose(transformations)\n",
    "    \n",
    "    train_set = CIFAR100('./data/cifar100', train=True, \n",
    "                         download=True, transform=transform_train)\n",
    "    \n",
    "    train_loader = torch.utils.data.DataLoader(train_set, batch_size = bs,\n",
    "                                               shuffle=True, num_workers=num_workers)\n",
    "    return train_loader\n",
    "\n",
    "def give_me_test_data(bs=128, num_workers=2, shuffle=True):\n",
    "    ''' would return a test dataloader for CIFAR100'''\n",
    "    mean = (0.5070751592371323, 0.48654887331495095, 0.4409178433670343)\n",
    "    std = (0.2673342858792401, 0.2564384629170883, 0.27615047132568404)\n",
    "    \n",
    "    # defining transformations on the test data\n",
    "    \n",
    "    transformations = [transforms.ToTensor(), transforms.Normalize(mean, std, inplace=True)]\n",
    "    transform_test = transforms.Compose(transformations)\n",
    "    \n",
    "    valid_set = CIFAR100('./data/cifar100', train=False,\n",
    "                  download=True, transform=transform_test)\n",
    "    val_loader = torch.utils.data.DataLoader(valid_set, batch_size=bs, shuffle=False, \n",
    "                                             num_workers=num_workers)\n",
    "    return val_loader"
   ]
  },
  {
   "cell_type": "markdown",
   "id": "public-composite",
   "metadata": {},
   "source": [
    "##### Creating the model architecture"
   ]
  },
  {
   "cell_type": "code",
   "execution_count": 8,
   "id": "military-example",
   "metadata": {},
   "outputs": [],
   "source": [
    "class SimpleNet(nn.Module):\n",
    "    def __init__(self):\n",
    "        super(SimpleNet, self).__init__()\n",
    "        \n",
    "        self.layer1 = nn.Conv2d(in_channels = 3, out_channels = 64, kernel_size = 3,\n",
    "                                stride = 1, padding = 1)\n",
    "        self.layer2 = nn.Conv2d(in_channels = 64, out_channels = 128, kernel_size = 3, \n",
    "                               stride = 1, padding = 1)\n",
    "        self.layer3 = nn.Conv2d(in_channels = 128, out_channels = 256, kernel_size = 3, \n",
    "                               stride = 1, padding = 1)\n",
    "        self.mxpool = nn.MaxPool2d(2, 2)\n",
    "        self.mxpool1 = nn.MaxPool2d(2, 2, padding = 1)\n",
    "        self.relu = nn.ReLU() # not used # instead used relu from Functional 'F' directly\n",
    "        self.linear1 = nn.Linear(4096, 1024)\n",
    "        self.linear2 = nn.Linear(1024, 1024)\n",
    "        self.linear3 = nn.Linear(1024, 100)\n",
    "        \n",
    "    def forward(self, x):\n",
    "        x = F.relu(self.layer1(x))\n",
    "        x = self.mxpool(x)\n",
    "        x = F.relu(self.layer2(x))\n",
    "        x = self.mxpool1(x)\n",
    "        x = F.relu(self.layer3(x))\n",
    "        x = self.mxpool(x)\n",
    "        \n",
    "        x = x.reshape(x.shape[0], -1)\n",
    "        x = F.relu(self.linear1(x))\n",
    "        x = F.relu(self.linear2(x))\n",
    "        x = self.linear3(x) # using nn.CrossEntropy() that combines nn.LogSoftmax() and nn.NLLLoss() in one single class\n",
    "        return x"
   ]
  },
  {
   "cell_type": "code",
   "execution_count": 9,
   "id": "agreed-adoption",
   "metadata": {},
   "outputs": [],
   "source": [
    "# Initialize the weights of layers.\n",
    "def init_weights(m):\n",
    "    if type(m) == nn.Linear:\n",
    "        torch.nn.init.xavier_uniform_(m.weight)\n",
    "        m.bias.data.fill_(0.01)"
   ]
  },
  {
   "cell_type": "markdown",
   "id": "rotary-middle",
   "metadata": {},
   "source": [
    "##### Sending the model to gpu and printing the summary of the model architecture"
   ]
  },
  {
   "cell_type": "code",
   "execution_count": 10,
   "id": "rocky-sustainability",
   "metadata": {},
   "outputs": [
    {
     "name": "stdout",
     "output_type": "stream",
     "text": [
      "----------------------------------------------------------------\n",
      "        Layer (type)               Output Shape         Param #\n",
      "================================================================\n",
      "            Conv2d-1           [-1, 64, 32, 32]           1,792\n",
      "         MaxPool2d-2           [-1, 64, 16, 16]               0\n",
      "            Conv2d-3          [-1, 128, 16, 16]          73,856\n",
      "         MaxPool2d-4            [-1, 128, 9, 9]               0\n",
      "            Conv2d-5            [-1, 256, 9, 9]         295,168\n",
      "         MaxPool2d-6            [-1, 256, 4, 4]               0\n",
      "            Linear-7                 [-1, 1024]       4,195,328\n",
      "            Linear-8                 [-1, 1024]       1,049,600\n",
      "            Linear-9                  [-1, 100]         102,500\n",
      "================================================================\n",
      "Total params: 5,718,244\n",
      "Trainable params: 5,718,244\n",
      "Non-trainable params: 0\n",
      "----------------------------------------------------------------\n",
      "Input size (MB): 0.01\n",
      "Forward/backward pass size (MB): 1.16\n",
      "Params size (MB): 21.81\n",
      "Estimated Total Size (MB): 22.99\n",
      "----------------------------------------------------------------\n"
     ]
    }
   ],
   "source": [
    "device = 'cuda'\n",
    "model = SimpleNet()\n",
    "model.to(device) # sending our model to gpu.\n",
    "\n",
    "# Printing the summary of our model. \n",
    "input_shape = (3, 32, 32)\n",
    "summary(model, input_shape)"
   ]
  },
  {
   "cell_type": "markdown",
   "id": "caroline-light",
   "metadata": {},
   "source": [
    "##### Preparing our data loaders for training and test.\n",
    "Batch size is 128 (tried 256 and 512, 128 gives better performance)"
   ]
  },
  {
   "cell_type": "code",
   "execution_count": 11,
   "id": "expensive-birth",
   "metadata": {},
   "outputs": [
    {
     "name": "stdout",
     "output_type": "stream",
     "text": [
      "Files already downloaded and verified\n",
      "Files already downloaded and verified\n",
      "Weights initialized!\n"
     ]
    }
   ],
   "source": [
    "train_loader = give_me_train_data(bs = 128, num_workers=4, shuffle=True)\n",
    "val_loader = give_me_test_data(bs = 128, num_workers=4, shuffle=False)\n",
    "model.apply(init_weights)\n",
    "print(\"Weights initialized!\")"
   ]
  },
  {
   "cell_type": "code",
   "execution_count": 12,
   "id": "union-citizenship",
   "metadata": {},
   "outputs": [],
   "source": [
    "def train_model(model, dataloaders, criterion, optimizer, num_epochs=25):\n",
    "    since = time.time()\n",
    "\n",
    "    val_acc_history, val_loss_history = [], []\n",
    "    train_acc_history, train_loss_history = [], []\n",
    "\n",
    "    best_model_wts = copy.deepcopy(model.state_dict())\n",
    "    best_acc = 0.0\n",
    "    loss_train = 0.0\n",
    "\n",
    "    for epoch in range(1, num_epochs+1):\n",
    "        print('Epoch {}/{}'.format(epoch, num_epochs))\n",
    "        print('-' * 10)\n",
    "\n",
    "        # Each epoch has a training and validation phase\n",
    "        for phase in ['train', 'val']:\n",
    "            if phase == 'train':\n",
    "                model.train()  # Set model to training mode\n",
    "            else:\n",
    "                model.eval()   # Set model to evaluate mode\n",
    "\n",
    "            running_loss = 0.0\n",
    "            running_corrects = 0\n",
    "\n",
    "            # Iterate over data.\n",
    "            for inputs, labels in dataloaders[phase]:\n",
    "                inputs = inputs.to(device)\n",
    "                labels = labels.to(device)\n",
    "\n",
    "                # zero the parameter gradients\n",
    "                optimizer.zero_grad()\n",
    "\n",
    "                # forward\n",
    "                # track history if only in train\n",
    "                with torch.set_grad_enabled(phase == 'train'):\n",
    "                    # Get model outputs and calculate loss\n",
    "                    outputs = model(inputs)\n",
    "                    loss = criterion(outputs, labels)\n",
    "\n",
    "                    _, preds = torch.max(outputs, 1)\n",
    "\n",
    "                    # backward + optimize only if in training phase\n",
    "                    if phase == 'train':\n",
    "                        loss.backward()\n",
    "                        optimizer.step()\n",
    "                        loss_train += loss.item()\n",
    "\n",
    "                # statistics\n",
    "                running_loss += loss.item() * inputs.size(0)\n",
    "                running_corrects += torch.sum(preds == labels.data)\n",
    "\n",
    "            epoch_loss = running_loss / len(dataloaders[phase].dataset)\n",
    "            epoch_acc = running_corrects.double() / len(dataloaders[phase].dataset)\n",
    "\n",
    "            print('{} Loss: {:.4f} Acc: {:.4f}'.format(phase, epoch_loss, epoch_acc))\n",
    "            \n",
    "            # deep copy the model\n",
    "            if phase == 'val' and epoch_acc > best_acc:\n",
    "                best_acc = epoch_acc\n",
    "                best_model_wts = copy.deepcopy(model.state_dict())\n",
    "            if phase == 'val':\n",
    "                val_acc_history.append(epoch_acc)\n",
    "                val_loss_history.append(epoch_loss)\n",
    "            if phase == 'train':\n",
    "                train_acc_history.append(epoch_acc)\n",
    "                train_loss_history.append(epoch_loss)\n",
    "                \n",
    "        # decreasing learning rate with the epochs\n",
    "        scheduler.step(loss_train)\n",
    "        print()\n",
    "\n",
    "    time_elapsed = time.time() - since\n",
    "    print('Training complete in {:.0f}m {:.0f}s'.format(time_elapsed // 60, time_elapsed % 60))\n",
    "    print('Best val Acc: {:4f}'.format(best_acc))\n",
    "\n",
    "    # load best model weights\n",
    "    model.load_state_dict(best_model_wts)\n",
    "    return model, val_acc_history, val_loss_history, train_acc_history, train_loss_history"
   ]
  },
  {
   "cell_type": "code",
   "execution_count": 13,
   "id": "affecting-myanmar",
   "metadata": {},
   "outputs": [],
   "source": [
    "# validate the training on validation set\n",
    "def validate(model, train_loader, val_loader):\n",
    "    for name, loader in [('train', train_loader), ('val', val_loader)]:\n",
    "        correct = 0\n",
    "        total = 0\n",
    "        print(name)\n",
    "        print(loader)\n",
    "        with torch.no_grad():\n",
    "            for imgs, labels in loader:\n",
    "                imgs = imgs.to(device=device)\n",
    "                labels = labels.to(device=device)\n",
    "                \n",
    "                y = model(imgs)\n",
    "                _, predicted = torch.max(y, dim=1)\n",
    "                total += labels.shape[0]\n",
    "                correct += int((predicted == labels).sum())\n",
    "        print(\"Accuracy {}: {:.4f}\".format(name, correct/total))\n",
    "        print(\"{}: correct, total = {},{}\".format(name, correct, total))"
   ]
  },
  {
   "cell_type": "markdown",
   "id": "helpful-spiritual",
   "metadata": {},
   "source": [
    "### Variation 3: Trying different Optimizers with different Learning Rates"
   ]
  },
  {
   "cell_type": "markdown",
   "id": "earlier-purse",
   "metadata": {},
   "source": [
    "#### 1. SGD, learning rate = 0.01"
   ]
  },
  {
   "cell_type": "code",
   "execution_count": 13,
   "id": "legal-finance",
   "metadata": {},
   "outputs": [],
   "source": [
    "optimizer = optim.SGD(model.parameters(), lr=0.01, momentum=0.9, nesterov=True)\n",
    "scheduler = optim.lr_scheduler.ReduceLROnPlateau(optimizer,'min')\n",
    "loss_fn = nn.CrossEntropyLoss()"
   ]
  },
  {
   "cell_type": "code",
   "execution_count": 14,
   "id": "herbal-guinea",
   "metadata": {
    "scrolled": true
   },
   "outputs": [
    {
     "name": "stdout",
     "output_type": "stream",
     "text": [
      "Epoch 1/10\n",
      "----------\n",
      "train Loss: 4.0490 Acc: 0.0851\n",
      "val Loss: 3.6226 Acc: 0.1424\n",
      "\n",
      "Epoch 2/10\n",
      "----------\n",
      "train Loss: 3.4163 Acc: 0.1798\n",
      "val Loss: 3.1487 Acc: 0.2361\n",
      "\n",
      "Epoch 3/10\n",
      "----------\n",
      "train Loss: 3.0746 Acc: 0.2411\n",
      "val Loss: 2.8461 Acc: 0.2896\n",
      "\n",
      "Epoch 4/10\n",
      "----------\n",
      "train Loss: 2.8282 Acc: 0.2880\n",
      "val Loss: 2.6520 Acc: 0.3269\n",
      "\n",
      "Epoch 5/10\n",
      "----------\n",
      "train Loss: 2.6313 Acc: 0.3286\n",
      "val Loss: 2.4454 Acc: 0.3688\n",
      "\n",
      "Epoch 6/10\n",
      "----------\n",
      "train Loss: 2.4644 Acc: 0.3622\n",
      "val Loss: 2.3372 Acc: 0.3872\n",
      "\n",
      "Epoch 7/10\n",
      "----------\n",
      "train Loss: 2.3219 Acc: 0.3928\n",
      "val Loss: 2.2075 Acc: 0.4221\n",
      "\n",
      "Epoch 8/10\n",
      "----------\n",
      "train Loss: 2.2067 Acc: 0.4155\n",
      "val Loss: 2.1679 Acc: 0.4351\n",
      "\n",
      "Epoch 9/10\n",
      "----------\n",
      "train Loss: 2.1003 Acc: 0.4409\n",
      "val Loss: 2.0982 Acc: 0.4475\n",
      "\n",
      "Epoch 10/10\n",
      "----------\n",
      "train Loss: 1.9858 Acc: 0.4639\n",
      "val Loss: 2.0160 Acc: 0.4676\n",
      "\n",
      "Training complete in 2m 11s\n",
      "Best val Acc: 0.467600\n"
     ]
    }
   ],
   "source": [
    "dataloaders_dict = {'train': train_loader, 'val': val_loader}\n",
    "num_epochs = 10\n",
    "\n",
    "model_fit, val_acc_hist, val_loss_hist, train_acc_hist, train_loss_hist = train_model(model,\n",
    "                                                                                      dataloaders_dict,\n",
    "                                                                                      loss_fn,\n",
    "                                                                                      optimizer,\n",
    "                                                                                      num_epochs)"
   ]
  },
  {
   "cell_type": "code",
   "execution_count": 15,
   "id": "close-active",
   "metadata": {
    "scrolled": true
   },
   "outputs": [
    {
     "data": {
      "image/png": "[encoded data removed]",
      "text/plain": [
       "<Figure size 432x288 with 1 Axes>"
      ]
     },
     "metadata": {
      "needs_background": "light"
     },
     "output_type": "display_data"
    }
   ],
   "source": [
    "v_loss = [v for v in val_loss_hist]\n",
    "t_loss = [t for t in train_loss_hist]\n",
    "\n",
    "plt.title(\"Validation loss and training loss vs Number of Training Epochs\")\n",
    "plt.xlabel(\"Training Epochs\")\n",
    "plt.ylabel(\"Loss\")\n",
    "plt.plot(range(1, num_epochs+1), v_loss, label=\"Validation Loss\")\n",
    "plt.plot(range(1, num_epochs+1), t_loss, label=\"Training Loss\")\n",
    "# plt.ylim((0,1.))\n",
    "plt.xticks(np.arange(1, num_epochs+1, 1.0))\n",
    "plt.legend()\n",
    "plt.show()"
   ]
  },
  {
   "cell_type": "code",
   "execution_count": 16,
   "id": "czech-actress",
   "metadata": {
    "scrolled": true
   },
   "outputs": [
    {
     "name": "stdout",
     "output_type": "stream",
     "text": [
      "train\n",
      "<torch.utils.data.dataloader.DataLoader object at 0x00000293C9310B50>\n",
      "Accuracy train: 0.4971\n",
      "train: correct, total = 24855,50000\n",
      "val\n",
      "<torch.utils.data.dataloader.DataLoader object at 0x00000293E4BE70A0>\n",
      "Accuracy val: 0.4676\n",
      "val: correct, total = 4676,10000\n"
     ]
    }
   ],
   "source": [
    "validate(model, train_loader, val_loader)"
   ]
  },
  {
   "cell_type": "markdown",
   "id": "labeled-cartoon",
   "metadata": {},
   "source": [
    "## *Please restart the kernel to reset the model parameters and run the cells 1-13 again before running the below code*"
   ]
  },
  {
   "cell_type": "markdown",
   "id": "northern-dancing",
   "metadata": {},
   "source": [
    "#### 2. Adam, learning rate = 0.001"
   ]
  },
  {
   "cell_type": "code",
   "execution_count": 14,
   "id": "catholic-respect",
   "metadata": {},
   "outputs": [],
   "source": [
    "max_lr = 0.001\n",
    "\n",
    "weight_decay =1e-4\n",
    "optimizer = optim.Adam(model.parameters(), max_lr, weight_decay = weight_decay)\n",
    "scheduler = optim.lr_scheduler.ReduceLROnPlateau(optimizer,'min')\n",
    "loss_fn = nn.CrossEntropyLoss()"
   ]
  },
  {
   "cell_type": "code",
   "execution_count": 15,
   "id": "trained-macintosh",
   "metadata": {
    "scrolled": true
   },
   "outputs": [
    {
     "name": "stdout",
     "output_type": "stream",
     "text": [
      "Epoch 1/10\n",
      "----------\n",
      "train Loss: 3.8665 Acc: 0.0990\n",
      "val Loss: 3.3539 Acc: 0.1893\n",
      "\n",
      "Epoch 2/10\n",
      "----------\n",
      "train Loss: 3.2157 Acc: 0.2109\n",
      "val Loss: 3.0068 Acc: 0.2522\n",
      "\n",
      "Epoch 3/10\n",
      "----------\n",
      "train Loss: 2.8902 Acc: 0.2738\n",
      "val Loss: 2.7378 Acc: 0.3101\n",
      "\n",
      "Epoch 4/10\n",
      "----------\n",
      "train Loss: 2.6939 Acc: 0.3117\n",
      "val Loss: 2.5214 Acc: 0.3535\n",
      "\n",
      "Epoch 5/10\n",
      "----------\n",
      "train Loss: 2.5204 Acc: 0.3458\n",
      "val Loss: 2.3802 Acc: 0.3803\n",
      "\n",
      "Epoch 6/10\n",
      "----------\n",
      "train Loss: 2.3707 Acc: 0.3792\n",
      "val Loss: 2.3339 Acc: 0.3895\n",
      "\n",
      "Epoch 7/10\n",
      "----------\n",
      "train Loss: 2.2593 Acc: 0.4001\n",
      "val Loss: 2.2832 Acc: 0.4107\n",
      "\n",
      "Epoch 8/10\n",
      "----------\n",
      "train Loss: 2.1637 Acc: 0.4191\n",
      "val Loss: 2.2007 Acc: 0.4266\n",
      "\n",
      "Epoch 9/10\n",
      "----------\n",
      "train Loss: 2.0662 Acc: 0.4427\n",
      "val Loss: 2.1661 Acc: 0.4335\n",
      "\n",
      "Epoch 10/10\n",
      "----------\n",
      "train Loss: 1.9956 Acc: 0.4571\n",
      "val Loss: 2.0942 Acc: 0.4440\n",
      "\n",
      "Training complete in 2m 13s\n",
      "Best val Acc: 0.444000\n"
     ]
    }
   ],
   "source": [
    "dataloaders_dict = {'train': train_loader, 'val': val_loader}\n",
    "num_epochs = 10\n",
    "\n",
    "model_fit, val_acc_hist, val_loss_hist, train_acc_hist, train_loss_hist = train_model(model,\n",
    "                                                                                      dataloaders_dict,\n",
    "                                                                                      loss_fn,\n",
    "                                                                                      optimizer,\n",
    "                                                                                      num_epochs)"
   ]
  },
  {
   "cell_type": "code",
   "execution_count": 16,
   "id": "planned-shame",
   "metadata": {},
   "outputs": [
    {
     "data": {
      "image/png": "[encoded data removed]",
      "text/plain": [
       "<Figure size 432x288 with 1 Axes>"
      ]
     },
     "metadata": {
      "needs_background": "light"
     },
     "output_type": "display_data"
    }
   ],
   "source": [
    "v_loss = [v for v in val_loss_hist]\n",
    "t_loss = [t for t in train_loss_hist]\n",
    "\n",
    "plt.title(\"Validation loss and training loss vs Number of Training Epochs\")\n",
    "plt.xlabel(\"Training Epochs\")\n",
    "plt.ylabel(\"Loss\")\n",
    "plt.plot(range(1, num_epochs+1), v_loss, label=\"Validation Loss\")\n",
    "plt.plot(range(1, num_epochs+1), t_loss, label=\"Training Loss\")\n",
    "# plt.ylim((0,1.))\n",
    "plt.xticks(np.arange(1, num_epochs+1, 1.0))\n",
    "plt.legend()\n",
    "plt.show()"
   ]
  },
  {
   "cell_type": "code",
   "execution_count": 17,
   "id": "innocent-station",
   "metadata": {},
   "outputs": [
    {
     "name": "stdout",
     "output_type": "stream",
     "text": [
      "train\n",
      "<torch.utils.data.dataloader.DataLoader object at 0x000001C491EAB760>\n",
      "Accuracy train: 0.4815\n",
      "train: correct, total = 24074,50000\n",
      "val\n",
      "<torch.utils.data.dataloader.DataLoader object at 0x000001C49B216BE0>\n",
      "Accuracy val: 0.4440\n",
      "val: correct, total = 4440,10000\n"
     ]
    }
   ],
   "source": [
    "validate(model, train_loader, val_loader)"
   ]
  },
  {
   "cell_type": "markdown",
   "id": "literary-stack",
   "metadata": {},
   "source": [
    "## *Please restart the kernel to reset the model parameters and run the cells 1-13 again before running the below code*"
   ]
  },
  {
   "cell_type": "markdown",
   "id": "mediterranean-motivation",
   "metadata": {},
   "source": [
    "#### 3. Adam, learning rate = 0.0001, adding weight decay of 1e-4"
   ]
  },
  {
   "cell_type": "code",
   "execution_count": 14,
   "id": "superior-orleans",
   "metadata": {},
   "outputs": [],
   "source": [
    "max_lr = 0.0001\n",
    "weight_decay =1e-4\n",
    "optimizer = optim.Adam(model.parameters(), max_lr, weight_decay = weight_decay)\n",
    "scheduler = optim.lr_scheduler.ReduceLROnPlateau(optimizer,'min')\n",
    "loss_fn = nn.CrossEntropyLoss()"
   ]
  },
  {
   "cell_type": "code",
   "execution_count": 15,
   "id": "treated-latitude",
   "metadata": {
    "scrolled": true
   },
   "outputs": [
    {
     "name": "stdout",
     "output_type": "stream",
     "text": [
      "Epoch 1/10\n",
      "----------\n",
      "train Loss: 4.0090 Acc: 0.0920\n",
      "val Loss: 3.6797 Acc: 0.1419\n",
      "\n",
      "Epoch 2/10\n",
      "----------\n",
      "train Loss: 3.4661 Acc: 0.1755\n",
      "val Loss: 3.2899 Acc: 0.2135\n",
      "\n",
      "Epoch 3/10\n",
      "----------\n",
      "train Loss: 3.1901 Acc: 0.2231\n",
      "val Loss: 3.0536 Acc: 0.2567\n",
      "\n",
      "Epoch 4/10\n",
      "----------\n",
      "train Loss: 2.9952 Acc: 0.2608\n",
      "val Loss: 2.8948 Acc: 0.2884\n",
      "\n",
      "Epoch 5/10\n",
      "----------\n",
      "train Loss: 2.8723 Acc: 0.2863\n",
      "val Loss: 2.8237 Acc: 0.3027\n",
      "\n",
      "Epoch 6/10\n",
      "----------\n",
      "train Loss: 2.7641 Acc: 0.3060\n",
      "val Loss: 2.6852 Acc: 0.3281\n",
      "\n",
      "Epoch 7/10\n",
      "----------\n",
      "train Loss: 2.6568 Acc: 0.3279\n",
      "val Loss: 2.5747 Acc: 0.3486\n",
      "\n",
      "Epoch 8/10\n",
      "----------\n",
      "train Loss: 2.5705 Acc: 0.3459\n",
      "val Loss: 2.4850 Acc: 0.3695\n",
      "\n",
      "Epoch 9/10\n",
      "----------\n",
      "train Loss: 2.5005 Acc: 0.3603\n",
      "val Loss: 2.4905 Acc: 0.3657\n",
      "\n",
      "Epoch 10/10\n",
      "----------\n",
      "train Loss: 2.4326 Acc: 0.3772\n",
      "val Loss: 2.3917 Acc: 0.3832\n",
      "\n",
      "Training complete in 2m 12s\n",
      "Best val Acc: 0.383200\n"
     ]
    }
   ],
   "source": [
    "dataloaders_dict = {'train': train_loader, 'val': val_loader}\n",
    "num_epochs = 10\n",
    "\n",
    "model_fit, val_acc_hist, val_loss_hist, train_acc_hist, train_loss_hist = train_model(model,\n",
    "                                                                                      dataloaders_dict,\n",
    "                                                                                      loss_fn,\n",
    "                                                                                      optimizer,\n",
    "                                                                                      num_epochs)"
   ]
  },
  {
   "cell_type": "code",
   "execution_count": 16,
   "id": "modern-border",
   "metadata": {},
   "outputs": [
    {
     "data": {
      "image/png": "[encoded data removed]",
      "text/plain": [
       "<Figure size 432x288 with 1 Axes>"
      ]
     },
     "metadata": {
      "needs_background": "light"
     },
     "output_type": "display_data"
    }
   ],
   "source": [
    "v_loss = [v for v in val_loss_hist]\n",
    "t_loss = [t for t in train_loss_hist]\n",
    "\n",
    "plt.title(\"Validation loss and training loss vs Number of Training Epochs\")\n",
    "plt.xlabel(\"Training Epochs\")\n",
    "plt.ylabel(\"Loss\")\n",
    "plt.plot(range(1, num_epochs+1), v_loss, label=\"Validation Loss\")\n",
    "plt.plot(range(1, num_epochs+1), t_loss, label=\"Training Loss\")\n",
    "# plt.ylim((0,1.))\n",
    "plt.xticks(np.arange(1, num_epochs+1, 1.0))\n",
    "plt.legend()\n",
    "plt.show()"
   ]
  },
  {
   "cell_type": "code",
   "execution_count": 17,
   "id": "julian-trouble",
   "metadata": {},
   "outputs": [
    {
     "name": "stdout",
     "output_type": "stream",
     "text": [
      "train\n",
      "<torch.utils.data.dataloader.DataLoader object at 0x000002294F66A5B0>\n",
      "Accuracy train: 0.3904\n",
      "train: correct, total = 19521,50000\n",
      "val\n",
      "<torch.utils.data.dataloader.DataLoader object at 0x000002296AF304C0>\n",
      "Accuracy val: 0.3832\n",
      "val: correct, total = 3832,10000\n"
     ]
    }
   ],
   "source": [
    "validate(model, train_loader, val_loader)"
   ]
  },
  {
   "cell_type": "markdown",
   "id": "informative-borough",
   "metadata": {},
   "source": [
    "## *Please restart the kernel to reset the model parameters and run the cells 1-13 again before running the below code*"
   ]
  },
  {
   "cell_type": "markdown",
   "id": "muslim-assembly",
   "metadata": {},
   "source": [
    "#### 4. Adabound, learning rate = 0.001, adding weight decay of 1e-4"
   ]
  },
  {
   "cell_type": "code",
   "execution_count": 14,
   "id": "alien-international",
   "metadata": {},
   "outputs": [],
   "source": [
    "import adabound\n",
    "max_lr = 1e-3\n",
    "grad_clip = 0.1\n",
    "weight_decay =1e-4\n",
    "optimizer = adabound.AdaBound(model.parameters(), lr=1e-3, final_lr=0.1)\n",
    "\n",
    "scheduler = optim.lr_scheduler.ReduceLROnPlateau(optimizer,'min')\n",
    "loss_fn = nn.CrossEntropyLoss()"
   ]
  },
  {
   "cell_type": "code",
   "execution_count": 15,
   "id": "acknowledged-exemption",
   "metadata": {
    "scrolled": true
   },
   "outputs": [
    {
     "name": "stdout",
     "output_type": "stream",
     "text": [
      "Epoch 1/10\n",
      "----------\n"
     ]
    },
    {
     "name": "stderr",
     "output_type": "stream",
     "text": [
      "C:\\Users\\Anubhav\\anaconda3\\envs\\mypytorch\\lib\\site-packages\\adabound\\adabound.py:94: UserWarning: This overload of add_ is deprecated:\n",
      "\tadd_(Number alpha, Tensor other)\n",
      "Consider using one of the following signatures instead:\n",
      "\tadd_(Tensor other, *, Number alpha) (Triggered internally at  ..\\torch\\csrc\\utils\\python_arg_parser.cpp:882.)\n",
      "  exp_avg.mul_(beta1).add_(1 - beta1, grad)\n"
     ]
    },
    {
     "name": "stdout",
     "output_type": "stream",
     "text": [
      "train Loss: 3.8834 Acc: 0.0995\n",
      "val Loss: 3.4449 Acc: 0.1627\n",
      "\n",
      "Epoch 2/10\n",
      "----------\n",
      "train Loss: 3.2957 Acc: 0.1965\n",
      "val Loss: 3.0855 Acc: 0.2443\n",
      "\n",
      "Epoch 3/10\n",
      "----------\n",
      "train Loss: 3.0101 Acc: 0.2473\n",
      "val Loss: 2.8682 Acc: 0.2795\n",
      "\n",
      "Epoch 4/10\n",
      "----------\n",
      "train Loss: 2.8180 Acc: 0.2900\n",
      "val Loss: 2.6848 Acc: 0.3209\n",
      "\n",
      "Epoch 5/10\n",
      "----------\n",
      "train Loss: 2.6642 Acc: 0.3180\n",
      "val Loss: 2.5544 Acc: 0.3491\n",
      "\n",
      "Epoch 6/10\n",
      "----------\n",
      "train Loss: 2.5375 Acc: 0.3446\n",
      "val Loss: 2.4332 Acc: 0.3761\n",
      "\n",
      "Epoch 7/10\n",
      "----------\n",
      "train Loss: 2.4281 Acc: 0.3667\n",
      "val Loss: 2.3405 Acc: 0.3922\n",
      "\n",
      "Epoch 8/10\n",
      "----------\n",
      "train Loss: 2.3449 Acc: 0.3844\n",
      "val Loss: 2.3543 Acc: 0.3920\n",
      "\n",
      "Epoch 9/10\n",
      "----------\n",
      "train Loss: 2.2611 Acc: 0.4041\n",
      "val Loss: 2.2584 Acc: 0.4120\n",
      "\n",
      "Epoch 10/10\n",
      "----------\n",
      "train Loss: 2.1654 Acc: 0.4270\n",
      "val Loss: 2.1998 Acc: 0.4268\n",
      "\n",
      "Training complete in 2m 14s\n",
      "Best val Acc: 0.426800\n"
     ]
    }
   ],
   "source": [
    "dataloaders_dict = {'train': train_loader, 'val': val_loader}\n",
    "num_epochs = 10\n",
    "\n",
    "model_fit, val_acc_hist, val_loss_hist, train_acc_hist, train_loss_hist = train_model(model,\n",
    "                                                                                      dataloaders_dict,\n",
    "                                                                                      loss_fn,\n",
    "                                                                                      optimizer,\n",
    "                                                                                      num_epochs)"
   ]
  },
  {
   "cell_type": "code",
   "execution_count": 14,
   "id": "passing-simpson",
   "metadata": {},
   "outputs": [],
   "source": []
  },
  {
   "cell_type": "code",
   "execution_count": 16,
   "id": "potential-tutorial",
   "metadata": {},
   "outputs": [
    {
     "data": {
      "image/png": "[encoded data removed]",
      "text/plain": [
       "<Figure size 432x288 with 1 Axes>"
      ]
     },
     "metadata": {
      "needs_background": "light"
     },
     "output_type": "display_data"
    }
   ],
   "source": [
    "v_loss = [v for v in val_loss_hist]\n",
    "t_loss = [t for t in train_loss_hist]\n",
    "\n",
    "plt.title(\"Validation loss and training loss vs Number of Training Epochs\")\n",
    "plt.xlabel(\"Training Epochs\")\n",
    "plt.ylabel(\"Loss\")\n",
    "plt.plot(range(1, num_epochs+1), v_loss, label=\"Validation Loss\")\n",
    "plt.plot(range(1, num_epochs+1), t_loss, label=\"Training Loss\")\n",
    "# plt.ylim((0,1.))\n",
    "plt.xticks(np.arange(1, num_epochs+1, 1.0))\n",
    "plt.legend()\n",
    "plt.show()"
   ]
  },
  {
   "cell_type": "code",
   "execution_count": 17,
   "id": "light-pittsburgh",
   "metadata": {},
   "outputs": [
    {
     "name": "stdout",
     "output_type": "stream",
     "text": [
      "train\n",
      "<torch.utils.data.dataloader.DataLoader object at 0x000001637FB3D1F0>\n",
      "Accuracy train: 0.4551\n",
      "train: correct, total = 22753,50000\n",
      "val\n",
      "<torch.utils.data.dataloader.DataLoader object at 0x000001630F307760>\n",
      "Accuracy val: 0.4268\n",
      "val: correct, total = 4268,10000\n"
     ]
    }
   ],
   "source": [
    "validate(model, train_loader, val_loader)"
   ]
  },
  {
   "cell_type": "code",
   "execution_count": null,
   "id": "unlikely-depth",
   "metadata": {},
   "outputs": [],
   "source": []
  }
 ],
 "metadata": {
  "kernelspec": {
   "display_name": "mypytorch",
   "language": "python",
   "name": "mypytorch"
  },
  "language_info": {
   "codemirror_mode": {
    "name": "ipython",
    "version": 3
   },
   "file_extension": ".py",
   "mimetype": "text/x-python",
   "name": "python",
   "nbconvert_exporter": "python",
   "pygments_lexer": "ipython3",
   "version": "3.8.5"
  }
 },
 "nbformat": 4,
 "nbformat_minor": 5
}
