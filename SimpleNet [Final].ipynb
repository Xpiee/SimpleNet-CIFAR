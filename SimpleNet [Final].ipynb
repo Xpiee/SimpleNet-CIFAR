{
 "cells": [
  {
   "cell_type": "code",
   "execution_count": 1,
   "id": "floppy-treasurer",
   "metadata": {},
   "outputs": [
    {
     "data": {
      "text/plain": [
       "True"
      ]
     },
     "execution_count": 1,
     "metadata": {},
     "output_type": "execute_result"
    }
   ],
   "source": [
    "import torch\n",
    "torch.cuda.is_available()"
   ]
  },
  {
   "cell_type": "code",
   "execution_count": 2,
   "id": "blond-system",
   "metadata": {},
   "outputs": [
    {
     "name": "stdout",
     "output_type": "stream",
     "text": [
      "3.8.5 (default, Sep  3 2020, 21:29:08) [MSC v.1916 64 bit (AMD64)]\n"
     ]
    }
   ],
   "source": [
    "import sys\n",
    "print(sys.version)"
   ]
  },
  {
   "cell_type": "code",
   "execution_count": 3,
   "id": "inner-credit",
   "metadata": {},
   "outputs": [],
   "source": [
    "import numpy as np\n",
    "import pandas as pd\n",
    "import torch.nn.functional as F\n",
    "import torch.nn as nn\n",
    "import torch.optim as optim\n",
    "import torchvision.transforms as transforms\n",
    "import matplotlib.pyplot as plt\n",
    "import datetime\n",
    "import os\n",
    "import torchvision\n",
    "import time\n",
    "import copy\n",
    "from torch.utils.tensorboard import SummaryWriter"
   ]
  },
  {
   "cell_type": "code",
   "execution_count": 4,
   "id": "welsh-sound",
   "metadata": {},
   "outputs": [
    {
     "data": {
      "text/plain": [
       "'1.7.1+cu110'"
      ]
     },
     "execution_count": 4,
     "metadata": {},
     "output_type": "execute_result"
    }
   ],
   "source": [
    "torch.__version__"
   ]
  },
  {
   "cell_type": "code",
   "execution_count": 5,
   "id": "arabic-baseball",
   "metadata": {},
   "outputs": [],
   "source": [
    "from torchvision.datasets import CIFAR100\n",
    "from torch.utils.data import DataLoader"
   ]
  },
  {
   "cell_type": "code",
   "execution_count": 6,
   "id": "demonstrated-oasis",
   "metadata": {},
   "outputs": [],
   "source": [
    "train_transform = transforms.Compose([transforms.ToTensor(), transforms.Resize(size=(227, 227))])\n",
    "valid_transform = train_transform"
   ]
  },
  {
   "cell_type": "code",
   "execution_count": 7,
   "id": "dental-snapshot",
   "metadata": {},
   "outputs": [
    {
     "name": "stdout",
     "output_type": "stream",
     "text": [
      "Files already downloaded and verified\n",
      "Files already downloaded and verified\n"
     ]
    }
   ],
   "source": [
    "train_set = CIFAR100('./data/cifar100', train=True,\n",
    "                  download=True, transform=train_transform)\n",
    "valid_set = CIFAR100('./data/cifar100', train=False,\n",
    "                  download=True, transform=valid_transform)"
   ]
  },
  {
   "cell_type": "code",
   "execution_count": 8,
   "id": "certain-circulation",
   "metadata": {},
   "outputs": [],
   "source": [
    "train_loader = torch.utils.data.DataLoader(train_set, batch_size=128, shuffle=True)\n",
    "val_loader = torch.utils.data.DataLoader(valid_set, batch_size=128, shuffle=False)"
   ]
  },
  {
   "cell_type": "code",
   "execution_count": 9,
   "id": "military-example",
   "metadata": {},
   "outputs": [],
   "source": [
    "class SimpleNet(nn.Module):\n",
    "    def __init__(self):\n",
    "        super(SimpleNet, self).__init__()\n",
    "        \n",
    "        self.layer1 = nn.Conv2d(in_channels = 3, out_channels = 64, kernel_size = 5,\n",
    "                                stride = 2, padding = 2)\n",
    "        self.layer2 = nn.Conv2d(in_channels = 64, out_channels = 128, kernel_size = 5, \n",
    "                               stride = 2, padding = 2)\n",
    "        self.layer3 = nn.Conv2d(in_channels = 128, out_channels = 256, kernel_size = 5, \n",
    "                               stride = 2, padding = 2)\n",
    "        self.mxpool = nn.MaxPool2d(2, 2)\n",
    "        self.mxpool1 = nn.MaxPool2d(2, 2, padding = 1)\n",
    "        self.relu = nn.ReLU() # not used # instead used relu from Functional 'F' directly\n",
    "        self.linear1 = nn.Linear(4096, 1024)\n",
    "        self.linear2 = nn.Linear(1024, 1024)\n",
    "        self.linear3 = nn.Linear(1024, 100)\n",
    "        \n",
    "    def forward(self, x):\n",
    "        x = F.relu(self.layer1(x))\n",
    "        x = self.mxpool(x)\n",
    "        x = F.relu(self.layer2(x))\n",
    "        x = self.mxpool1(x)\n",
    "        x = F.relu(self.layer3(x))\n",
    "        x = self.mxpool(x)\n",
    "        \n",
    "        x = x.reshape(x.shape[0], -1)\n",
    "        x = F.relu(self.linear1(x))\n",
    "        x = F.relu(self.linear2(x))\n",
    "        x = self.linear3(x) # using nn.CrossEntropy() that combines nn.LogSoftmax() and nn.NLLLoss() in one single class\n",
    "        return x"
   ]
  },
  {
   "cell_type": "code",
   "execution_count": 10,
   "id": "intensive-scope",
   "metadata": {},
   "outputs": [
    {
     "data": {
      "text/plain": [
       "SimpleNet(\n",
       "  (layer1): Conv2d(3, 64, kernel_size=(5, 5), stride=(2, 2), padding=(2, 2))\n",
       "  (layer2): Conv2d(64, 128, kernel_size=(5, 5), stride=(2, 2), padding=(2, 2))\n",
       "  (layer3): Conv2d(128, 256, kernel_size=(5, 5), stride=(2, 2), padding=(2, 2))\n",
       "  (mxpool): MaxPool2d(kernel_size=2, stride=2, padding=0, dilation=1, ceil_mode=False)\n",
       "  (mxpool1): MaxPool2d(kernel_size=2, stride=2, padding=1, dilation=1, ceil_mode=False)\n",
       "  (relu): ReLU()\n",
       "  (linear1): Linear(in_features=4096, out_features=1024, bias=True)\n",
       "  (linear2): Linear(in_features=1024, out_features=1024, bias=True)\n",
       "  (linear3): Linear(in_features=1024, out_features=100, bias=True)\n",
       ")"
      ]
     },
     "execution_count": 10,
     "metadata": {},
     "output_type": "execute_result"
    }
   ],
   "source": [
    "device = 'cuda'\n",
    "model = SimpleNet()\n",
    "model.to(device)"
   ]
  },
  {
   "cell_type": "code",
   "execution_count": 11,
   "id": "rocky-sustainability",
   "metadata": {},
   "outputs": [
    {
     "name": "stdout",
     "output_type": "stream",
     "text": [
      "----------------------------------------------------------------\n",
      "        Layer (type)               Output Shape         Param #\n",
      "================================================================\n",
      "            Conv2d-1         [-1, 64, 114, 114]           4,864\n",
      "         MaxPool2d-2           [-1, 64, 57, 57]               0\n",
      "            Conv2d-3          [-1, 128, 29, 29]         204,928\n",
      "         MaxPool2d-4          [-1, 128, 15, 15]               0\n",
      "            Conv2d-5            [-1, 256, 8, 8]         819,456\n",
      "         MaxPool2d-6            [-1, 256, 4, 4]               0\n",
      "            Linear-7                 [-1, 1024]       4,195,328\n",
      "            Linear-8                 [-1, 1024]       1,049,600\n",
      "            Linear-9                  [-1, 100]         102,500\n",
      "================================================================\n",
      "Total params: 6,376,676\n",
      "Trainable params: 6,376,676\n",
      "Non-trainable params: 0\n",
      "----------------------------------------------------------------\n",
      "Input size (MB): 0.59\n",
      "Forward/backward pass size (MB): 9.15\n",
      "Params size (MB): 24.33\n",
      "Estimated Total Size (MB): 34.06\n",
      "----------------------------------------------------------------\n"
     ]
    }
   ],
   "source": [
    "from torchsummary import summary\n",
    "input_shape = (3, 227, 227)\n",
    "summary(model, input_shape)"
   ]
  },
  {
   "cell_type": "code",
   "execution_count": 12,
   "id": "expensive-birth",
   "metadata": {},
   "outputs": [
    {
     "name": "stdout",
     "output_type": "stream",
     "text": [
      "torch.Size([3, 227, 227])\n",
      "19\n"
     ]
    }
   ],
   "source": [
    "for imgs, target in train_set:\n",
    "    print(imgs.shape)\n",
    "    print(target)\n",
    "    break"
   ]
  },
  {
   "cell_type": "code",
   "execution_count": 13,
   "id": "conditional-packet",
   "metadata": {},
   "outputs": [],
   "source": [
    "optimizer = optim.SGD(model.parameters(), lr=0.01, momentum=0.9, nesterov=True)\n",
    "scheduler = optim.lr_scheduler.ReduceLROnPlateau(optimizer,'min')\n",
    "loss_fn = nn.CrossEntropyLoss()"
   ]
  },
  {
   "cell_type": "code",
   "execution_count": 14,
   "id": "assisted-chuck",
   "metadata": {},
   "outputs": [],
   "source": [
    "# Initialize the weights of layers.\n",
    "def init_weights(m):\n",
    "    if type(m) == nn.Linear:\n",
    "        torch.nn.init.xavier_uniform_(m.weight)\n",
    "        m.bias.data.fill_(0.01)"
   ]
  },
  {
   "cell_type": "code",
   "execution_count": 15,
   "id": "eight-accident",
   "metadata": {},
   "outputs": [
    {
     "data": {
      "text/plain": [
       "SimpleNet(\n",
       "  (layer1): Conv2d(3, 64, kernel_size=(5, 5), stride=(2, 2), padding=(2, 2))\n",
       "  (layer2): Conv2d(64, 128, kernel_size=(5, 5), stride=(2, 2), padding=(2, 2))\n",
       "  (layer3): Conv2d(128, 256, kernel_size=(5, 5), stride=(2, 2), padding=(2, 2))\n",
       "  (mxpool): MaxPool2d(kernel_size=2, stride=2, padding=0, dilation=1, ceil_mode=False)\n",
       "  (mxpool1): MaxPool2d(kernel_size=2, stride=2, padding=1, dilation=1, ceil_mode=False)\n",
       "  (relu): ReLU()\n",
       "  (linear1): Linear(in_features=4096, out_features=1024, bias=True)\n",
       "  (linear2): Linear(in_features=1024, out_features=1024, bias=True)\n",
       "  (linear3): Linear(in_features=1024, out_features=100, bias=True)\n",
       ")"
      ]
     },
     "execution_count": 15,
     "metadata": {},
     "output_type": "execute_result"
    }
   ],
   "source": [
    "model.apply(init_weights)"
   ]
  },
  {
   "cell_type": "code",
   "execution_count": 16,
   "id": "union-citizenship",
   "metadata": {},
   "outputs": [],
   "source": [
    "def train_model(model, dataloaders, criterion, optimizer, num_epochs=25):\n",
    "    since = time.time()\n",
    "\n",
    "    val_acc_history, val_loss_history = [], []\n",
    "    train_acc_history, train_loss_history = [], []\n",
    "\n",
    "    best_model_wts = copy.deepcopy(model.state_dict())\n",
    "    best_acc = 0.0\n",
    "    loss_train = 0.0\n",
    "\n",
    "    for epoch in range(1, num_epochs + 1):\n",
    "        print('Epoch {}/{}'.format(epoch, num_epochs))\n",
    "        print('-' * 10)\n",
    "\n",
    "        # Each epoch has a training and validation phase\n",
    "        for phase in ['train', 'val']:\n",
    "            if phase == 'train':\n",
    "                model.train()  # Set model to training mode\n",
    "            else:\n",
    "                model.eval()   # Set model to evaluate mode\n",
    "\n",
    "            running_loss = 0.0\n",
    "            running_corrects = 0\n",
    "\n",
    "            # Iterate over data.\n",
    "            for inputs, labels in dataloaders[phase]:\n",
    "                inputs = inputs.to(device)\n",
    "                labels = labels.to(device)\n",
    "\n",
    "                # zero the parameter gradients\n",
    "                optimizer.zero_grad()\n",
    "\n",
    "                # forward\n",
    "                # track history if only in train\n",
    "                with torch.set_grad_enabled(phase == 'train'):\n",
    "                    # Get model outputs and calculate loss\n",
    "                    outputs = model(inputs)\n",
    "                    loss = criterion(outputs, labels)\n",
    "                    _, preds = torch.max(outputs, 1)\n",
    "\n",
    "                    # backward + optimize only if in training phase\n",
    "                    if phase == 'train':\n",
    "                        loss.backward()\n",
    "                        optimizer.step()\n",
    "                        loss_train += loss.item()\n",
    "\n",
    "                # statistics\n",
    "                running_loss += loss.item() * inputs.size(0)\n",
    "                running_corrects += torch.sum(preds == labels.data)\n",
    "\n",
    "            epoch_loss = running_loss / len(dataloaders[phase].dataset)\n",
    "            epoch_acc = running_corrects.double() / len(dataloaders[phase].dataset)\n",
    "\n",
    "            print('{} Loss: {:.4f} Acc: {:.4f}'.format(phase, epoch_loss, epoch_acc))\n",
    "            \n",
    "            # deep copy the model\n",
    "            if phase == 'val' and epoch_acc > best_acc:\n",
    "                best_acc = epoch_acc\n",
    "                best_model_wts = copy.deepcopy(model.state_dict())\n",
    "            if phase == 'val':\n",
    "                val_acc_history.append(epoch_acc)\n",
    "                val_loss_history.append(epoch_loss)\n",
    "            if phase == 'train':\n",
    "                train_acc_history.append(epoch_acc)\n",
    "                train_loss_history.append(epoch_loss)\n",
    "                \n",
    "        # decreasing learning rate with the epochs\n",
    "        scheduler.step(loss_train)\n",
    "        print()\n",
    "\n",
    "    time_elapsed = time.time() - since\n",
    "    print('Training complete in {:.0f}m {:.0f}s'.format(time_elapsed // 60, time_elapsed % 60))\n",
    "    print('Best val Acc: {:4f}'.format(best_acc))\n",
    "\n",
    "    # load best model weights\n",
    "    model.load_state_dict(best_model_wts)\n",
    "    return model, val_acc_history, val_loss_history, train_acc_history, train_loss_history "
   ]
  },
  {
   "cell_type": "code",
   "execution_count": 17,
   "id": "herbal-guinea",
   "metadata": {
    "scrolled": true
   },
   "outputs": [
    {
     "name": "stdout",
     "output_type": "stream",
     "text": [
      "Epoch 1/10\n",
      "----------\n",
      "train Loss: 4.1276 Acc: 0.0734\n",
      "val Loss: 3.8129 Acc: 0.1176\n",
      "\n",
      "Epoch 2/10\n",
      "----------\n",
      "train Loss: 3.4300 Acc: 0.1824\n",
      "val Loss: 3.2223 Acc: 0.2164\n",
      "\n",
      "Epoch 3/10\n",
      "----------\n",
      "train Loss: 2.9727 Acc: 0.2648\n",
      "val Loss: 2.9602 Acc: 0.2694\n",
      "\n",
      "Epoch 4/10\n",
      "----------\n",
      "train Loss: 2.6263 Acc: 0.3359\n",
      "val Loss: 2.7138 Acc: 0.3199\n",
      "\n",
      "Epoch 5/10\n",
      "----------\n",
      "train Loss: 2.3217 Acc: 0.3965\n",
      "val Loss: 2.5907 Acc: 0.3551\n",
      "\n",
      "Epoch 6/10\n",
      "----------\n",
      "train Loss: 2.0301 Acc: 0.4614\n",
      "val Loss: 2.5282 Acc: 0.3717\n",
      "\n",
      "Epoch 7/10\n",
      "----------\n",
      "train Loss: 1.7291 Acc: 0.5312\n",
      "val Loss: 2.5179 Acc: 0.3870\n",
      "\n",
      "Epoch 8/10\n",
      "----------\n",
      "train Loss: 1.4091 Acc: 0.6084\n",
      "val Loss: 2.6330 Acc: 0.3815\n",
      "\n",
      "Epoch 9/10\n",
      "----------\n",
      "train Loss: 1.0834 Acc: 0.6876\n",
      "val Loss: 2.8996 Acc: 0.3888\n",
      "\n",
      "Epoch 10/10\n",
      "----------\n",
      "train Loss: 0.7972 Acc: 0.7614\n",
      "val Loss: 3.2814 Acc: 0.3697\n",
      "\n",
      "Training complete in 9m 56s\n",
      "Best val Acc: 0.388800\n"
     ]
    }
   ],
   "source": [
    "dataloaders_dict = {'train': train_loader, 'val': val_loader}\n",
    "num_epochs = 10\n",
    "\n",
    "model_fit, val_acc_hist, val_loss_hist, train_acc_hist, train_loss_hist = train_model(model,\n",
    "                                                                                      dataloaders_dict,\n",
    "                                                                                      loss_fn,\n",
    "                                                                                      optimizer,\n",
    "                                                                                      num_epochs)"
   ]
  },
  {
   "cell_type": "code",
   "execution_count": 21,
   "id": "cloudy-junction",
   "metadata": {},
   "outputs": [],
   "source": [
    "v_loss = [v for v in val_loss_hist]\n",
    "t_loss = [t for t in train_loss_hist]"
   ]
  },
  {
   "cell_type": "code",
   "execution_count": 22,
   "id": "close-active",
   "metadata": {
    "scrolled": true
   },
   "outputs": [
    {
     "data": {
      "image/png": "[encoded data removed]",
      "text/plain": [
       "<Figure size 432x288 with 1 Axes>"
      ]
     },
     "metadata": {
      "needs_background": "light"
     },
     "output_type": "display_data"
    }
   ],
   "source": [
    "plt.title(\"Validation loss and training loss vs Number of Training Epochs\")\n",
    "plt.xlabel(\"Training Epochs\")\n",
    "plt.ylabel(\"Loss\")\n",
    "plt.plot(range(1, num_epochs+1), v_loss, label=\"Validation Loss\")\n",
    "plt.plot(range(1, num_epochs+1), t_loss, label=\"Training Loss\")\n",
    "# plt.ylim((0,1.))\n",
    "plt.xticks(np.arange(1, num_epochs+1, 1.0))\n",
    "plt.legend()\n",
    "plt.show()"
   ]
  },
  {
   "cell_type": "code",
   "execution_count": 20,
   "id": "oriental-rebecca",
   "metadata": {},
   "outputs": [],
   "source": [
    "# validate the training on validation set\n",
    "def validate(model, train_loader, val_loader):\n",
    "    for name, loader in [('train', train_loader), ('val', val_loader)]:\n",
    "        correct = 0\n",
    "        total = 0\n",
    "        print(name)\n",
    "        print(loader)\n",
    "        with torch.no_grad():\n",
    "            for imgs, labels in loader:\n",
    "                imgs = imgs.to(device=device)\n",
    "                labels = labels.to(device=device)\n",
    "                \n",
    "                y = model(imgs)\n",
    "                _, predicted = torch.max(y, dim=1)\n",
    "                total += labels.shape[0]\n",
    "                correct += int((predicted == labels).sum())\n",
    "        print(\"Accuracy {}: {:.2f}\".format(name, correct/total))\n",
    "        print(\"{}: correct, total = {},{}\".format(name, correct, total))"
   ]
  },
  {
   "cell_type": "code",
   "execution_count": 22,
   "id": "czech-actress",
   "metadata": {
    "scrolled": true
   },
   "outputs": [
    {
     "name": "stdout",
     "output_type": "stream",
     "text": [
      "train\n",
      "<torch.utils.data.dataloader.DataLoader object at 0x0000026A605EF0A0>\n",
      "Accuracy train: 0.66\n",
      "train: correct, total = 32995,50000\n",
      "val\n",
      "<torch.utils.data.dataloader.DataLoader object at 0x0000026A605EF040>\n",
      "Accuracy val: 0.37\n",
      "val: correct, total = 3707,10000\n"
     ]
    }
   ],
   "source": [
    "validate(model, train_loader, val_loader)"
   ]
  },
  {
   "cell_type": "code",
   "execution_count": null,
   "id": "capital-renewal",
   "metadata": {},
   "outputs": [],
   "source": []
  }
 ],
 "metadata": {
  "kernelspec": {
   "display_name": "mypytorch",
   "language": "python",
   "name": "mypytorch"
  },
  "language_info": {
   "codemirror_mode": {
    "name": "ipython",
    "version": 3
   },
   "file_extension": ".py",
   "mimetype": "text/x-python",
   "name": "python",
   "nbconvert_exporter": "python",
   "pygments_lexer": "ipython3",
   "version": "3.8.5"
  }
 },
 "nbformat": 4,
 "nbformat_minor": 5
}
